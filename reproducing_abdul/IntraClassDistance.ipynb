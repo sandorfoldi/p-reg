{
  "cells": [
    {
      "cell_type": "markdown",
      "metadata": {
        "id": "pem82y_88n7K"
      },
      "source": [
        "# Initialization"
      ]
    },
    {
      "cell_type": "markdown",
      "metadata": {
        "id": "Mar8dDRINAuk"
      },
      "source": [
        "\n",
        "## Set Global Variables\n"
      ]
    },
    {
      "cell_type": "code",
      "execution_count": 25,
      "metadata": {
        "id": "VG-tmnjDHJgr"
      },
      "outputs": [],
      "source": [
        "# set system\n",
        "import sys\n",
        "IN_COLAB = 'google.colab' in sys.modules\n",
        "ABDUL_G_DRIVE = False\n",
        "\n",
        "# set torch device\n",
        "import torch \n",
        "device = torch.device('cuda' if torch.cuda.is_available() else 'cpu')"
      ]
    },
    {
      "cell_type": "markdown",
      "metadata": {
        "id": "fHk3pCsSNXnd"
      },
      "source": [
        "## Initialize Colab:"
      ]
    },
    {
      "cell_type": "markdown",
      "metadata": {
        "id": "wQXFm71QOTRP"
      },
      "source": [
        "### Connect to Drive"
      ]
    },
    {
      "cell_type": "code",
      "execution_count": 26,
      "metadata": {
        "colab": {
          "base_uri": "https://localhost:8080/"
        },
        "id": "EZTcdMFXVtMN",
        "outputId": "def30875-2375-4825-b743-3621647bcb5f"
      },
      "outputs": [],
      "source": [
        "# connect to drive\n",
        "if IN_COLAB:\n",
        "  from google.colab import drive\n",
        "  drive.mount('/content/gdrive')\n",
        "\n",
        "  # set project path from drive\n",
        "  if ABDUL_G_DRIVE:\n",
        "    project_path = \"/content/gdrive/MyDrive/00 Projects/AML\"\n",
        "    %cd -q $project_path \n",
        "    !pwd"
      ]
    },
    {
      "cell_type": "markdown",
      "metadata": {
        "id": "6MKW9Pf3N4hL"
      },
      "source": [
        "### Install PyG in Colab "
      ]
    },
    {
      "cell_type": "code",
      "execution_count": 27,
      "metadata": {
        "colab": {
          "base_uri": "https://localhost:8080/"
        },
        "id": "e948Qm5iLAKK",
        "outputId": "5abb9b6a-88ba-4f51-ea98-adc6e5b6880a"
      },
      "outputs": [],
      "source": [
        "# define dynamic function to install pyg\n",
        "def install_pyg():\n",
        "    try:\n",
        "        import torch_geometric\n",
        "    except:\n",
        "        TORCH = torch.__version__.split('+')[0]\n",
        "        CUDA = 'cu' + torch.version.cuda.replace('.', '')\n",
        "        !pip install torch-scatter     -q -f https://pytorch-geometric.com/whl/torch-{TORCH}+{CUDA}.html\n",
        "        !pip install torch-sparse      -q -f https://pytorch-geometric.com/whl/torch-{TORCH}+{CUDA}.html\n",
        "        !pip install torch-cluster     -q -f https://pytorch-geometric.com/whl/torch-{TORCH}+{CUDA}.html\n",
        "        !pip install torch-spline-conv -q -f https://pytorch-geometric.com/whl/torch-{TORCH}+{CUDA}.html\n",
        "        !pip install torch-geometric   -q\n",
        "\n",
        "# install\n",
        "if IN_COLAB: install_pyg()"
      ]
    },
    {
      "cell_type": "markdown",
      "metadata": {
        "id": "Z1Q3lQ4jOoAt"
      },
      "source": [
        "## Load Dependencies"
      ]
    },
    {
      "cell_type": "code",
      "execution_count": 28,
      "metadata": {
        "id": "-StflntjuCWd"
      },
      "outputs": [],
      "source": [
        "# src \n",
        "from models import MLP, GCN, GAT\n",
        "from random_split import random_split\n",
        "from p_reg_loss import A_hat_computations, p_reg_loss\n",
        "from lap_loss import lap_loss\n",
        "from cp_loss import cp_loss\n",
        "from helper import visualize_Atlas, visualize_TSNE, visualize_CM, print_dataset, print_data\n",
        "from utils import report_vis\n",
        "from utils import report_stats\n",
        "\n",
        "from evaluate_model import acc, icd0, icd1, icd2, icd3, icd4\n",
        "\n",
        "# packages\n",
        "import torch\n",
        "from torch_geometric.datasets import Planetoid\n",
        "from torch_geometric.transforms import NormalizeFeatures\n",
        "from sklearn.metrics import mean_squared_error, roc_auc_score, accuracy_score\n",
        "import numpy as np \n",
        "import matplotlib.pyplot as plt\n",
        "import seaborn as sns\n",
        "\n",
        "sns.set()\n",
        "import time"
      ]
    },
    {
      "cell_type": "markdown",
      "metadata": {
        "id": "xW5eN_FL8iVk"
      },
      "source": [
        "# Train, Test and Evaluation functions"
      ]
    },
    {
      "cell_type": "markdown",
      "metadata": {
        "id": "l5fcJFQlNmDU"
      },
      "source": [
        "### Train function"
      ]
    },
    {
      "cell_type": "code",
      "execution_count": 29,
      "metadata": {
        "id": "2IrYVnKdTpoe"
      },
      "outputs": [],
      "source": [
        "def make_l_abdul(l_1, l_2, mu, p_reg_dict):\n",
        "    def loss_fn(data, Z):\n",
        "        loss_1 = l_1(Z[data.train_mask], data.y[data.train_mask])  # Compute the loss solely based on the training nodes.\n",
        "        loss_2 = 0\n",
        "        if mu > 0:\n",
        "            loss_2 = l_2(Z, \n",
        "                            p_reg_dict['A_hat'], \n",
        "                            p_reg_dict['A_hat_mask'], \n",
        "                            p_reg_dict['N'], \n",
        "                            phi = p_reg_dict['phi'])\n",
        "        loss = loss_1 + mu * loss_2 \n",
        "        return loss\n",
        "    return loss_fn\n",
        "\n",
        "\n",
        "# Train func\n",
        "def train(loss_fn, model, optimizer, criterion, data, mu, p_reg_dict=None, num_epochs=200):\n",
        "    for i in range(num_epochs):\n",
        "        model.train()\n",
        "        optimizer.zero_grad()  # Clear gradients.\n",
        "        _, Z = model(data)     # Perform a single forward pass.    \n",
        "        loss = loss_fn(data, Z)\n",
        "        loss.backward()  # Derive gradients.\n",
        "        optimizer.step()  # Update parameters based on gradients.\n",
        "    return loss, Z"
      ]
    },
    {
      "cell_type": "markdown",
      "metadata": {},
      "source": [
        "## SAF things\n"
      ]
    },
    {
      "cell_type": "code",
      "execution_count": 30,
      "metadata": {},
      "outputs": [],
      "source": [
        "\n",
        "def train_with_loss(model, data, loss_fn, lr=0.01, weight_decay=5e-4, num_epochs=100, beta=0.01):\n",
        "    \"\"\" \n",
        "    Train model using given loss function\n",
        "    Loss function must have the following structure:\n",
        "    def loss(data: from torch_geometric.data import Data, pred: torch.tensor([num_nodes, num_classes])) -> scalar value\n",
        "\n",
        "    \"\"\"\n",
        "\n",
        "    optimizer = torch.optim.Adam(model.parameters(), lr=lr, weight_decay=weight_decay)\n",
        "\n",
        "    model.train()\n",
        "\n",
        "    for epoch in range(num_epochs):\n",
        "        optimizer.zero_grad()\n",
        "\n",
        "        Z = model(data)\n",
        "\n",
        "        loss = loss_fn(data, Z)\n",
        "\n",
        "        loss.backward()\n",
        "        optimizer.step()\n",
        "    \n",
        "    return model # not sure if inplace would work"
      ]
    },
    {
      "cell_type": "markdown",
      "metadata": {
        "id": "Xb0irwn0PJo7"
      },
      "source": [
        "## Evaluation function"
      ]
    },
    {
      "cell_type": "code",
      "execution_count": 31,
      "metadata": {
        "id": "elGSgTWcTtyA"
      },
      "outputs": [],
      "source": [
        "def evaluation( A = None, # int \n",
        "                B = None, # int \n",
        "                seed = None, # float \n",
        "                mus = None, # float list \n",
        "                seeds = None, # float list \n",
        "                reg_loss = None, # str: 'p_reg', 'lap_reg', 'cp_reg', 'no_reg' \n",
        "                p_reg_phi = 'cross_entropy', # str: 'cross_entropy', 'squared_error', 'kl_divergence' #####################\n",
        "                epochs = 200, # int\n",
        "                verbose = True # boolean\n",
        "                ):\n",
        "\n",
        "    # evaluation Storage\n",
        "    metrics = []\n",
        "    \n",
        "    # define dataset\n",
        "    dataset = Planetoid(root=f'/tmp/Cora', name='Cora', transform=NormalizeFeatures())\n",
        "    \n",
        "    # define data\n",
        "    data = dataset[0].to(device)\n",
        "\n",
        "    # Calculate A_hat as it's training invariant \n",
        "    A_hat, A_hat_mask, N = A_hat_computations(data)\n",
        "    \n",
        "    p_reg_dict = {\n",
        "        'A_hat': A_hat, \n",
        "        'A_hat_mask': A_hat_mask, \n",
        "        'N': N, \n",
        "        'phi': p_reg_phi}  \n",
        "\n",
        "    # loop over params\n",
        "    for mu in mus:\n",
        "        \n",
        "        # define MOC\n",
        "        model = GCN(dataset,\n",
        "                    hidden_channels=64, \n",
        "                    seed = 0 if seed is None else seed).to(device)\n",
        "        optimizer = torch.optim.Adam(model.parameters(), lr=0.01, weight_decay=5e-4)\n",
        "        criterion = torch.nn.CrossEntropyLoss()\n",
        "                \n",
        "        \"\"\"def l_abdul(data, Z):\n",
        "            loss_1 = criterion(Z[data.train_mask], data.y[data.train_mask])  # Compute the loss solely based on the training nodes.\n",
        "            loss_2 = 0\n",
        "            if mu > 0:\n",
        "                loss_2 = p_reg_loss(Z, \n",
        "                                p_reg_dict['A_hat'], \n",
        "                                p_reg_dict['A_hat_mask'], \n",
        "                                p_reg_dict['N'], \n",
        "                                phi = p_reg_dict['phi'])\n",
        "            loss = loss_1 + mu * loss_2 \n",
        "            return loss  \"\"\"\n",
        "        l_abdul = make_l_abdul(criterion, p_reg_loss, mu, p_reg_dict)\n",
        "        \n",
        "        # train\n",
        "        train(l_abdul, model, optimizer, criterion, data, mu, p_reg_dict, num_epochs=epochs)    \n",
        "\n",
        "        train_acc, val_acc, test_acc = acc(model, data)\n",
        "        \n",
        "        d0 = icd0(model, data)\n",
        "        d1 = icd1(model, data)\n",
        "        d2 = icd2(model, data)\n",
        "        d3 = icd3(model, data)\n",
        "        d4 = icd4(model, data)\n",
        "        \n",
        "        metrics.append({\n",
        "        'mu': mu, \n",
        "        'seed': seed,\n",
        "        'train_acc': np.round(train_acc,4), \n",
        "        'val_acc': np.round(val_acc,4), \n",
        "        'test_acc': np.round(test_acc,4),\n",
        "        'icd0': d0,\n",
        "        'icd1': d1,\n",
        "        'icd2': d2,\n",
        "        'icd3': d3,\n",
        "        'icd4_train': d4[0],\n",
        "        'icd4_val': d4[1],\n",
        "        'icd4_test': d4[2],\n",
        "        })\n",
        "\n",
        "        print(metrics[-1])\n",
        "\n",
        "    return params, reg_loss, metrics"
      ]
    },
    {
      "cell_type": "markdown",
      "metadata": {
        "id": "-s3NzrWwMILD"
      },
      "source": [
        "## Experiment with P-reg:"
      ]
    },
    {
      "cell_type": "markdown",
      "metadata": {
        "id": "HK1YgJNHRX1c"
      },
      "source": [
        "#### Original split different Mus \n",
        "L03 P02 Q01\n"
      ]
    },
    {
      "cell_type": "code",
      "execution_count": 32,
      "metadata": {
        "colab": {
          "base_uri": "https://localhost:8080/"
        },
        "id": "CIZuO_fAvr0E",
        "outputId": "775e12c7-aaa8-46b0-f410-fef41a61106f"
      },
      "outputs": [
        {
          "name": "stdout",
          "output_type": "stream",
          "text": [
            "{'mu': 0.0, 'seed': None, 'train_acc': 1.0, 'val_acc': 0.788, 'test_acc': 0.807, 'icd0': tensor(0.2261), 'icd1': 1.9104216, 'icd2': 9.207906e-05, 'icd3': 0.9886758, 'icd4_train': 0.0017158272, 'icd4_val': 0.0011232726, 'icd4_test': 0.00025149793}\n"
          ]
        },
        {
          "ename": "KeyboardInterrupt",
          "evalue": "",
          "output_type": "error",
          "traceback": [
            "\u001b[0;31m---------------------------------------------------------------------------\u001b[0m",
            "\u001b[0;31mKeyboardInterrupt\u001b[0m                         Traceback (most recent call last)",
            "\u001b[1;32m/home/sandor/dtu/2021-22-spring/advanced_machine_learning/p-reg/reproducing_abdul/IntraClassDistance.ipynb Cell 20\u001b[0m in \u001b[0;36m<cell line: 2>\u001b[0;34m()\u001b[0m\n\u001b[1;32m      <a href='vscode-notebook-cell:/home/sandor/dtu/2021-22-spring/advanced_machine_learning/p-reg/reproducing_abdul/IntraClassDistance.ipynb#ch0000024?line=0'>1</a>\u001b[0m \u001b[39m# train and evaluate \u001b[39;00m\n\u001b[0;32m----> <a href='vscode-notebook-cell:/home/sandor/dtu/2021-22-spring/advanced_machine_learning/p-reg/reproducing_abdul/IntraClassDistance.ipynb#ch0000024?line=1'>2</a>\u001b[0m params, reg_loss, metrics  \u001b[39m=\u001b[39m evaluation(mus\u001b[39m=\u001b[39;49mnp\u001b[39m.\u001b[39;49mlinspace(\u001b[39m0\u001b[39;49m,\u001b[39m2\u001b[39;49m,\u001b[39m21\u001b[39;49m), reg_loss\u001b[39m=\u001b[39;49m\u001b[39m'\u001b[39;49m\u001b[39mp_reg\u001b[39;49m\u001b[39m'\u001b[39;49m, p_reg_phi \u001b[39m=\u001b[39;49m \u001b[39m'\u001b[39;49m\u001b[39mcross_entropy\u001b[39;49m\u001b[39m'\u001b[39;49m)\n",
            "\u001b[1;32m/home/sandor/dtu/2021-22-spring/advanced_machine_learning/p-reg/reproducing_abdul/IntraClassDistance.ipynb Cell 20\u001b[0m in \u001b[0;36mevaluation\u001b[0;34m(A, B, seed, mus, seeds, reg_loss, p_reg_phi, epochs, verbose)\u001b[0m\n\u001b[1;32m     <a href='vscode-notebook-cell:/home/sandor/dtu/2021-22-spring/advanced_machine_learning/p-reg/reproducing_abdul/IntraClassDistance.ipynb#ch0000024?line=50'>51</a>\u001b[0m l_abdul \u001b[39m=\u001b[39m make_l_abdul(criterion, p_reg_loss, mu, p_reg_dict)\n\u001b[1;32m     <a href='vscode-notebook-cell:/home/sandor/dtu/2021-22-spring/advanced_machine_learning/p-reg/reproducing_abdul/IntraClassDistance.ipynb#ch0000024?line=52'>53</a>\u001b[0m \u001b[39m# train\u001b[39;00m\n\u001b[0;32m---> <a href='vscode-notebook-cell:/home/sandor/dtu/2021-22-spring/advanced_machine_learning/p-reg/reproducing_abdul/IntraClassDistance.ipynb#ch0000024?line=53'>54</a>\u001b[0m train(l_abdul, model, optimizer, criterion, data, mu, p_reg_dict, num_epochs\u001b[39m=\u001b[39;49mepochs)    \n\u001b[1;32m     <a href='vscode-notebook-cell:/home/sandor/dtu/2021-22-spring/advanced_machine_learning/p-reg/reproducing_abdul/IntraClassDistance.ipynb#ch0000024?line=55'>56</a>\u001b[0m train_acc, val_acc, test_acc \u001b[39m=\u001b[39m acc(model, data)\n\u001b[1;32m     <a href='vscode-notebook-cell:/home/sandor/dtu/2021-22-spring/advanced_machine_learning/p-reg/reproducing_abdul/IntraClassDistance.ipynb#ch0000024?line=57'>58</a>\u001b[0m d0 \u001b[39m=\u001b[39m icd0(model, data)\n",
            "\u001b[1;32m/home/sandor/dtu/2021-22-spring/advanced_machine_learning/p-reg/reproducing_abdul/IntraClassDistance.ipynb Cell 20\u001b[0m in \u001b[0;36mtrain\u001b[0;34m(loss_fn, model, optimizer, criterion, data, mu, p_reg_dict, num_epochs)\u001b[0m\n\u001b[1;32m     <a href='vscode-notebook-cell:/home/sandor/dtu/2021-22-spring/advanced_machine_learning/p-reg/reproducing_abdul/IntraClassDistance.ipynb#ch0000024?line=18'>19</a>\u001b[0m model\u001b[39m.\u001b[39mtrain()\n\u001b[1;32m     <a href='vscode-notebook-cell:/home/sandor/dtu/2021-22-spring/advanced_machine_learning/p-reg/reproducing_abdul/IntraClassDistance.ipynb#ch0000024?line=19'>20</a>\u001b[0m optimizer\u001b[39m.\u001b[39mzero_grad()  \u001b[39m# Clear gradients.\u001b[39;00m\n\u001b[0;32m---> <a href='vscode-notebook-cell:/home/sandor/dtu/2021-22-spring/advanced_machine_learning/p-reg/reproducing_abdul/IntraClassDistance.ipynb#ch0000024?line=20'>21</a>\u001b[0m _, Z \u001b[39m=\u001b[39m model(data)     \u001b[39m# Perform a single forward pass.    \u001b[39;00m\n\u001b[1;32m     <a href='vscode-notebook-cell:/home/sandor/dtu/2021-22-spring/advanced_machine_learning/p-reg/reproducing_abdul/IntraClassDistance.ipynb#ch0000024?line=21'>22</a>\u001b[0m loss \u001b[39m=\u001b[39m loss_fn(data, Z)\n\u001b[1;32m     <a href='vscode-notebook-cell:/home/sandor/dtu/2021-22-spring/advanced_machine_learning/p-reg/reproducing_abdul/IntraClassDistance.ipynb#ch0000024?line=22'>23</a>\u001b[0m loss\u001b[39m.\u001b[39mbackward()  \u001b[39m# Derive gradients.\u001b[39;00m\n",
            "File \u001b[0;32m~/.virtualenv/p-reg-env/lib/python3.8/site-packages/torch/nn/modules/module.py:1102\u001b[0m, in \u001b[0;36mModule._call_impl\u001b[0;34m(self, *input, **kwargs)\u001b[0m\n\u001b[1;32m   1098\u001b[0m \u001b[39m# If we don't have any hooks, we want to skip the rest of the logic in\u001b[39;00m\n\u001b[1;32m   1099\u001b[0m \u001b[39m# this function, and just call forward.\u001b[39;00m\n\u001b[1;32m   1100\u001b[0m \u001b[39mif\u001b[39;00m \u001b[39mnot\u001b[39;00m (\u001b[39mself\u001b[39m\u001b[39m.\u001b[39m_backward_hooks \u001b[39mor\u001b[39;00m \u001b[39mself\u001b[39m\u001b[39m.\u001b[39m_forward_hooks \u001b[39mor\u001b[39;00m \u001b[39mself\u001b[39m\u001b[39m.\u001b[39m_forward_pre_hooks \u001b[39mor\u001b[39;00m _global_backward_hooks\n\u001b[1;32m   1101\u001b[0m         \u001b[39mor\u001b[39;00m _global_forward_hooks \u001b[39mor\u001b[39;00m _global_forward_pre_hooks):\n\u001b[0;32m-> 1102\u001b[0m     \u001b[39mreturn\u001b[39;00m forward_call(\u001b[39m*\u001b[39;49m\u001b[39minput\u001b[39;49m, \u001b[39m*\u001b[39;49m\u001b[39m*\u001b[39;49mkwargs)\n\u001b[1;32m   1103\u001b[0m \u001b[39m# Do not call functions when jit is used\u001b[39;00m\n\u001b[1;32m   1104\u001b[0m full_backward_hooks, non_full_backward_hooks \u001b[39m=\u001b[39m [], []\n",
            "File \u001b[0;32m~/dtu/2021-22-spring/advanced_machine_learning/p-reg/reproducing_abdul/models.py:60\u001b[0m, in \u001b[0;36mGCN.forward\u001b[0;34m(self, data)\u001b[0m\n\u001b[1;32m     58\u001b[0m \u001b[39mdef\u001b[39;00m \u001b[39mforward\u001b[39m(\u001b[39mself\u001b[39m, data):\n\u001b[1;32m     59\u001b[0m     x, edge_index \u001b[39m=\u001b[39m data\u001b[39m.\u001b[39mx, data\u001b[39m.\u001b[39medge_index\n\u001b[0;32m---> 60\u001b[0m     x \u001b[39m=\u001b[39m \u001b[39mself\u001b[39;49m\u001b[39m.\u001b[39;49mconv1(x, edge_index)\n\u001b[1;32m     61\u001b[0m     x \u001b[39m=\u001b[39m F\u001b[39m.\u001b[39mrelu(x)\n\u001b[1;32m     62\u001b[0m     x \u001b[39m=\u001b[39m F\u001b[39m.\u001b[39mdropout(x, p\u001b[39m=\u001b[39m\u001b[39m0.5\u001b[39m, training\u001b[39m=\u001b[39m\u001b[39mself\u001b[39m\u001b[39m.\u001b[39mtraining)\n",
            "File \u001b[0;32m~/.virtualenv/p-reg-env/lib/python3.8/site-packages/torch/nn/modules/module.py:1102\u001b[0m, in \u001b[0;36mModule._call_impl\u001b[0;34m(self, *input, **kwargs)\u001b[0m\n\u001b[1;32m   1098\u001b[0m \u001b[39m# If we don't have any hooks, we want to skip the rest of the logic in\u001b[39;00m\n\u001b[1;32m   1099\u001b[0m \u001b[39m# this function, and just call forward.\u001b[39;00m\n\u001b[1;32m   1100\u001b[0m \u001b[39mif\u001b[39;00m \u001b[39mnot\u001b[39;00m (\u001b[39mself\u001b[39m\u001b[39m.\u001b[39m_backward_hooks \u001b[39mor\u001b[39;00m \u001b[39mself\u001b[39m\u001b[39m.\u001b[39m_forward_hooks \u001b[39mor\u001b[39;00m \u001b[39mself\u001b[39m\u001b[39m.\u001b[39m_forward_pre_hooks \u001b[39mor\u001b[39;00m _global_backward_hooks\n\u001b[1;32m   1101\u001b[0m         \u001b[39mor\u001b[39;00m _global_forward_hooks \u001b[39mor\u001b[39;00m _global_forward_pre_hooks):\n\u001b[0;32m-> 1102\u001b[0m     \u001b[39mreturn\u001b[39;00m forward_call(\u001b[39m*\u001b[39;49m\u001b[39minput\u001b[39;49m, \u001b[39m*\u001b[39;49m\u001b[39m*\u001b[39;49mkwargs)\n\u001b[1;32m   1103\u001b[0m \u001b[39m# Do not call functions when jit is used\u001b[39;00m\n\u001b[1;32m   1104\u001b[0m full_backward_hooks, non_full_backward_hooks \u001b[39m=\u001b[39m [], []\n",
            "File \u001b[0;32m~/.virtualenv/p-reg-env/lib/python3.8/site-packages/torch_geometric/nn/conv/gcn_conv.py:185\u001b[0m, in \u001b[0;36mGCNConv.forward\u001b[0;34m(self, x, edge_index, edge_weight)\u001b[0m\n\u001b[1;32m    182\u001b[0m x \u001b[39m=\u001b[39m \u001b[39mself\u001b[39m\u001b[39m.\u001b[39mlin(x)\n\u001b[1;32m    184\u001b[0m \u001b[39m# propagate_type: (x: Tensor, edge_weight: OptTensor)\u001b[39;00m\n\u001b[0;32m--> 185\u001b[0m out \u001b[39m=\u001b[39m \u001b[39mself\u001b[39;49m\u001b[39m.\u001b[39;49mpropagate(edge_index, x\u001b[39m=\u001b[39;49mx, edge_weight\u001b[39m=\u001b[39;49medge_weight,\n\u001b[1;32m    186\u001b[0m                      size\u001b[39m=\u001b[39;49m\u001b[39mNone\u001b[39;49;00m)\n\u001b[1;32m    188\u001b[0m \u001b[39mif\u001b[39;00m \u001b[39mself\u001b[39m\u001b[39m.\u001b[39mbias \u001b[39mis\u001b[39;00m \u001b[39mnot\u001b[39;00m \u001b[39mNone\u001b[39;00m:\n\u001b[1;32m    189\u001b[0m     out \u001b[39m+\u001b[39m\u001b[39m=\u001b[39m \u001b[39mself\u001b[39m\u001b[39m.\u001b[39mbias\n",
            "File \u001b[0;32m~/.virtualenv/p-reg-env/lib/python3.8/site-packages/torch_geometric/nn/conv/message_passing.py:342\u001b[0m, in \u001b[0;36mMessagePassing.propagate\u001b[0;34m(self, edge_index, size, **kwargs)\u001b[0m\n\u001b[1;32m    340\u001b[0m     \u001b[39mif\u001b[39;00m res \u001b[39mis\u001b[39;00m \u001b[39mnot\u001b[39;00m \u001b[39mNone\u001b[39;00m:\n\u001b[1;32m    341\u001b[0m         aggr_kwargs \u001b[39m=\u001b[39m res[\u001b[39m0\u001b[39m] \u001b[39mif\u001b[39;00m \u001b[39misinstance\u001b[39m(res, \u001b[39mtuple\u001b[39m) \u001b[39melse\u001b[39;00m res\n\u001b[0;32m--> 342\u001b[0m out \u001b[39m=\u001b[39m \u001b[39mself\u001b[39;49m\u001b[39m.\u001b[39;49maggregate(out, \u001b[39m*\u001b[39;49m\u001b[39m*\u001b[39;49maggr_kwargs)\n\u001b[1;32m    343\u001b[0m \u001b[39mfor\u001b[39;00m hook \u001b[39min\u001b[39;00m \u001b[39mself\u001b[39m\u001b[39m.\u001b[39m_aggregate_forward_hooks\u001b[39m.\u001b[39mvalues():\n\u001b[1;32m    344\u001b[0m     res \u001b[39m=\u001b[39m hook(\u001b[39mself\u001b[39m, (aggr_kwargs, ), out)\n",
            "File \u001b[0;32m~/.virtualenv/p-reg-env/lib/python3.8/site-packages/torch_geometric/nn/conv/message_passing.py:425\u001b[0m, in \u001b[0;36mMessagePassing.aggregate\u001b[0;34m(self, inputs, index, ptr, dim_size)\u001b[0m\n\u001b[1;32m    423\u001b[0m     \u001b[39mreturn\u001b[39;00m segment_csr(inputs, ptr, reduce\u001b[39m=\u001b[39m\u001b[39mself\u001b[39m\u001b[39m.\u001b[39maggr)\n\u001b[1;32m    424\u001b[0m \u001b[39melse\u001b[39;00m:\n\u001b[0;32m--> 425\u001b[0m     \u001b[39mreturn\u001b[39;00m scatter(inputs, index, dim\u001b[39m=\u001b[39;49m\u001b[39mself\u001b[39;49m\u001b[39m.\u001b[39;49mnode_dim, dim_size\u001b[39m=\u001b[39;49mdim_size,\n\u001b[1;32m    426\u001b[0m                    reduce\u001b[39m=\u001b[39;49m\u001b[39mself\u001b[39;49m\u001b[39m.\u001b[39;49maggr)\n",
            "File \u001b[0;32m~/.virtualenv/p-reg-env/lib/python3.8/site-packages/torch_scatter/scatter.py:152\u001b[0m, in \u001b[0;36mscatter\u001b[0;34m(src, index, dim, out, dim_size, reduce)\u001b[0m\n\u001b[1;32m     78\u001b[0m \u001b[39mr\u001b[39m\u001b[39m\"\"\"\u001b[39;00m\n\u001b[1;32m     79\u001b[0m \u001b[39m|\u001b[39;00m\n\u001b[1;32m     80\u001b[0m \n\u001b[0;32m   (...)\u001b[0m\n\u001b[1;32m    149\u001b[0m \u001b[39m    torch.Size([10, 3, 64])\u001b[39;00m\n\u001b[1;32m    150\u001b[0m \u001b[39m\"\"\"\u001b[39;00m\n\u001b[1;32m    151\u001b[0m \u001b[39mif\u001b[39;00m reduce \u001b[39m==\u001b[39m \u001b[39m'\u001b[39m\u001b[39msum\u001b[39m\u001b[39m'\u001b[39m \u001b[39mor\u001b[39;00m reduce \u001b[39m==\u001b[39m \u001b[39m'\u001b[39m\u001b[39madd\u001b[39m\u001b[39m'\u001b[39m:\n\u001b[0;32m--> 152\u001b[0m     \u001b[39mreturn\u001b[39;00m scatter_sum(src, index, dim, out, dim_size)\n\u001b[1;32m    153\u001b[0m \u001b[39mif\u001b[39;00m reduce \u001b[39m==\u001b[39m \u001b[39m'\u001b[39m\u001b[39mmul\u001b[39m\u001b[39m'\u001b[39m:\n\u001b[1;32m    154\u001b[0m     \u001b[39mreturn\u001b[39;00m scatter_mul(src, index, dim, out, dim_size)\n",
            "File \u001b[0;32m~/.virtualenv/p-reg-env/lib/python3.8/site-packages/torch_scatter/scatter.py:21\u001b[0m, in \u001b[0;36mscatter_sum\u001b[0;34m(src, index, dim, out, dim_size)\u001b[0m\n\u001b[1;32m     19\u001b[0m         size[dim] \u001b[39m=\u001b[39m \u001b[39mint\u001b[39m(index\u001b[39m.\u001b[39mmax()) \u001b[39m+\u001b[39m \u001b[39m1\u001b[39m\n\u001b[1;32m     20\u001b[0m     out \u001b[39m=\u001b[39m torch\u001b[39m.\u001b[39mzeros(size, dtype\u001b[39m=\u001b[39msrc\u001b[39m.\u001b[39mdtype, device\u001b[39m=\u001b[39msrc\u001b[39m.\u001b[39mdevice)\n\u001b[0;32m---> 21\u001b[0m     \u001b[39mreturn\u001b[39;00m out\u001b[39m.\u001b[39;49mscatter_add_(dim, index, src)\n\u001b[1;32m     22\u001b[0m \u001b[39melse\u001b[39;00m:\n\u001b[1;32m     23\u001b[0m     \u001b[39mreturn\u001b[39;00m out\u001b[39m.\u001b[39mscatter_add_(dim, index, src)\n",
            "\u001b[0;31mKeyboardInterrupt\u001b[0m: "
          ]
        }
      ],
      "source": [
        "# train and evaluate \n",
        "params, reg_loss, metrics  = evaluation(mus=np.linspace(0,2,21), reg_loss='p_reg', p_reg_phi = 'cross_entropy')"
      ]
    },
    {
      "cell_type": "code",
      "execution_count": null,
      "metadata": {},
      "outputs": [
        {
          "data": {
            "text/plain": [
              "(0.0, 0.25)"
            ]
          },
          "execution_count": 18,
          "metadata": {},
          "output_type": "execute_result"
        },
        {
          "data": {
            "image/png": "[encoded data removed]",
            "text/plain": [
              "<Figure size 432x288 with 1 Axes>"
            ]
          },
          "metadata": {},
          "output_type": "display_data"
        }
      ],
      "source": [
        "plt.plot(Results['Cora_icd'])\n",
        "plt.ylim([0,0.25])"
      ]
    },
    {
      "cell_type": "code",
      "execution_count": null,
      "metadata": {},
      "outputs": [],
      "source": []
    }
  ],
  "metadata": {
    "accelerator": "GPU",
    "colab": {
      "collapsed_sections": [],
      "machine_shape": "hm",
      "name": "IntraClassDistance.ipynb",
      "provenance": []
    },
    "kernelspec": {
      "display_name": "Python 3.8.10 ('p-reg-env')",
      "language": "python",
      "name": "python3"
    },
    "language_info": {
      "codemirror_mode": {
        "name": "ipython",
        "version": 3
      },
      "file_extension": ".py",
      "mimetype": "text/x-python",
      "name": "python",
      "nbconvert_exporter": "python",
      "pygments_lexer": "ipython3",
      "version": "3.8.10"
    },
    "vscode": {
      "interpreter": {
        "hash": "19b21e06a3ecf92dacb2d0dce038f81bb705746e8008c815c25552dc2d0953db"
      }
    }
  },
  "nbformat": 4,
  "nbformat_minor": 0
}
