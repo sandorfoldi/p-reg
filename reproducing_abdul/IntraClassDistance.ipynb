{
  "cells": [
    {
      "cell_type": "markdown",
      "metadata": {
        "id": "pem82y_88n7K"
      },
      "source": [
        "# Initialization"
      ]
    },
    {
      "cell_type": "markdown",
      "metadata": {
        "id": "Mar8dDRINAuk"
      },
      "source": [
        "\n",
        "## Set Global Variables\n"
      ]
    },
    {
      "cell_type": "code",
      "execution_count": 1,
      "metadata": {
        "id": "VG-tmnjDHJgr"
      },
      "outputs": [],
      "source": [
        "# set system\n",
        "import sys\n",
        "IN_COLAB = 'google.colab' in sys.modules\n",
        "ABDUL_G_DRIVE = False\n",
        "\n",
        "# set torch device\n",
        "import torch \n",
        "device = torch.device('cuda' if torch.cuda.is_available() else 'cpu')"
      ]
    },
    {
      "cell_type": "markdown",
      "metadata": {
        "id": "fHk3pCsSNXnd"
      },
      "source": [
        "## Initialize Colab:"
      ]
    },
    {
      "cell_type": "markdown",
      "metadata": {
        "id": "wQXFm71QOTRP"
      },
      "source": [
        "### Connect to Drive"
      ]
    },
    {
      "cell_type": "code",
      "execution_count": 2,
      "metadata": {
        "colab": {
          "base_uri": "https://localhost:8080/"
        },
        "id": "EZTcdMFXVtMN",
        "outputId": "def30875-2375-4825-b743-3621647bcb5f"
      },
      "outputs": [],
      "source": [
        "# connect to drive\n",
        "if IN_COLAB:\n",
        "  from google.colab import drive\n",
        "  drive.mount('/content/gdrive')\n",
        "\n",
        "  # set project path from drive\n",
        "  if ABDUL_G_DRIVE:\n",
        "    project_path = \"/content/gdrive/MyDrive/00 Projects/AML\"\n",
        "    %cd -q $project_path \n",
        "    !pwd"
      ]
    },
    {
      "cell_type": "markdown",
      "metadata": {
        "id": "6MKW9Pf3N4hL"
      },
      "source": [
        "### Install PyG in Colab "
      ]
    },
    {
      "cell_type": "code",
      "execution_count": 3,
      "metadata": {
        "colab": {
          "base_uri": "https://localhost:8080/"
        },
        "id": "e948Qm5iLAKK",
        "outputId": "5abb9b6a-88ba-4f51-ea98-adc6e5b6880a"
      },
      "outputs": [],
      "source": [
        "# define dynamic function to install pyg\n",
        "def install_pyg():\n",
        "    try:\n",
        "        import torch_geometric\n",
        "    except:\n",
        "        TORCH = torch.__version__.split('+')[0]\n",
        "        CUDA = 'cu' + torch.version.cuda.replace('.', '')\n",
        "        !pip install torch-scatter     -q -f https://pytorch-geometric.com/whl/torch-{TORCH}+{CUDA}.html\n",
        "        !pip install torch-sparse      -q -f https://pytorch-geometric.com/whl/torch-{TORCH}+{CUDA}.html\n",
        "        !pip install torch-cluster     -q -f https://pytorch-geometric.com/whl/torch-{TORCH}+{CUDA}.html\n",
        "        !pip install torch-spline-conv -q -f https://pytorch-geometric.com/whl/torch-{TORCH}+{CUDA}.html\n",
        "        !pip install torch-geometric   -q\n",
        "\n",
        "# install\n",
        "if IN_COLAB: install_pyg()"
      ]
    },
    {
      "cell_type": "markdown",
      "metadata": {
        "id": "Z1Q3lQ4jOoAt"
      },
      "source": [
        "## Load Dependencies"
      ]
    },
    {
      "cell_type": "code",
      "execution_count": 4,
      "metadata": {
        "id": "-StflntjuCWd"
      },
      "outputs": [],
      "source": [
        "# src \n",
        "from models import MLP, GCN, GAT\n",
        "from random_split import random_split\n",
        "from p_reg_loss import A_hat_computations, p_reg_loss\n",
        "from lap_loss import lap_loss\n",
        "from cp_loss import cp_loss\n",
        "from helper import visualize_Atlas, visualize_TSNE, visualize_CM, print_dataset, print_data\n",
        "from utils import report_vis\n",
        "from utils import report_stats\n",
        "\n",
        "from evaluate_model import acc, icd0, icd1, icd2, icd3, icd4\n",
        "\n",
        "# packages\n",
        "import torch\n",
        "from torch_geometric.datasets import Planetoid\n",
        "from torch_geometric.transforms import NormalizeFeatures\n",
        "from sklearn.metrics import mean_squared_error, roc_auc_score, accuracy_score\n",
        "import numpy as np \n",
        "import matplotlib.pyplot as plt\n",
        "import seaborn as sns\n",
        "\n",
        "sns.set()\n",
        "import time"
      ]
    },
    {
      "cell_type": "markdown",
      "metadata": {
        "id": "xW5eN_FL8iVk"
      },
      "source": [
        "# Train, Test and Evaluation functions"
      ]
    },
    {
      "cell_type": "markdown",
      "metadata": {
        "id": "l5fcJFQlNmDU"
      },
      "source": [
        "### Train function"
      ]
    },
    {
      "cell_type": "code",
      "execution_count": 5,
      "metadata": {
        "id": "2IrYVnKdTpoe"
      },
      "outputs": [],
      "source": [
        "# Train func\n",
        "def train(model, optimizer, criterion, data, train_mask, mu, p_reg_dict=None):\n",
        "    model.train()\n",
        "    optimizer.zero_grad()  # Clear gradients.\n",
        "    _, Z = model(data)     # Perform a single forward pass.    \n",
        "    loss_1 = criterion(Z[train_mask], data.y[train_mask])  # Compute the loss solely based on the training nodes.\n",
        "    loss_2 = 0\n",
        "    if mu >0:\n",
        "        loss_2 = p_reg_loss(Z, \n",
        "                          p_reg_dict['A_hat'], \n",
        "                          p_reg_dict['A_hat_mask'], \n",
        "                          p_reg_dict['N'], \n",
        "                          phi = p_reg_dict['phi'])\n",
        "    loss = loss_1 + mu * loss_2      \n",
        "    loss.backward()  # Derive gradients.\n",
        "    optimizer.step()  # Update parameters based on gradients.\n",
        "    return loss, Z"
      ]
    },
    {
      "cell_type": "markdown",
      "metadata": {
        "id": "CRwMz3D_O9vA"
      },
      "source": [
        "## Test Function:"
      ]
    },
    {
      "cell_type": "code",
      "execution_count": 6,
      "metadata": {
        "id": "MTvjA2gPPCwi"
      },
      "outputs": [],
      "source": [
        "# Test func: Using the early stopping method\n",
        "def test(model, data, mask, criterion, mu, p_reg_dict):\n",
        "    # eval\n",
        "    model.eval()\n",
        "    _, Z = model(data)\n",
        "\n",
        "    # cal loss\n",
        "    loss_1 = criterion(Z[mask], data.y[mask])  # Compute the loss solely based on the training nodes.\n",
        "    loss_2 = 0\n",
        "    #print(\"Test p_reg_dict is None\", (p_reg_dict is None))\n",
        "    if p_reg_dict is not None:\n",
        "        loss_2 = p_reg_loss(Z,\n",
        "                            p_reg_dict['A_hat'],\n",
        "                            p_reg_dict['A_hat_mask'],\n",
        "                            p_reg_dict['N'],\n",
        "                            phi = p_reg_dict['phi'])\n",
        "    loss = loss_1 + mu * loss_2      \n",
        "\n",
        "    # cal metrics\n",
        "    y_pred = Z.argmax(dim=1)  # Use the class with highest probability.\n",
        "    acc = accuracy_score    (y_true = data.y[mask].cpu().detach().numpy(), y_pred  = y_pred[mask].cpu().detach().numpy())\n",
        "    \n",
        "    return loss, Z, acc"
      ]
    },
    {
      "cell_type": "markdown",
      "metadata": {
        "id": "4Wtj4yOoFuhR"
      },
      "source": [
        "# Average intra-class distance\n",
        "\n",
        "see 4.2.3 - **Empirical verification** for definition"
      ]
    },
    {
      "cell_type": "code",
      "execution_count": 7,
      "metadata": {
        "id": "LlI50Y0pFuhS"
      },
      "outputs": [],
      "source": [
        "def intra_class_distance(out, data, nb_classes, softmax=True):\n",
        "\n",
        "    m = torch.nn.Softmax(dim=0)\n",
        "    \n",
        "    out = out[data.test_mask] # try other masks or none\n",
        "    pred = out.cpu().argmax(dim=1)\n",
        "    N = len(pred)\n",
        "    #print(N)\n",
        "    w=0\n",
        "    pred = pred.cpu()\n",
        "    classes = np.unique(pred.cpu())\n",
        "    print(\"classes:\", classes)\n",
        "    missing_classes = list(set(range(0,nb_classes)) - set(classes))\n",
        "\n",
        "    if len(missing_classes)>0:\n",
        "        print('classes {} are missing'.format(missing_classes))\n",
        "        \n",
        "    for cl in classes:\n",
        "        # Sk = nodes in class k\n",
        "        Sk = (pred == cl).nonzero(as_tuple=True)[0]\n",
        "        # Compute ck\n",
        "        ck = torch.Tensor(np.zeros(len(classes)))\n",
        "        ck = ck.to(device)\n",
        "        #print(ck.size())\n",
        "        for i in Sk:\n",
        "            #zi = torch.max(out[i]).item()\n",
        "            zi = out[i].clone().detach()\n",
        "            zi = torch.Tensor([zi[j] for j in classes])\n",
        "            if softmax:\n",
        "              zi = m(zi)\n",
        "            zi = zi.to(device)\n",
        "            ck += zi\n",
        "        ck = ck/len(Sk)\n",
        "        ck = ck.to(device)\n",
        "\n",
        "        for i in Sk:\n",
        "            #zi = torch.max(out[i]).item()\n",
        "            zi = out[i].clone().detach()\n",
        "            zi = torch.Tensor([zi[j] for j in classes])\n",
        "            if softmax:\n",
        "              zi = m(zi)\n",
        "            zi = zi.to(device)\n",
        "            w += torch.linalg.norm(zi-ck)\n",
        "        \n",
        "        #print(clk, ck, w)\n",
        "\n",
        "    return w/N"
      ]
    },
    {
      "cell_type": "markdown",
      "metadata": {
        "id": "Xb0irwn0PJo7"
      },
      "source": [
        "## Evaluation function"
      ]
    },
    {
      "cell_type": "code",
      "execution_count": 8,
      "metadata": {
        "id": "elGSgTWcTtyA"
      },
      "outputs": [],
      "source": [
        "def evaluation( A = None, # int \n",
        "                B = None, # int \n",
        "                mu = None, # float \n",
        "                seed = None, # float \n",
        "                As = None, # int list \n",
        "                Bs = None, # int list \n",
        "                mus = None, # float list \n",
        "                seeds = None, # float list \n",
        "                reg_loss = None, # str: 'p_reg', 'lap_reg', 'cp_reg', 'no_reg' \n",
        "                p_reg_phi = 'cross_entropy', # str: 'cross_entropy', 'squared_error', 'kl_divergence' #####################\n",
        "                datasets = ['Cora'], # str list\n",
        "                epochs = 200, # int\n",
        "                verbose = True # boolean\n",
        "                ):\n",
        "\n",
        "    # check A and B arg.\n",
        "    if (A is not None) | (B is not None):\n",
        "        assert A is not None, \"A is missing\" \n",
        "        assert B is not None, \"B is missing\" \n",
        "        assert (seed is not None) | (seeds is not None), \"seed or seeds is missing\"\n",
        "        assert As is None, \"As should not be given\"\n",
        "        assert Bs is None, \"Bs should not be given\"\n",
        "\n",
        "    # check mu input arg.\n",
        "    if mu is not None:\n",
        "        if mu == 0:\n",
        "            assert reg_loss == 'no_reg', \"reg_loss should be 'no_reg'\"\n",
        "\n",
        "    # check seed input arg.\n",
        "    if seed is not None: \n",
        "        assert seeds is None, \"seeds should not be given\"\n",
        "\n",
        "    # check lists input args\n",
        "    if mus is not None:\n",
        "        assert mu is None, \"mu should not be given\"\n",
        "        params, params_len, params_tag = mus, len(mus), 'Mus'\n",
        "        if verbose: print(f'Training with {reg_loss} with different \"Mus\":')\n",
        "\n",
        "    elif seeds is not None:\n",
        "        assert seed is None, \"seed should not be given\"\n",
        "        params, params_len, params_tag = seeds, len(seeds), 'Seeds'\n",
        "        if verbose: print(f'Training with {reg_loss} with different \"Seeds\":')\n",
        "\n",
        "    elif (As is not None) | (Bs is not None): \n",
        "        assert seed is not None, \"seed is missing\" \n",
        "        assert As is not None, \"As are missing\"\n",
        "        assert Bs is not None, \"Bs are missing\"\n",
        "        assert len(As) == len (Bs), \"As and Bs do not have the same length\" \n",
        "        assert A is None, \"A should not be given\"\n",
        "        assert B is None, \"B should not be given\"\n",
        "        params, params_len, params_tag = As, len(As),'Training Nodes'\n",
        "        if verbose: print(f'Training with {reg_loss} with different \"Number Training Nodes\":')\n",
        "\n",
        "    else:\n",
        "        params, params_len, params_tag = [], 1, 'No Params Loop'\n",
        "        if verbose: print(f'Training with {reg_loss} with {params_tag}')\n",
        "        assert (mu is not None) & (reg_loss is not None), 'mu and reg_loss are missing' \n",
        "\n",
        "\n",
        "    # evaluation Storage\n",
        "    Results = {}\n",
        "    metrics = []\n",
        "    \n",
        "    # loop over datasets\n",
        "    for dataset_name in datasets: \n",
        "        # define dataset\n",
        "        if verbose: print(f'=========================\\n{dataset_name}:')\n",
        "        if dataset_name == 'Cora':\n",
        "            nb_classes = 7\n",
        "            if ABDUL_G_DRIVE: dataset = Planetoid(root=f'data/Planetoid', name='Cora', transform=NormalizeFeatures())\n",
        "            else: dataset = Planetoid(root=f'/tmp/Cora', name='Cora', transform=NormalizeFeatures())\n",
        "        elif dataset_name == 'CiteSeer':\n",
        "            nb_classes = 6\n",
        "            if ABDUL_G_DRIVE: dataset = Planetoid(root=f'data/Planetoid', name='CiteSeer', transform=NormalizeFeatures())\n",
        "            else: dataset = Planetoid(root=f'/tmp/CiteSeer', name='CiteSeer', transform=NormalizeFeatures())\n",
        "        elif dataset_name == 'PubMed':\n",
        "            nb_classes = 3\n",
        "            if ABDUL_G_DRIVE: dataset = Planetoid(root=f'data/Planetoid', name='PubMed', transform=NormalizeFeatures())         \n",
        "            else: dataset = Planetoid(root=f'/tmp/PubMed', name='PubMed', transform=NormalizeFeatures())         \n",
        "        else:\n",
        "            raise NotImplementedError('Only Cora, CiteSeer and PubMed datasets are supported')\n",
        "        \n",
        "        # define data\n",
        "        data = dataset[0]\n",
        "        data = data.to(device)\n",
        "\n",
        "        # calc split here when params_tag == 'Mus' or 'No Params Loop':\n",
        "        if (params_tag == 'Mus') | (params_tag == 'No Params Loop'):\n",
        "            if (seed is not None) & (A is not None) & (B is not None):\n",
        "                train_mask, val_mask, test_mask = random_split(dataset, A, B, seed)\n",
        "            else:\n",
        "                train_mask, val_mask, test_mask = data.train_mask, data.val_mask, data.test_mask\n",
        "\n",
        "        # Calculate A_hat as it's training invariant \n",
        "        if mus is not None or mu>0:\n",
        "            A_hat, A_hat_mask, N = A_hat_computations(data)\n",
        "            p_reg_dict = {'A_hat': A_hat, \n",
        "                          'A_hat_mask': A_hat_mask, \n",
        "                          'N': N, \n",
        "                          'phi': 'cross_entropy' if p_reg_phi is None else p_reg_phi}  \n",
        "        else: \n",
        "            p_reg_dict = None\n",
        "        \n",
        "        #print(\"p_reg_dict\",p_reg_dict)\n",
        "\n",
        "        # define test evaluation metrices\n",
        "        Results[dataset_name+'_acc' ] = []\n",
        "        Results[dataset_name+'_loss'] = []\n",
        "        Results[dataset_name+'_Z'   ] = []\n",
        "        Results[dataset_name+'_y'   ] = []\n",
        "        Results[dataset_name+'_icd' ] = []\n",
        "\n",
        "        # loop over params\n",
        "        for i in range(params_len):\n",
        "            # define model parameters        \n",
        "            if params_tag == 'Mus': \n",
        "                mu = mus[i]\n",
        "            elif params_tag == 'Seeds': \n",
        "                seed = seeds[i]\n",
        "                # calc the split\n",
        "                if (A is not None) & (B is not None):\n",
        "                    train_mask, val_mask, test_mask = random_split(dataset, A, B, seed)\n",
        "                else:\n",
        "                    train_mask, val_mask, test_mask = data.train_mask, data.val_mask, data.test_mask\n",
        "            elif params_tag == 'Training Nodes': \n",
        "                A, B = As[i], Bs[i]\n",
        "                # calc the split\n",
        "                if seed is not None:\n",
        "                    train_mask, val_mask, test_mask = random_split(dataset, A, B, seed)\n",
        "                else:\n",
        "                    train_mask, val_mask, test_mask = data.train_mask, data.val_mask, data.test_mask\n",
        "\n",
        "\n",
        "            # define MOC\n",
        "            model = GCN(dataset,\n",
        "                        hidden_channels=64, \n",
        "                        seed = 0 if seed is None else seed).to(device)\n",
        "            optimizer = torch.optim.Adam(model.parameters(), lr=0.01, weight_decay=5e-4)\n",
        "            criterion = torch.nn.CrossEntropyLoss()\n",
        "\n",
        "            # loop over epochs\n",
        "            Val_Loss = np.inf\n",
        "            for epoch in range(epochs):\n",
        "                # train\n",
        "                train(model, optimizer, criterion, data, train_mask, mu, p_reg_dict)    \n",
        "                \"\"\"# test\n",
        "                with torch.no_grad():\n",
        "                  #print(\"Eval1 p_reg_dict is None\", (p_reg_dict is None))\n",
        "                  val_loss , _ , _  = test(model, data, val_mask, criterion, mu, p_reg_dict)\n",
        "                  if (val_loss < Val_Loss):\n",
        "                      #print(\"Eval2 p_reg_dict is None\", (p_reg_dict is None))\n",
        "                      test_loss, test_Z, test_acc = test(model, data, test_mask, criterion, mu, p_reg_dict)\n",
        "            \"\"\"\n",
        "\n",
        "            train_acc, val_acc, test_acc = acc(model, data)\n",
        "            \n",
        "            d0 = icd0(model, data)\n",
        "            d1 = icd1(model, data)\n",
        "            d2 = icd2(model, data)\n",
        "            d3 = icd3(model, data)\n",
        "            d4 = icd4(model, data)\n",
        "\n",
        "            metrics.append({\n",
        "            'mu': mu, \n",
        "            'seed': seed,\n",
        "            'train_acc': np.round(train_acc,4), \n",
        "            'val_acc': np.round(val_acc,4), \n",
        "            'test_acc': np.round(test_acc,4),\n",
        "            'icd0': d0,\n",
        "            'icd1': d1,\n",
        "            'icd2': d2,\n",
        "            'icd3': d3,\n",
        "            'icd4_train': d4[0],\n",
        "            'icd4_val': d4[1],\n",
        "            'icd4_test': d4[2],\n",
        "            })\n",
        "\n",
        "            print(metrics[-1])\n",
        "            \n",
        "            out = model(data)[1] # or [0]???\n",
        "            icd = intra_class_distance(out, data, nb_classes, softmax=True)\n",
        "\n",
        "            # save test metrices, loss and embadding  \n",
        "            Results[dataset_name+'_y'   ].append(None)\n",
        "            Results[dataset_name+'_icd' ].append(icd.item())\n",
        "            \n",
        "            print(f'    Icd: {icd:.4f}')\n",
        "\n",
        "\n",
        "    return Results, params, params_tag, reg_loss, metrics"
      ]
    },
    {
      "cell_type": "markdown",
      "metadata": {
        "id": "RmNqR7C5PweY"
      },
      "source": [
        "## Clear variable Function"
      ]
    },
    {
      "cell_type": "code",
      "execution_count": 9,
      "metadata": {
        "id": "ITh4d-cXPzGJ"
      },
      "outputs": [],
      "source": [
        "def clear():\n",
        "    # clear varibles\n",
        "    global A, B, mu, seed  \n",
        "    global As, Bs, mus, seeds \n",
        "    global reg_loss, p_reg_phi\n",
        "    global epochs, datasets, verbose\n",
        "    A = None\n",
        "    B = None  \n",
        "    mu = None  \n",
        "    seed = None  \n",
        "    As = None \n",
        "    Bs = None  \n",
        "    mus = None  \n",
        "    seeds = None  \n",
        "    reg_loss = None \n",
        "    p_reg_phi = None \n",
        "    epochs = 200\n",
        "    datasets = ['Cora', 'CiteSeer', 'PubMed']\n",
        "    verbose = True"
      ]
    },
    {
      "cell_type": "markdown",
      "metadata": {
        "id": "-s3NzrWwMILD"
      },
      "source": [
        "## With P-reg:"
      ]
    },
    {
      "cell_type": "markdown",
      "metadata": {
        "id": "HK1YgJNHRX1c"
      },
      "source": [
        "#### Original split different Mus \n",
        "L03 P02 Q01\n"
      ]
    },
    {
      "cell_type": "code",
      "execution_count": 10,
      "metadata": {
        "id": "WqktR8KB1E-5"
      },
      "outputs": [],
      "source": [
        "# set parameters\n",
        "clear()\n",
        "reg_loss='p_reg'\n",
        "p_reg_phi = 'cross_entropy'\n",
        "mus = np.linspace(0,2,21)"
      ]
    },
    {
      "cell_type": "code",
      "execution_count": 11,
      "metadata": {
        "colab": {
          "base_uri": "https://localhost:8080/"
        },
        "id": "CIZuO_fAvr0E",
        "outputId": "775e12c7-aaa8-46b0-f410-fef41a61106f"
      },
      "outputs": [
        {
          "name": "stdout",
          "output_type": "stream",
          "text": [
            "Training with p_reg with different \"Mus\":\n",
            "=========================\n",
            "Cora:\n",
            "{'mu': 0.0, 'seed': None, 'train_acc': 1.0, 'val_acc': 0.788, 'test_acc': 0.807, 'icd0': tensor(0.2261), 'icd1': 1.9104216, 'icd2': 9.207906e-05, 'icd3': 0.9886758, 'icd4_train': 0.0017158272, 'icd4_val': 0.0011232726, 'icd4_test': 0.00025149793}\n",
            "classes: [0 1 2 3 4 5 6]\n",
            "    Icd: 0.2261\n",
            "{'mu': 0.1, 'seed': None, 'train_acc': 1.0, 'val_acc': 0.796, 'test_acc': 0.816, 'icd0': tensor(0.2136), 'icd1': 2.4627101, 'icd2': 0.000136518, 'icd3': 1.1279376, 'icd4_train': 0.0022102278, 'icd4_val': 0.001480335, 'icd4_test': 0.00038342882}\n",
            "classes: [0 1 2 3 4 5 6]\n",
            "    Icd: 0.2136\n",
            "{'mu': 0.2, 'seed': None, 'train_acc': 1.0, 'val_acc': 0.808, 'test_acc': 0.825, 'icd0': tensor(0.1992), 'icd1': 3.0508316, 'icd2': 0.00018949682, 'icd3': 1.2586855, 'icd4_train': 0.0027481436, 'icd4_val': 0.0018546826, 'icd4_test': 0.0005597907}\n",
            "classes: [0 1 2 3 4 5 6]\n",
            "    Icd: 0.1992\n",
            "{'mu': 0.30000000000000004, 'seed': None, 'train_acc': 1.0, 'val_acc': 0.822, 'test_acc': 0.829, 'icd0': tensor(0.1846), 'icd1': 3.6095834, 'icd2': 0.0002475959, 'icd3': 1.3702339, 'icd4_train': 0.0032760054, 'icd4_val': 0.0022320792, 'icd4_test': 0.00075925636}\n",
            "classes: [0 1 2 3 4 5 6]\n",
            "    Icd: 0.1846\n",
            "{'mu': 0.4, 'seed': None, 'train_acc': 1.0, 'val_acc': 0.816, 'test_acc': 0.832, 'icd0': tensor(0.1718), 'icd1': 4.11422, 'icd2': 0.00030619345, 'icd3': 1.4627507, 'icd4_train': 0.0037627278, 'icd4_val': 0.0026317718, 'icd4_test': 0.00096057885}\n",
            "classes: [0 1 2 3 4 5 6]\n",
            "    Icd: 0.1718\n",
            "{'mu': 0.5, 'seed': None, 'train_acc': 1.0, 'val_acc': 0.812, 'test_acc': 0.838, 'icd0': tensor(0.1610), 'icd1': 4.568936, 'icd2': 0.00035733116, 'icd3': 1.5408174, 'icd4_train': 0.00420994, 'icd4_val': 0.0029721337, 'icd4_test': 0.0011290016}\n",
            "classes: [0 1 2 3 4 5 6]\n",
            "    Icd: 0.1610\n",
            "{'mu': 0.6000000000000001, 'seed': None, 'train_acc': 1.0, 'val_acc': 0.808, 'test_acc': 0.838, 'icd0': tensor(0.1516), 'icd1': 4.979502, 'icd2': 0.00040283686, 'icd3': 1.6081303, 'icd4_train': 0.004605706, 'icd4_val': 0.0032651175, 'icd4_test': 0.0012575292}\n",
            "classes: [0 1 2 3 4 5 6]\n",
            "    Icd: 0.1516\n",
            "{'mu': 0.7000000000000001, 'seed': None, 'train_acc': 1.0, 'val_acc': 0.802, 'test_acc': 0.84, 'icd0': tensor(0.1433), 'icd1': 5.352482, 'icd2': 0.0004476002, 'icd3': 1.666633, 'icd4_train': 0.0049751764, 'icd4_val': 0.0035327624, 'icd4_test': 0.0013833955}\n",
            "classes: [0 1 2 3 4 5 6]\n",
            "    Icd: 0.1433\n",
            "{'mu': 0.8, 'seed': None, 'train_acc': 1.0, 'val_acc': 0.8, 'test_acc': 0.838, 'icd0': tensor(0.1376), 'icd1': 5.6836286, 'icd2': 0.0004891769, 'icd3': 1.7166246, 'icd4_train': 0.0052995523, 'icd4_val': 0.0037373204, 'icd4_test': 0.0014958156}\n",
            "classes: [0 1 2 3 4 5 6]\n",
            "    Icd: 0.1376\n",
            "{'mu': 0.9, 'seed': None, 'train_acc': 1.0, 'val_acc': 0.796, 'test_acc': 0.836, 'icd0': tensor(0.1313), 'icd1': 5.9931755, 'icd2': 0.00051759375, 'icd3': 1.7616514, 'icd4_train': 0.0055632964, 'icd4_val': 0.0038964818, 'icd4_test': 0.0015816045}\n",
            "classes: [0 1 2 3 4 5 6]\n",
            "    Icd: 0.1313\n",
            "{'mu': 1.0, 'seed': None, 'train_acc': 1.0, 'val_acc': 0.8, 'test_acc': 0.833, 'icd0': tensor(0.1253), 'icd1': 6.3295636, 'icd2': 0.0005414293, 'icd3': 1.804424, 'icd4_train': 0.0060127275, 'icd4_val': 0.004087381, 'icd4_test': 0.0016542779}\n",
            "classes: [0 1 2 3 4 5 6]\n",
            "    Icd: 0.1253\n",
            "{'mu': 1.1, 'seed': None, 'train_acc': 1.0, 'val_acc': 0.802, 'test_acc': 0.827, 'icd0': tensor(0.1205), 'icd1': 6.5887384, 'icd2': 0.00057633076, 'icd3': 1.8391012, 'icd4_train': 0.0062554893, 'icd4_val': 0.004274698, 'icd4_test': 0.0017388349}\n",
            "classes: [0 1 2 3 4 5 6]\n",
            "    Icd: 0.1205\n",
            "{'mu': 1.2000000000000002, 'seed': None, 'train_acc': 1.0, 'val_acc': 0.798, 'test_acc': 0.824, 'icd0': tensor(0.1218), 'icd1': 6.7657585, 'icd2': 0.00054768904, 'icd3': 1.8635569, 'icd4_train': 0.0061077476, 'icd4_val': 0.003983166, 'icd4_test': 0.0015627489}\n",
            "classes: [0 1 2 3 4 5 6]\n",
            "    Icd: 0.1218\n",
            "{'mu': 1.3, 'seed': None, 'train_acc': 1.0, 'val_acc': 0.722, 'test_acc': 0.747, 'icd0': tensor(0.1197), 'icd1': 7.185792, 'icd2': 0.00064380595, 'icd3': 1.9392071, 'icd4_train': 0.0059391507, 'icd4_val': 0.004931994, 'icd4_test': 0.0017082772}\n",
            "classes: [0 1 2 3 4 5 6]\n",
            "    Icd: 0.1197\n",
            "{'mu': 1.4000000000000001, 'seed': None, 'train_acc': 1.0, 'val_acc': 0.688, 'test_acc': 0.717, 'icd0': tensor(0.1211), 'icd1': 7.4784174, 'icd2': 0.00062920357, 'icd3': 1.9968508, 'icd4_train': 0.005951202, 'icd4_val': 0.0048425538, 'icd4_test': 0.0016953939}\n",
            "classes: [0 1 2 3 4 5 6]\n",
            "    Icd: 0.1211\n",
            "{'mu': 1.5, 'seed': None, 'train_acc': 0.9786, 'val_acc': 0.504, 'test_acc': 0.504, 'icd0': tensor(0.1211), 'icd1': 7.601456, 'icd2': 0.0004964861, 'icd3': 2.0790493, 'icd4_train': 0.004766128, 'icd4_val': 0.0030666762, 'icd4_test': 0.0011531337}\n",
            "classes: [0 1 2 3 4 5 6]\n",
            "    Icd: 0.1211\n",
            "{'mu': 1.6, 'seed': None, 'train_acc': 0.95, 'val_acc': 0.422, 'test_acc': 0.407, 'icd0': tensor(0.1097), 'icd1': 7.7100196, 'icd2': 0.00038655475, 'icd3': 2.1215842, 'icd4_train': 0.0046846853, 'icd4_val': 0.002895407, 'icd4_test': 0.0011904591}\n",
            "classes: [0 1 2 3 4 5 6]\n",
            "    Icd: 0.1097\n",
            "{'mu': 1.7000000000000002, 'seed': None, 'train_acc': 0.95, 'val_acc': 0.416, 'test_acc': 0.403, 'icd0': tensor(0.1052), 'icd1': 7.8716407, 'icd2': 0.000399804, 'icd3': 2.142628, 'icd4_train': 0.004797952, 'icd4_val': 0.002928737, 'icd4_test': 0.0012182401}\n",
            "classes: [0 1 2 3 4 5 6]\n",
            "    Icd: 0.1052\n",
            "{'mu': 1.8, 'seed': None, 'train_acc': 0.9429, 'val_acc': 0.4, 'test_acc': 0.394, 'icd0': tensor(0.1040), 'icd1': 7.9793324, 'icd2': 0.0004123524, 'icd3': 2.1625235, 'icd4_train': 0.0047558607, 'icd4_val': 0.0029636149, 'icd4_test': 0.0012094908}\n",
            "classes: [0 1 2 3 4 5 6]\n",
            "    Icd: 0.1040\n",
            "{'mu': 1.9000000000000001, 'seed': None, 'train_acc': 0.9429, 'val_acc': 0.392, 'test_acc': 0.392, 'icd0': tensor(0.1034), 'icd1': 8.08516, 'icd2': 0.00041697614, 'icd3': 2.1789262, 'icd4_train': 0.004818544, 'icd4_val': 0.0029748108, 'icd4_test': 0.0012315282}\n",
            "classes: [0 1 2 3 4 5 6]\n",
            "    Icd: 0.1034\n",
            "{'mu': 2.0, 'seed': None, 'train_acc': 0.9143, 'val_acc': 0.376, 'test_acc': 0.375, 'icd0': tensor(0.1026), 'icd1': 8.1682005, 'icd2': 0.0004162058, 'icd3': 2.197521, 'icd4_train': 0.004765302, 'icd4_val': 0.0029782355, 'icd4_test': 0.0012611471}\n",
            "classes: [0 1 2 3 4 5 6]\n",
            "    Icd: 0.1026\n"
          ]
        }
      ],
      "source": [
        "# train and evaluate \n",
        "Results, params, params_tag, reg_loss, metrics  = evaluation(mus=mus, reg_loss=reg_loss, p_reg_phi = p_reg_phi)"
      ]
    },
    {
      "cell_type": "code",
      "execution_count": 12,
      "metadata": {
        "colab": {
          "base_uri": "https://localhost:8080/",
          "height": 475
        },
        "id": "UJld5MfBl72W",
        "outputId": "3231dad0-f303-41be-d73a-03ed1324739b"
      },
      "outputs": [
        {
          "ename": "IndexError",
          "evalue": "list index out of range",
          "output_type": "error",
          "traceback": [
            "\u001b[0;31m---------------------------------------------------------------------------\u001b[0m",
            "\u001b[0;31mIndexError\u001b[0m                                Traceback (most recent call last)",
            "\u001b[1;32m/home/sandor/dtu/2021-22-spring/advanced_machine_learning/p-reg/reproducing_abdul/IntraClassDistance.ipynb Cell 26\u001b[0m in \u001b[0;36m<cell line: 2>\u001b[0;34m()\u001b[0m\n\u001b[1;32m      <a href='vscode-notebook-cell:/home/sandor/dtu/2021-22-spring/advanced_machine_learning/p-reg/reproducing_abdul/IntraClassDistance.ipynb#ch0000038?line=0'>1</a>\u001b[0m \u001b[39m# report vis\u001b[39;00m\n\u001b[0;32m----> <a href='vscode-notebook-cell:/home/sandor/dtu/2021-22-spring/advanced_machine_learning/p-reg/reproducing_abdul/IntraClassDistance.ipynb#ch0000038?line=1'>2</a>\u001b[0m report_vis(Results, params, params_tag, reg_loss)\n",
            "File \u001b[0;32m~/dtu/2021-22-spring/advanced_machine_learning/p-reg/reproducing_abdul/utils.py:226\u001b[0m, in \u001b[0;36mreport_vis\u001b[0;34m(Results, params, params_tag, reg_loss)\u001b[0m\n\u001b[1;32m    224\u001b[0m \u001b[39mfor\u001b[39;00m i_tag,tag \u001b[39min\u001b[39;00m \u001b[39menumerate\u001b[39m(tags):    \n\u001b[1;32m    225\u001b[0m     \u001b[39mfor\u001b[39;00m i_data,dataset_name \u001b[39min\u001b[39;00m \u001b[39menumerate\u001b[39m(datasets):\n\u001b[0;32m--> 226\u001b[0m       axs[i_tag]\u001b[39m.\u001b[39mplot(\u001b[39msorted\u001b[39m(params),aux_sort(Results[\u001b[39mf\u001b[39;49m\u001b[39m'\u001b[39;49m\u001b[39m{\u001b[39;49;00mdataset_name\u001b[39m}\u001b[39;49;00m\u001b[39m_\u001b[39;49m\u001b[39m{\u001b[39;49;00mtag\u001b[39m}\u001b[39;49;00m\u001b[39m'\u001b[39;49m][\u001b[39m1\u001b[39;49m],params), color\u001b[39m=\u001b[39mcolors[i_data], marker\u001b[39m=\u001b[39m\u001b[39m'\u001b[39m\u001b[39mo\u001b[39m\u001b[39m'\u001b[39m, label\u001b[39m=\u001b[39m\u001b[39mf\u001b[39m\u001b[39m'\u001b[39m\u001b[39m{\u001b[39;00mdataset_name\u001b[39m}\u001b[39;00m\u001b[39m'\u001b[39m)\n\u001b[1;32m    227\u001b[0m       axs[i_tag]\u001b[39m.\u001b[39mlegend()\n\u001b[1;32m    228\u001b[0m       axs[i_tag]\u001b[39m.\u001b[39mset_title(\u001b[39mf\u001b[39m\u001b[39m'\u001b[39m\u001b[39m{\u001b[39;00mtitles[i_tag]\u001b[39m}\u001b[39;00m\u001b[39m'\u001b[39m)\n",
            "\u001b[0;31mIndexError\u001b[0m: list index out of range"
          ]
        },
        {
          "data": {
            "image/png": "[encoded data removed]",
            "text/plain": [
              "<Figure size 1440x432 with 3 Axes>"
            ]
          },
          "metadata": {},
          "output_type": "display_data"
        }
      ],
      "source": [
        "# report vis\n",
        "report_vis(Results, params, params_tag, reg_loss)"
      ]
    },
    {
      "cell_type": "code",
      "execution_count": null,
      "metadata": {
        "colab": {
          "base_uri": "https://localhost:8080/"
        },
        "id": "3xBscuZN_41q",
        "outputId": "b7b64dc1-233e-44d7-d951-13031e4271fa"
      },
      "outputs": [
        {
          "name": "stdout",
          "output_type": "stream",
          "text": [
            "========= Cora:\n",
            "    acc best Mus on test: 0.8\n",
            "    icd best Mus on test: 0.0\n",
            "========= CiteSeer:\n",
            "    acc best Mus on test: 0.5\n",
            "    icd best Mus on test: 0.2\n",
            "========= PubMed:\n",
            "    acc best Mus on test: 0.2\n",
            "    icd best Mus on test: 0.0\n"
          ]
        }
      ],
      "source": [
        "# report stats\n",
        "report_stats(Results, params, params_tag)"
      ]
    }
  ],
  "metadata": {
    "accelerator": "GPU",
    "colab": {
      "collapsed_sections": [],
      "machine_shape": "hm",
      "name": "IntraClassDistance.ipynb",
      "provenance": []
    },
    "kernelspec": {
      "display_name": "Python 3.8.10 ('p-reg-env')",
      "language": "python",
      "name": "python3"
    },
    "language_info": {
      "codemirror_mode": {
        "name": "ipython",
        "version": 3
      },
      "file_extension": ".py",
      "mimetype": "text/x-python",
      "name": "python",
      "nbconvert_exporter": "python",
      "pygments_lexer": "ipython3",
      "version": "3.8.10"
    },
    "vscode": {
      "interpreter": {
        "hash": "19b21e06a3ecf92dacb2d0dce038f81bb705746e8008c815c25552dc2d0953db"
      }
    }
  },
  "nbformat": 4,
  "nbformat_minor": 0
}
