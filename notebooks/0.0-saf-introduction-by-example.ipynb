{
 "cells": [
  {
   "cell_type": "code",
   "execution_count": null,
   "metadata": {},
   "outputs": [],
   "source": [
    "%cd .."
   ]
  },
  {
   "cell_type": "code",
   "execution_count": 1,
   "metadata": {},
   "outputs": [],
   "source": [
    "import torch\n",
    "from torch_geometric.data import Data\n",
    "from torch_geometric.loader import DataLoader\n",
    "from torch_geometric.datasets import TUDataset"
   ]
  },
  {
   "cell_type": "code",
   "execution_count": 2,
   "metadata": {},
   "outputs": [
    {
     "name": "stderr",
     "output_type": "stream",
     "text": [
      "Downloading https://www.chrsmrrs.com/graphkerneldatasets/ENZYMES.zip\n",
      "Extracting /tmp/ENZYMES/ENZYMES/ENZYMES.zip\n",
      "Processing...\n",
      "Done!\n"
     ]
    }
   ],
   "source": [
    "dataset = TUDataset(root='/tmp/ENZYMES', name='ENZYMES', use_node_attr=True)\n",
    "loader = DataLoader(dataset, batch_size=32, shuffle=True)\n"
   ]
  },
  {
   "cell_type": "code",
   "execution_count": 3,
   "metadata": {},
   "outputs": [
    {
     "name": "stdout",
     "output_type": "stream",
     "text": [
      "DataBatch(edge_index=[2, 3990], x=[1041, 21], y=[32], batch=[1041], ptr=[33])\n",
      "32\n",
      "DataBatch(edge_index=[2, 3438], x=[990, 21], y=[32], batch=[990], ptr=[33])\n",
      "32\n",
      "DataBatch(edge_index=[2, 4456], x=[1160, 21], y=[32], batch=[1160], ptr=[33])\n",
      "32\n",
      "DataBatch(edge_index=[2, 4230], x=[1102, 21], y=[32], batch=[1102], ptr=[33])\n",
      "32\n",
      "DataBatch(edge_index=[2, 3646], x=[929, 21], y=[32], batch=[929], ptr=[33])\n",
      "32\n",
      "DataBatch(edge_index=[2, 4168], x=[1098, 21], y=[32], batch=[1098], ptr=[33])\n",
      "32\n",
      "DataBatch(edge_index=[2, 3956], x=[1047, 21], y=[32], batch=[1047], ptr=[33])\n",
      "32\n",
      "DataBatch(edge_index=[2, 4336], x=[1098, 21], y=[32], batch=[1098], ptr=[33])\n",
      "32\n",
      "DataBatch(edge_index=[2, 4148], x=[1098, 21], y=[32], batch=[1098], ptr=[33])\n",
      "32\n",
      "DataBatch(edge_index=[2, 3682], x=[961, 21], y=[32], batch=[961], ptr=[33])\n",
      "32\n",
      "DataBatch(edge_index=[2, 4212], x=[1179, 21], y=[32], batch=[1179], ptr=[33])\n",
      "32\n",
      "DataBatch(edge_index=[2, 4104], x=[1071, 21], y=[32], batch=[1071], ptr=[33])\n",
      "32\n",
      "DataBatch(edge_index=[2, 3774], x=[988, 21], y=[32], batch=[988], ptr=[33])\n",
      "32\n",
      "DataBatch(edge_index=[2, 3544], x=[915, 21], y=[32], batch=[915], ptr=[33])\n",
      "32\n",
      "DataBatch(edge_index=[2, 4224], x=[1085, 21], y=[32], batch=[1085], ptr=[33])\n",
      "32\n",
      "DataBatch(edge_index=[2, 3920], x=[1039, 21], y=[32], batch=[1039], ptr=[33])\n",
      "32\n",
      "DataBatch(edge_index=[2, 3598], x=[914, 21], y=[32], batch=[914], ptr=[33])\n",
      "32\n",
      "DataBatch(edge_index=[2, 3984], x=[1023, 21], y=[32], batch=[1023], ptr=[33])\n",
      "32\n",
      "DataBatch(edge_index=[2, 3154], x=[842, 21], y=[24], batch=[842], ptr=[25])\n",
      "24\n"
     ]
    }
   ],
   "source": [
    "for batch in loader:\n",
    "    print(batch)\n",
    "    print(batch.num_graphs)"
   ]
  }
 ],
 "metadata": {
  "interpreter": {
   "hash": "19b21e06a3ecf92dacb2d0dce038f81bb705746e8008c815c25552dc2d0953db"
  },
  "kernelspec": {
   "display_name": "Python 3.8.10 ('p-reg-env')",
   "language": "python",
   "name": "python3"
  },
  "language_info": {
   "codemirror_mode": {
    "name": "ipython",
    "version": 3
   },
   "file_extension": ".py",
   "mimetype": "text/x-python",
   "name": "python",
   "nbconvert_exporter": "python",
   "pygments_lexer": "ipython3",
   "version": "3.8.10"
  },
  "orig_nbformat": 4
 },
 "nbformat": 4,
 "nbformat_minor": 2
}
