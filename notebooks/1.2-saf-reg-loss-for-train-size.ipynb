{
 "cells": [
  {
   "cell_type": "code",
   "execution_count": 1,
   "metadata": {},
   "outputs": [
    {
     "name": "stdout",
     "output_type": "stream",
     "text": [
      "/home/sandor/dtu/2021-22-spring/advanced_machine_learning/p-reg\n",
      "Obtaining file:///home/sandor/dtu/2021-22-spring/advanced_machine_learning/p-reg\n",
      "  Preparing metadata (setup.py) ... \u001b[?25ldone\n",
      "\u001b[?25hInstalling collected packages: src\n",
      "  Attempting uninstall: src\n",
      "    Found existing installation: src 0.1.0\n",
      "    Uninstalling src-0.1.0:\n",
      "      Successfully uninstalled src-0.1.0\n",
      "  Running setup.py develop for src\n",
      "Successfully installed src-0.1.0\n",
      "Note: you may need to restart the kernel to use updated packages.\n"
     ]
    }
   ],
   "source": [
    "%cd ..\n",
    "%pip install -e ."
   ]
  },
  {
   "cell_type": "code",
   "execution_count": 5,
   "metadata": {},
   "outputs": [],
   "source": [
    "import random\n",
    "\n",
    "from src.models.dense import NN0\n",
    "from src.models.dense import NN1\n",
    "from src.models.gcn import GCN0\n",
    "\n",
    "from src.models.train_model import train0\n",
    "from src.models.train_model import train1\n",
    "from src.models.train_model import train2\n",
    "from src.models.train_model import set_masks\n",
    "from src.models.train_model import random_splits\n",
    "\n",
    "from src.models.evaluate_model import evaluate0\n",
    "\n",
    "import torch\n",
    "import torch.nn.functional as F\n",
    "import matplotlib.pyplot as plt\n",
    "\n",
    "from torch_geometric.data import Data\n",
    "from torch_geometric.loader import DataLoader\n",
    "from torch_geometric.datasets import Planetoid\n",
    "\n",
    "from sklearn.manifold import TSNE"
   ]
  },
  {
   "cell_type": "code",
   "execution_count": 13,
   "metadata": {},
   "outputs": [
    {
     "name": "stdout",
     "output_type": "stream",
     "text": [
      "A: 5, B: 2, mu: 0.058, noreg, Accuracy: 0.7503\n",
      "A: 5, B: 2, mu: 0.058, reg, Accuracy: 0.7484\n",
      "----------------------\n",
      "A: 10, B: 5, mu: 0.058, noreg, Accuracy: 0.8033\n",
      "A: 10, B: 5, mu: 0.058, reg, Accuracy: 0.7956\n",
      "----------------------\n",
      "A: 20, B: 5, mu: 0.058, noreg, Accuracy: 0.8038\n",
      "A: 20, B: 5, mu: 0.058, reg, Accuracy: 0.6668\n",
      "----------------------\n",
      "A: 40, B: 10, mu: 0.058, noreg, Accuracy: 0.8346\n",
      "A: 40, B: 10, mu: 0.058, reg, Accuracy: 0.2583\n",
      "----------------------\n",
      "A: 100, B: 20, mu: 0.058, noreg, Accuracy: 0.8319\n",
      "A: 100, B: 20, mu: 0.058, reg, Accuracy: 0.3742\n",
      "----------------------\n"
     ]
    }
   ],
   "source": [
    "import random\n",
    "device = torch.device('cuda' if torch.cuda.is_available() else 'cpu')\n",
    "\n",
    "dataset = Planetoid(root='data/Planetoid', name='Cora')\n",
    "data = dataset[0].to(device)\n",
    "mu = 0.058\n",
    "for A, B in [[5,2], [10,5], [20, 5], [40, 10], [100, 20]]:\n",
    "    torch.manual_seed(0)\n",
    "    random.seed(0)\n",
    "    data = random_splits(data, A, B)\n",
    "    \n",
    "    gcn_model = GCN0(num_node_features=dataset.num_node_features,\n",
    "                    num_classes=dataset.num_classes) \\\n",
    "                    .to(device)\n",
    "\n",
    "    gcn_model = train0(gcn_model, data)\n",
    "    acc = evaluate0(gcn_model, data)\n",
    "\n",
    "    print(f'A: {A}, B: {B}, mu: {mu}, noreg, Accuracy: {acc:.4f}')\n",
    "\n",
    "    gcn_model = GCN0(num_node_features=dataset.num_node_features,\n",
    "                    num_classes=dataset.num_classes) \\\n",
    "                    .to(device)\n",
    "\n",
    "    gcn_model = train1(gcn_model, data, mu=mu)\n",
    "    acc = evaluate0(gcn_model, data)\n",
    "    print(f'A: {A}, B: {B}, mu: {mu}, reg, Accuracy: {acc:.4f}')\n",
    "    print('----------------------')\n"
   ]
  },
  {
   "cell_type": "code",
   "execution_count": 12,
   "metadata": {},
   "outputs": [
    {
     "name": "stdout",
     "output_type": "stream",
     "text": [
      "mu: 0.05, reg, Accuracy: 0.7910\n",
      "--------------------------------------------\n",
      "mu: 0.051000000000000004, reg, Accuracy: 0.7906\n",
      "--------------------------------------------\n",
      "mu: 0.052000000000000005, reg, Accuracy: 0.7922\n",
      "--------------------------------------------\n",
      "mu: 0.053000000000000005, reg, Accuracy: 0.7914\n",
      "--------------------------------------------\n",
      "mu: 0.054000000000000006, reg, Accuracy: 0.7899\n",
      "--------------------------------------------\n",
      "mu: 0.055, reg, Accuracy: 0.7902\n",
      "--------------------------------------------\n",
      "mu: 0.056, reg, Accuracy: 0.7918\n",
      "--------------------------------------------\n",
      "mu: 0.057, reg, Accuracy: 0.7914\n",
      "--------------------------------------------\n",
      "mu: 0.058, reg, Accuracy: 0.7918\n",
      "--------------------------------------------\n",
      "mu: 0.059000000000000004, reg, Accuracy: 0.7906\n",
      "--------------------------------------------\n"
     ]
    }
   ],
   "source": [
    "device = torch.device('cuda' if torch.cuda.is_available() else 'cpu')\n",
    "\n",
    "dataset = Planetoid(root='data/Planetoid', name='Cora')\n",
    "data = dataset[0].to(device)\n",
    "\n",
    "for mu in range(10):\n",
    "    mu = 0.05 + mu*0.001\n",
    "    torch.manual_seed(1)\n",
    "    random.seed(1)\n",
    "\n",
    "    data = random_splits(data, 10, 5)\n",
    "\n",
    "    gcn_model = GCN0(num_node_features=dataset.num_node_features,\n",
    "                    num_classes=dataset.num_classes) \\\n",
    "                    .to(device)\n",
    "\n",
    "    gcn_model = train1(gcn_model, data, mu=mu)\n",
    "    # gcn_model = train2(gcn_model, data)\n",
    "    acc = evaluate0(gcn_model, data)\n",
    "    print(f'mu: {mu}, reg, Accuracy: {acc:.4f}')\n",
    "    print('--------------------------------------------')"
   ]
  }
 ],
 "metadata": {
  "interpreter": {
   "hash": "19b21e06a3ecf92dacb2d0dce038f81bb705746e8008c815c25552dc2d0953db"
  },
  "kernelspec": {
   "display_name": "Python 3.8.10 ('p-reg-env')",
   "language": "python",
   "name": "python3"
  },
  "language_info": {
   "codemirror_mode": {
    "name": "ipython",
    "version": 3
   },
   "file_extension": ".py",
   "mimetype": "text/x-python",
   "name": "python",
   "nbconvert_exporter": "python",
   "pygments_lexer": "ipython3",
   "version": "3.8.10"
  },
  "orig_nbformat": 4
 },
 "nbformat": 4,
 "nbformat_minor": 2
}
