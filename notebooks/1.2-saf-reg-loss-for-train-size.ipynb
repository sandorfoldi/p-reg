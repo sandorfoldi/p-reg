{
 "cells": [
  {
   "cell_type": "code",
   "execution_count": 1,
   "metadata": {},
   "outputs": [
    {
     "name": "stdout",
     "output_type": "stream",
     "text": [
      "/home/sandor/dtu/2021-22-spring/advanced_machine_learning/p-reg\n",
      "Obtaining file:///home/sandor/dtu/2021-22-spring/advanced_machine_learning/p-reg\n",
      "  Preparing metadata (setup.py) ... \u001b[?25ldone\n",
      "\u001b[?25hInstalling collected packages: src\n",
      "  Attempting uninstall: src\n",
      "    Found existing installation: src 0.1.0\n",
      "    Uninstalling src-0.1.0:\n",
      "      Successfully uninstalled src-0.1.0\n",
      "  Running setup.py develop for src\n",
      "Successfully installed src-0.1.0\n",
      "Note: you may need to restart the kernel to use updated packages.\n"
     ]
    }
   ],
   "source": [
    "%cd ..\n",
    "%pip install -e ."
   ]
  },
  {
   "cell_type": "code",
   "execution_count": 2,
   "metadata": {},
   "outputs": [],
   "source": [
    "import random\n",
    "\n",
    "from src.models.dense import NN0\n",
    "from src.models.dense import NN1\n",
    "from src.models.gcn import GCN0\n",
    "\n",
    "from src.models.train_model import train0\n",
    "from src.models.train_model import train1\n",
    "from src.models.train_model import random_splits\n",
    "\n",
    "from src.models.evaluate_model import evaluate0\n",
    "\n",
    "import torch\n",
    "import torch.nn.functional as F\n",
    "import matplotlib.pyplot as plt\n",
    "\n",
    "from torch_geometric.data import Data\n",
    "from torch_geometric.loader import DataLoader\n",
    "from torch_geometric.datasets import Planetoid\n",
    "\n",
    "from sklearn.manifold import TSNE"
   ]
  },
  {
   "cell_type": "code",
   "execution_count": 3,
   "metadata": {},
   "outputs": [
    {
     "name": "stderr",
     "output_type": "stream",
     "text": [
      "Downloading https://github.com/kimiyoung/planetoid/raw/master/data/ind.cora.x\n",
      "Downloading https://github.com/kimiyoung/planetoid/raw/master/data/ind.cora.tx\n",
      "Downloading https://github.com/kimiyoung/planetoid/raw/master/data/ind.cora.allx\n",
      "Downloading https://github.com/kimiyoung/planetoid/raw/master/data/ind.cora.y\n",
      "Downloading https://github.com/kimiyoung/planetoid/raw/master/data/ind.cora.ty\n",
      "Downloading https://github.com/kimiyoung/planetoid/raw/master/data/ind.cora.ally\n",
      "Downloading https://github.com/kimiyoung/planetoid/raw/master/data/ind.cora.graph\n",
      "Downloading https://github.com/kimiyoung/planetoid/raw/master/data/ind.cora.test.index\n"
     ]
    },
    {
     "ename": "KeyboardInterrupt",
     "evalue": "",
     "output_type": "error",
     "traceback": [
      "\u001b[0;31m---------------------------------------------------------------------------\u001b[0m",
      "\u001b[0;31mKeyboardInterrupt\u001b[0m                         Traceback (most recent call last)",
      "Input \u001b[0;32mIn [3]\u001b[0m, in \u001b[0;36m<cell line: 3>\u001b[0;34m()\u001b[0m\n\u001b[1;32m      1\u001b[0m device \u001b[39m=\u001b[39m torch\u001b[39m.\u001b[39mdevice(\u001b[39m'\u001b[39m\u001b[39mcuda\u001b[39m\u001b[39m'\u001b[39m \u001b[39mif\u001b[39;00m torch\u001b[39m.\u001b[39mcuda\u001b[39m.\u001b[39mis_available() \u001b[39melse\u001b[39;00m \u001b[39m'\u001b[39m\u001b[39mcpu\u001b[39m\u001b[39m'\u001b[39m)\n\u001b[0;32m----> 3\u001b[0m dataset \u001b[39m=\u001b[39m Planetoid(root\u001b[39m=\u001b[39;49m\u001b[39m'\u001b[39;49m\u001b[39mdata/Planetoid\u001b[39;49m\u001b[39m'\u001b[39;49m, name\u001b[39m=\u001b[39;49m\u001b[39m'\u001b[39;49m\u001b[39mCora\u001b[39;49m\u001b[39m'\u001b[39;49m)\n\u001b[1;32m      4\u001b[0m data \u001b[39m=\u001b[39m dataset[\u001b[39m0\u001b[39m]\u001b[39m.\u001b[39mto(device)\n\u001b[1;32m      5\u001b[0m mu \u001b[39m=\u001b[39m \u001b[39m0.058\u001b[39m\n",
      "File \u001b[0;32m~/.virtualenv/p-reg-env/lib/python3.8/site-packages/torch_geometric/datasets/planetoid.py:58\u001b[0m, in \u001b[0;36mPlanetoid.__init__\u001b[0;34m(self, root, name, split, num_train_per_class, num_val, num_test, transform, pre_transform)\u001b[0m\n\u001b[1;32m     <a href='file:///~/.virtualenv/p-reg-env/lib/python3.8/site-packages/torch_geometric/datasets/planetoid.py?line=51'>52</a>\u001b[0m \u001b[39mdef\u001b[39;00m \u001b[39m__init__\u001b[39m(\u001b[39mself\u001b[39m, root: \u001b[39mstr\u001b[39m, name: \u001b[39mstr\u001b[39m, split: \u001b[39mstr\u001b[39m \u001b[39m=\u001b[39m \u001b[39m\"\u001b[39m\u001b[39mpublic\u001b[39m\u001b[39m\"\u001b[39m,\n\u001b[1;32m     <a href='file:///~/.virtualenv/p-reg-env/lib/python3.8/site-packages/torch_geometric/datasets/planetoid.py?line=52'>53</a>\u001b[0m              num_train_per_class: \u001b[39mint\u001b[39m \u001b[39m=\u001b[39m \u001b[39m20\u001b[39m, num_val: \u001b[39mint\u001b[39m \u001b[39m=\u001b[39m \u001b[39m500\u001b[39m,\n\u001b[1;32m     <a href='file:///~/.virtualenv/p-reg-env/lib/python3.8/site-packages/torch_geometric/datasets/planetoid.py?line=53'>54</a>\u001b[0m              num_test: \u001b[39mint\u001b[39m \u001b[39m=\u001b[39m \u001b[39m1000\u001b[39m, transform: Optional[Callable] \u001b[39m=\u001b[39m \u001b[39mNone\u001b[39;00m,\n\u001b[1;32m     <a href='file:///~/.virtualenv/p-reg-env/lib/python3.8/site-packages/torch_geometric/datasets/planetoid.py?line=54'>55</a>\u001b[0m              pre_transform: Optional[Callable] \u001b[39m=\u001b[39m \u001b[39mNone\u001b[39;00m):\n\u001b[1;32m     <a href='file:///~/.virtualenv/p-reg-env/lib/python3.8/site-packages/torch_geometric/datasets/planetoid.py?line=55'>56</a>\u001b[0m     \u001b[39mself\u001b[39m\u001b[39m.\u001b[39mname \u001b[39m=\u001b[39m name\n\u001b[0;32m---> <a href='file:///~/.virtualenv/p-reg-env/lib/python3.8/site-packages/torch_geometric/datasets/planetoid.py?line=57'>58</a>\u001b[0m     \u001b[39msuper\u001b[39;49m()\u001b[39m.\u001b[39;49m\u001b[39m__init__\u001b[39;49m(root, transform, pre_transform)\n\u001b[1;32m     <a href='file:///~/.virtualenv/p-reg-env/lib/python3.8/site-packages/torch_geometric/datasets/planetoid.py?line=58'>59</a>\u001b[0m     \u001b[39mself\u001b[39m\u001b[39m.\u001b[39mdata, \u001b[39mself\u001b[39m\u001b[39m.\u001b[39mslices \u001b[39m=\u001b[39m torch\u001b[39m.\u001b[39mload(\u001b[39mself\u001b[39m\u001b[39m.\u001b[39mprocessed_paths[\u001b[39m0\u001b[39m])\n\u001b[1;32m     <a href='file:///~/.virtualenv/p-reg-env/lib/python3.8/site-packages/torch_geometric/datasets/planetoid.py?line=60'>61</a>\u001b[0m     \u001b[39mself\u001b[39m\u001b[39m.\u001b[39msplit \u001b[39m=\u001b[39m split\n",
      "File \u001b[0;32m~/.virtualenv/p-reg-env/lib/python3.8/site-packages/torch_geometric/data/in_memory_dataset.py:57\u001b[0m, in \u001b[0;36mInMemoryDataset.__init__\u001b[0;34m(self, root, transform, pre_transform, pre_filter)\u001b[0m\n\u001b[1;32m     <a href='file:///~/.virtualenv/p-reg-env/lib/python3.8/site-packages/torch_geometric/data/in_memory_dataset.py?line=52'>53</a>\u001b[0m \u001b[39mdef\u001b[39;00m \u001b[39m__init__\u001b[39m(\u001b[39mself\u001b[39m, root: Optional[\u001b[39mstr\u001b[39m] \u001b[39m=\u001b[39m \u001b[39mNone\u001b[39;00m,\n\u001b[1;32m     <a href='file:///~/.virtualenv/p-reg-env/lib/python3.8/site-packages/torch_geometric/data/in_memory_dataset.py?line=53'>54</a>\u001b[0m              transform: Optional[Callable] \u001b[39m=\u001b[39m \u001b[39mNone\u001b[39;00m,\n\u001b[1;32m     <a href='file:///~/.virtualenv/p-reg-env/lib/python3.8/site-packages/torch_geometric/data/in_memory_dataset.py?line=54'>55</a>\u001b[0m              pre_transform: Optional[Callable] \u001b[39m=\u001b[39m \u001b[39mNone\u001b[39;00m,\n\u001b[1;32m     <a href='file:///~/.virtualenv/p-reg-env/lib/python3.8/site-packages/torch_geometric/data/in_memory_dataset.py?line=55'>56</a>\u001b[0m              pre_filter: Optional[Callable] \u001b[39m=\u001b[39m \u001b[39mNone\u001b[39;00m):\n\u001b[0;32m---> <a href='file:///~/.virtualenv/p-reg-env/lib/python3.8/site-packages/torch_geometric/data/in_memory_dataset.py?line=56'>57</a>\u001b[0m     \u001b[39msuper\u001b[39;49m()\u001b[39m.\u001b[39;49m\u001b[39m__init__\u001b[39;49m(root, transform, pre_transform, pre_filter)\n\u001b[1;32m     <a href='file:///~/.virtualenv/p-reg-env/lib/python3.8/site-packages/torch_geometric/data/in_memory_dataset.py?line=57'>58</a>\u001b[0m     \u001b[39mself\u001b[39m\u001b[39m.\u001b[39mdata \u001b[39m=\u001b[39m \u001b[39mNone\u001b[39;00m\n\u001b[1;32m     <a href='file:///~/.virtualenv/p-reg-env/lib/python3.8/site-packages/torch_geometric/data/in_memory_dataset.py?line=58'>59</a>\u001b[0m     \u001b[39mself\u001b[39m\u001b[39m.\u001b[39mslices \u001b[39m=\u001b[39m \u001b[39mNone\u001b[39;00m\n",
      "File \u001b[0;32m~/.virtualenv/p-reg-env/lib/python3.8/site-packages/torch_geometric/data/dataset.py:85\u001b[0m, in \u001b[0;36mDataset.__init__\u001b[0;34m(self, root, transform, pre_transform, pre_filter)\u001b[0m\n\u001b[1;32m     <a href='file:///~/.virtualenv/p-reg-env/lib/python3.8/site-packages/torch_geometric/data/dataset.py?line=81'>82</a>\u001b[0m \u001b[39mself\u001b[39m\u001b[39m.\u001b[39m_indices: Optional[Sequence] \u001b[39m=\u001b[39m \u001b[39mNone\u001b[39;00m\n\u001b[1;32m     <a href='file:///~/.virtualenv/p-reg-env/lib/python3.8/site-packages/torch_geometric/data/dataset.py?line=83'>84</a>\u001b[0m \u001b[39mif\u001b[39;00m \u001b[39m'\u001b[39m\u001b[39mdownload\u001b[39m\u001b[39m'\u001b[39m \u001b[39min\u001b[39;00m \u001b[39mself\u001b[39m\u001b[39m.\u001b[39m\u001b[39m__class__\u001b[39m\u001b[39m.\u001b[39m\u001b[39m__dict__\u001b[39m:\n\u001b[0;32m---> <a href='file:///~/.virtualenv/p-reg-env/lib/python3.8/site-packages/torch_geometric/data/dataset.py?line=84'>85</a>\u001b[0m     \u001b[39mself\u001b[39;49m\u001b[39m.\u001b[39;49m_download()\n\u001b[1;32m     <a href='file:///~/.virtualenv/p-reg-env/lib/python3.8/site-packages/torch_geometric/data/dataset.py?line=86'>87</a>\u001b[0m \u001b[39mif\u001b[39;00m \u001b[39m'\u001b[39m\u001b[39mprocess\u001b[39m\u001b[39m'\u001b[39m \u001b[39min\u001b[39;00m \u001b[39mself\u001b[39m\u001b[39m.\u001b[39m\u001b[39m__class__\u001b[39m\u001b[39m.\u001b[39m\u001b[39m__dict__\u001b[39m:\n\u001b[1;32m     <a href='file:///~/.virtualenv/p-reg-env/lib/python3.8/site-packages/torch_geometric/data/dataset.py?line=87'>88</a>\u001b[0m     \u001b[39mself\u001b[39m\u001b[39m.\u001b[39m_process()\n",
      "File \u001b[0;32m~/.virtualenv/p-reg-env/lib/python3.8/site-packages/torch_geometric/data/dataset.py:146\u001b[0m, in \u001b[0;36mDataset._download\u001b[0;34m(self)\u001b[0m\n\u001b[1;32m    <a href='file:///~/.virtualenv/p-reg-env/lib/python3.8/site-packages/torch_geometric/data/dataset.py?line=142'>143</a>\u001b[0m     \u001b[39mreturn\u001b[39;00m\n\u001b[1;32m    <a href='file:///~/.virtualenv/p-reg-env/lib/python3.8/site-packages/torch_geometric/data/dataset.py?line=144'>145</a>\u001b[0m makedirs(\u001b[39mself\u001b[39m\u001b[39m.\u001b[39mraw_dir)\n\u001b[0;32m--> <a href='file:///~/.virtualenv/p-reg-env/lib/python3.8/site-packages/torch_geometric/data/dataset.py?line=145'>146</a>\u001b[0m \u001b[39mself\u001b[39;49m\u001b[39m.\u001b[39;49mdownload()\n",
      "File \u001b[0;32m~/.virtualenv/p-reg-env/lib/python3.8/site-packages/torch_geometric/datasets/planetoid.py:108\u001b[0m, in \u001b[0;36mPlanetoid.download\u001b[0;34m(self)\u001b[0m\n\u001b[1;32m    <a href='file:///~/.virtualenv/p-reg-env/lib/python3.8/site-packages/torch_geometric/datasets/planetoid.py?line=105'>106</a>\u001b[0m \u001b[39mdef\u001b[39;00m \u001b[39mdownload\u001b[39m(\u001b[39mself\u001b[39m):\n\u001b[1;32m    <a href='file:///~/.virtualenv/p-reg-env/lib/python3.8/site-packages/torch_geometric/datasets/planetoid.py?line=106'>107</a>\u001b[0m     \u001b[39mfor\u001b[39;00m name \u001b[39min\u001b[39;00m \u001b[39mself\u001b[39m\u001b[39m.\u001b[39mraw_file_names:\n\u001b[0;32m--> <a href='file:///~/.virtualenv/p-reg-env/lib/python3.8/site-packages/torch_geometric/datasets/planetoid.py?line=107'>108</a>\u001b[0m         download_url(\u001b[39mf\u001b[39;49m\u001b[39m'\u001b[39;49m\u001b[39m{\u001b[39;49;00m\u001b[39mself\u001b[39;49m\u001b[39m.\u001b[39;49murl\u001b[39m}\u001b[39;49;00m\u001b[39m/\u001b[39;49m\u001b[39m{\u001b[39;49;00mname\u001b[39m}\u001b[39;49;00m\u001b[39m'\u001b[39;49m, \u001b[39mself\u001b[39;49m\u001b[39m.\u001b[39;49mraw_dir)\n",
      "File \u001b[0;32m~/.virtualenv/p-reg-env/lib/python3.8/site-packages/torch_geometric/data/download.py:34\u001b[0m, in \u001b[0;36mdownload_url\u001b[0;34m(url, folder, log)\u001b[0m\n\u001b[1;32m     <a href='file:///~/.virtualenv/p-reg-env/lib/python3.8/site-packages/torch_geometric/data/download.py?line=30'>31</a>\u001b[0m makedirs(folder)\n\u001b[1;32m     <a href='file:///~/.virtualenv/p-reg-env/lib/python3.8/site-packages/torch_geometric/data/download.py?line=32'>33</a>\u001b[0m context \u001b[39m=\u001b[39m ssl\u001b[39m.\u001b[39m_create_unverified_context()\n\u001b[0;32m---> <a href='file:///~/.virtualenv/p-reg-env/lib/python3.8/site-packages/torch_geometric/data/download.py?line=33'>34</a>\u001b[0m data \u001b[39m=\u001b[39m urllib\u001b[39m.\u001b[39;49mrequest\u001b[39m.\u001b[39;49murlopen(url, context\u001b[39m=\u001b[39;49mcontext)\n\u001b[1;32m     <a href='file:///~/.virtualenv/p-reg-env/lib/python3.8/site-packages/torch_geometric/data/download.py?line=35'>36</a>\u001b[0m \u001b[39mwith\u001b[39;00m \u001b[39mopen\u001b[39m(path, \u001b[39m'\u001b[39m\u001b[39mwb\u001b[39m\u001b[39m'\u001b[39m) \u001b[39mas\u001b[39;00m f:\n\u001b[1;32m     <a href='file:///~/.virtualenv/p-reg-env/lib/python3.8/site-packages/torch_geometric/data/download.py?line=36'>37</a>\u001b[0m     f\u001b[39m.\u001b[39mwrite(data\u001b[39m.\u001b[39mread())\n",
      "File \u001b[0;32m/usr/lib/python3.8/urllib/request.py:222\u001b[0m, in \u001b[0;36murlopen\u001b[0;34m(url, data, timeout, cafile, capath, cadefault, context)\u001b[0m\n\u001b[1;32m    <a href='file:///usr/lib/python3.8/urllib/request.py?line=219'>220</a>\u001b[0m \u001b[39melse\u001b[39;00m:\n\u001b[1;32m    <a href='file:///usr/lib/python3.8/urllib/request.py?line=220'>221</a>\u001b[0m     opener \u001b[39m=\u001b[39m _opener\n\u001b[0;32m--> <a href='file:///usr/lib/python3.8/urllib/request.py?line=221'>222</a>\u001b[0m \u001b[39mreturn\u001b[39;00m opener\u001b[39m.\u001b[39;49mopen(url, data, timeout)\n",
      "File \u001b[0;32m/usr/lib/python3.8/urllib/request.py:531\u001b[0m, in \u001b[0;36mOpenerDirector.open\u001b[0;34m(self, fullurl, data, timeout)\u001b[0m\n\u001b[1;32m    <a href='file:///usr/lib/python3.8/urllib/request.py?line=528'>529</a>\u001b[0m \u001b[39mfor\u001b[39;00m processor \u001b[39min\u001b[39;00m \u001b[39mself\u001b[39m\u001b[39m.\u001b[39mprocess_response\u001b[39m.\u001b[39mget(protocol, []):\n\u001b[1;32m    <a href='file:///usr/lib/python3.8/urllib/request.py?line=529'>530</a>\u001b[0m     meth \u001b[39m=\u001b[39m \u001b[39mgetattr\u001b[39m(processor, meth_name)\n\u001b[0;32m--> <a href='file:///usr/lib/python3.8/urllib/request.py?line=530'>531</a>\u001b[0m     response \u001b[39m=\u001b[39m meth(req, response)\n\u001b[1;32m    <a href='file:///usr/lib/python3.8/urllib/request.py?line=532'>533</a>\u001b[0m \u001b[39mreturn\u001b[39;00m response\n",
      "File \u001b[0;32m/usr/lib/python3.8/urllib/request.py:640\u001b[0m, in \u001b[0;36mHTTPErrorProcessor.http_response\u001b[0;34m(self, request, response)\u001b[0m\n\u001b[1;32m    <a href='file:///usr/lib/python3.8/urllib/request.py?line=636'>637</a>\u001b[0m \u001b[39m# According to RFC 2616, \"2xx\" code indicates that the client's\u001b[39;00m\n\u001b[1;32m    <a href='file:///usr/lib/python3.8/urllib/request.py?line=637'>638</a>\u001b[0m \u001b[39m# request was successfully received, understood, and accepted.\u001b[39;00m\n\u001b[1;32m    <a href='file:///usr/lib/python3.8/urllib/request.py?line=638'>639</a>\u001b[0m \u001b[39mif\u001b[39;00m \u001b[39mnot\u001b[39;00m (\u001b[39m200\u001b[39m \u001b[39m<\u001b[39m\u001b[39m=\u001b[39m code \u001b[39m<\u001b[39m \u001b[39m300\u001b[39m):\n\u001b[0;32m--> <a href='file:///usr/lib/python3.8/urllib/request.py?line=639'>640</a>\u001b[0m     response \u001b[39m=\u001b[39m \u001b[39mself\u001b[39;49m\u001b[39m.\u001b[39;49mparent\u001b[39m.\u001b[39;49merror(\n\u001b[1;32m    <a href='file:///usr/lib/python3.8/urllib/request.py?line=640'>641</a>\u001b[0m         \u001b[39m'\u001b[39;49m\u001b[39mhttp\u001b[39;49m\u001b[39m'\u001b[39;49m, request, response, code, msg, hdrs)\n\u001b[1;32m    <a href='file:///usr/lib/python3.8/urllib/request.py?line=642'>643</a>\u001b[0m \u001b[39mreturn\u001b[39;00m response\n",
      "File \u001b[0;32m/usr/lib/python3.8/urllib/request.py:563\u001b[0m, in \u001b[0;36mOpenerDirector.error\u001b[0;34m(self, proto, *args)\u001b[0m\n\u001b[1;32m    <a href='file:///usr/lib/python3.8/urllib/request.py?line=560'>561</a>\u001b[0m     http_err \u001b[39m=\u001b[39m \u001b[39m0\u001b[39m\n\u001b[1;32m    <a href='file:///usr/lib/python3.8/urllib/request.py?line=561'>562</a>\u001b[0m args \u001b[39m=\u001b[39m (\u001b[39mdict\u001b[39m, proto, meth_name) \u001b[39m+\u001b[39m args\n\u001b[0;32m--> <a href='file:///usr/lib/python3.8/urllib/request.py?line=562'>563</a>\u001b[0m result \u001b[39m=\u001b[39m \u001b[39mself\u001b[39;49m\u001b[39m.\u001b[39;49m_call_chain(\u001b[39m*\u001b[39;49margs)\n\u001b[1;32m    <a href='file:///usr/lib/python3.8/urllib/request.py?line=563'>564</a>\u001b[0m \u001b[39mif\u001b[39;00m result:\n\u001b[1;32m    <a href='file:///usr/lib/python3.8/urllib/request.py?line=564'>565</a>\u001b[0m     \u001b[39mreturn\u001b[39;00m result\n",
      "File \u001b[0;32m/usr/lib/python3.8/urllib/request.py:502\u001b[0m, in \u001b[0;36mOpenerDirector._call_chain\u001b[0;34m(self, chain, kind, meth_name, *args)\u001b[0m\n\u001b[1;32m    <a href='file:///usr/lib/python3.8/urllib/request.py?line=499'>500</a>\u001b[0m \u001b[39mfor\u001b[39;00m handler \u001b[39min\u001b[39;00m handlers:\n\u001b[1;32m    <a href='file:///usr/lib/python3.8/urllib/request.py?line=500'>501</a>\u001b[0m     func \u001b[39m=\u001b[39m \u001b[39mgetattr\u001b[39m(handler, meth_name)\n\u001b[0;32m--> <a href='file:///usr/lib/python3.8/urllib/request.py?line=501'>502</a>\u001b[0m     result \u001b[39m=\u001b[39m func(\u001b[39m*\u001b[39;49margs)\n\u001b[1;32m    <a href='file:///usr/lib/python3.8/urllib/request.py?line=502'>503</a>\u001b[0m     \u001b[39mif\u001b[39;00m result \u001b[39mis\u001b[39;00m \u001b[39mnot\u001b[39;00m \u001b[39mNone\u001b[39;00m:\n\u001b[1;32m    <a href='file:///usr/lib/python3.8/urllib/request.py?line=503'>504</a>\u001b[0m         \u001b[39mreturn\u001b[39;00m result\n",
      "File \u001b[0;32m/usr/lib/python3.8/urllib/request.py:755\u001b[0m, in \u001b[0;36mHTTPRedirectHandler.http_error_302\u001b[0;34m(self, req, fp, code, msg, headers)\u001b[0m\n\u001b[1;32m    <a href='file:///usr/lib/python3.8/urllib/request.py?line=751'>752</a>\u001b[0m fp\u001b[39m.\u001b[39mread()\n\u001b[1;32m    <a href='file:///usr/lib/python3.8/urllib/request.py?line=752'>753</a>\u001b[0m fp\u001b[39m.\u001b[39mclose()\n\u001b[0;32m--> <a href='file:///usr/lib/python3.8/urllib/request.py?line=754'>755</a>\u001b[0m \u001b[39mreturn\u001b[39;00m \u001b[39mself\u001b[39;49m\u001b[39m.\u001b[39;49mparent\u001b[39m.\u001b[39;49mopen(new, timeout\u001b[39m=\u001b[39;49mreq\u001b[39m.\u001b[39;49mtimeout)\n",
      "File \u001b[0;32m/usr/lib/python3.8/urllib/request.py:525\u001b[0m, in \u001b[0;36mOpenerDirector.open\u001b[0;34m(self, fullurl, data, timeout)\u001b[0m\n\u001b[1;32m    <a href='file:///usr/lib/python3.8/urllib/request.py?line=521'>522</a>\u001b[0m     req \u001b[39m=\u001b[39m meth(req)\n\u001b[1;32m    <a href='file:///usr/lib/python3.8/urllib/request.py?line=523'>524</a>\u001b[0m sys\u001b[39m.\u001b[39maudit(\u001b[39m'\u001b[39m\u001b[39murllib.Request\u001b[39m\u001b[39m'\u001b[39m, req\u001b[39m.\u001b[39mfull_url, req\u001b[39m.\u001b[39mdata, req\u001b[39m.\u001b[39mheaders, req\u001b[39m.\u001b[39mget_method())\n\u001b[0;32m--> <a href='file:///usr/lib/python3.8/urllib/request.py?line=524'>525</a>\u001b[0m response \u001b[39m=\u001b[39m \u001b[39mself\u001b[39;49m\u001b[39m.\u001b[39;49m_open(req, data)\n\u001b[1;32m    <a href='file:///usr/lib/python3.8/urllib/request.py?line=526'>527</a>\u001b[0m \u001b[39m# post-process response\u001b[39;00m\n\u001b[1;32m    <a href='file:///usr/lib/python3.8/urllib/request.py?line=527'>528</a>\u001b[0m meth_name \u001b[39m=\u001b[39m protocol\u001b[39m+\u001b[39m\u001b[39m\"\u001b[39m\u001b[39m_response\u001b[39m\u001b[39m\"\u001b[39m\n",
      "File \u001b[0;32m/usr/lib/python3.8/urllib/request.py:542\u001b[0m, in \u001b[0;36mOpenerDirector._open\u001b[0;34m(self, req, data)\u001b[0m\n\u001b[1;32m    <a href='file:///usr/lib/python3.8/urllib/request.py?line=538'>539</a>\u001b[0m     \u001b[39mreturn\u001b[39;00m result\n\u001b[1;32m    <a href='file:///usr/lib/python3.8/urllib/request.py?line=540'>541</a>\u001b[0m protocol \u001b[39m=\u001b[39m req\u001b[39m.\u001b[39mtype\n\u001b[0;32m--> <a href='file:///usr/lib/python3.8/urllib/request.py?line=541'>542</a>\u001b[0m result \u001b[39m=\u001b[39m \u001b[39mself\u001b[39;49m\u001b[39m.\u001b[39;49m_call_chain(\u001b[39mself\u001b[39;49m\u001b[39m.\u001b[39;49mhandle_open, protocol, protocol \u001b[39m+\u001b[39;49m\n\u001b[1;32m    <a href='file:///usr/lib/python3.8/urllib/request.py?line=542'>543</a>\u001b[0m                           \u001b[39m'\u001b[39;49m\u001b[39m_open\u001b[39;49m\u001b[39m'\u001b[39;49m, req)\n\u001b[1;32m    <a href='file:///usr/lib/python3.8/urllib/request.py?line=543'>544</a>\u001b[0m \u001b[39mif\u001b[39;00m result:\n\u001b[1;32m    <a href='file:///usr/lib/python3.8/urllib/request.py?line=544'>545</a>\u001b[0m     \u001b[39mreturn\u001b[39;00m result\n",
      "File \u001b[0;32m/usr/lib/python3.8/urllib/request.py:502\u001b[0m, in \u001b[0;36mOpenerDirector._call_chain\u001b[0;34m(self, chain, kind, meth_name, *args)\u001b[0m\n\u001b[1;32m    <a href='file:///usr/lib/python3.8/urllib/request.py?line=499'>500</a>\u001b[0m \u001b[39mfor\u001b[39;00m handler \u001b[39min\u001b[39;00m handlers:\n\u001b[1;32m    <a href='file:///usr/lib/python3.8/urllib/request.py?line=500'>501</a>\u001b[0m     func \u001b[39m=\u001b[39m \u001b[39mgetattr\u001b[39m(handler, meth_name)\n\u001b[0;32m--> <a href='file:///usr/lib/python3.8/urllib/request.py?line=501'>502</a>\u001b[0m     result \u001b[39m=\u001b[39m func(\u001b[39m*\u001b[39;49margs)\n\u001b[1;32m    <a href='file:///usr/lib/python3.8/urllib/request.py?line=502'>503</a>\u001b[0m     \u001b[39mif\u001b[39;00m result \u001b[39mis\u001b[39;00m \u001b[39mnot\u001b[39;00m \u001b[39mNone\u001b[39;00m:\n\u001b[1;32m    <a href='file:///usr/lib/python3.8/urllib/request.py?line=503'>504</a>\u001b[0m         \u001b[39mreturn\u001b[39;00m result\n",
      "File \u001b[0;32m/usr/lib/python3.8/urllib/request.py:1397\u001b[0m, in \u001b[0;36mHTTPSHandler.https_open\u001b[0;34m(self, req)\u001b[0m\n\u001b[1;32m   <a href='file:///usr/lib/python3.8/urllib/request.py?line=1395'>1396</a>\u001b[0m \u001b[39mdef\u001b[39;00m \u001b[39mhttps_open\u001b[39m(\u001b[39mself\u001b[39m, req):\n\u001b[0;32m-> <a href='file:///usr/lib/python3.8/urllib/request.py?line=1396'>1397</a>\u001b[0m     \u001b[39mreturn\u001b[39;00m \u001b[39mself\u001b[39;49m\u001b[39m.\u001b[39;49mdo_open(http\u001b[39m.\u001b[39;49mclient\u001b[39m.\u001b[39;49mHTTPSConnection, req,\n\u001b[1;32m   <a href='file:///usr/lib/python3.8/urllib/request.py?line=1397'>1398</a>\u001b[0m         context\u001b[39m=\u001b[39;49m\u001b[39mself\u001b[39;49m\u001b[39m.\u001b[39;49m_context, check_hostname\u001b[39m=\u001b[39;49m\u001b[39mself\u001b[39;49m\u001b[39m.\u001b[39;49m_check_hostname)\n",
      "File \u001b[0;32m/usr/lib/python3.8/urllib/request.py:1358\u001b[0m, in \u001b[0;36mAbstractHTTPHandler.do_open\u001b[0;34m(self, http_class, req, **http_conn_args)\u001b[0m\n\u001b[1;32m   <a href='file:///usr/lib/python3.8/urllib/request.py?line=1355'>1356</a>\u001b[0m     \u001b[39mexcept\u001b[39;00m \u001b[39mOSError\u001b[39;00m \u001b[39mas\u001b[39;00m err: \u001b[39m# timeout error\u001b[39;00m\n\u001b[1;32m   <a href='file:///usr/lib/python3.8/urllib/request.py?line=1356'>1357</a>\u001b[0m         \u001b[39mraise\u001b[39;00m URLError(err)\n\u001b[0;32m-> <a href='file:///usr/lib/python3.8/urllib/request.py?line=1357'>1358</a>\u001b[0m     r \u001b[39m=\u001b[39m h\u001b[39m.\u001b[39;49mgetresponse()\n\u001b[1;32m   <a href='file:///usr/lib/python3.8/urllib/request.py?line=1358'>1359</a>\u001b[0m \u001b[39mexcept\u001b[39;00m:\n\u001b[1;32m   <a href='file:///usr/lib/python3.8/urllib/request.py?line=1359'>1360</a>\u001b[0m     h\u001b[39m.\u001b[39mclose()\n",
      "File \u001b[0;32m/usr/lib/python3.8/http/client.py:1348\u001b[0m, in \u001b[0;36mHTTPConnection.getresponse\u001b[0;34m(self)\u001b[0m\n\u001b[1;32m   <a href='file:///usr/lib/python3.8/http/client.py?line=1345'>1346</a>\u001b[0m \u001b[39mtry\u001b[39;00m:\n\u001b[1;32m   <a href='file:///usr/lib/python3.8/http/client.py?line=1346'>1347</a>\u001b[0m     \u001b[39mtry\u001b[39;00m:\n\u001b[0;32m-> <a href='file:///usr/lib/python3.8/http/client.py?line=1347'>1348</a>\u001b[0m         response\u001b[39m.\u001b[39;49mbegin()\n\u001b[1;32m   <a href='file:///usr/lib/python3.8/http/client.py?line=1348'>1349</a>\u001b[0m     \u001b[39mexcept\u001b[39;00m \u001b[39mConnectionError\u001b[39;00m:\n\u001b[1;32m   <a href='file:///usr/lib/python3.8/http/client.py?line=1349'>1350</a>\u001b[0m         \u001b[39mself\u001b[39m\u001b[39m.\u001b[39mclose()\n",
      "File \u001b[0;32m/usr/lib/python3.8/http/client.py:316\u001b[0m, in \u001b[0;36mHTTPResponse.begin\u001b[0;34m(self)\u001b[0m\n\u001b[1;32m    <a href='file:///usr/lib/python3.8/http/client.py?line=313'>314</a>\u001b[0m \u001b[39m# read until we get a non-100 response\u001b[39;00m\n\u001b[1;32m    <a href='file:///usr/lib/python3.8/http/client.py?line=314'>315</a>\u001b[0m \u001b[39mwhile\u001b[39;00m \u001b[39mTrue\u001b[39;00m:\n\u001b[0;32m--> <a href='file:///usr/lib/python3.8/http/client.py?line=315'>316</a>\u001b[0m     version, status, reason \u001b[39m=\u001b[39m \u001b[39mself\u001b[39;49m\u001b[39m.\u001b[39;49m_read_status()\n\u001b[1;32m    <a href='file:///usr/lib/python3.8/http/client.py?line=316'>317</a>\u001b[0m     \u001b[39mif\u001b[39;00m status \u001b[39m!=\u001b[39m CONTINUE:\n\u001b[1;32m    <a href='file:///usr/lib/python3.8/http/client.py?line=317'>318</a>\u001b[0m         \u001b[39mbreak\u001b[39;00m\n",
      "File \u001b[0;32m/usr/lib/python3.8/http/client.py:277\u001b[0m, in \u001b[0;36mHTTPResponse._read_status\u001b[0;34m(self)\u001b[0m\n\u001b[1;32m    <a href='file:///usr/lib/python3.8/http/client.py?line=275'>276</a>\u001b[0m \u001b[39mdef\u001b[39;00m \u001b[39m_read_status\u001b[39m(\u001b[39mself\u001b[39m):\n\u001b[0;32m--> <a href='file:///usr/lib/python3.8/http/client.py?line=276'>277</a>\u001b[0m     line \u001b[39m=\u001b[39m \u001b[39mstr\u001b[39m(\u001b[39mself\u001b[39;49m\u001b[39m.\u001b[39;49mfp\u001b[39m.\u001b[39;49mreadline(_MAXLINE \u001b[39m+\u001b[39;49m \u001b[39m1\u001b[39;49m), \u001b[39m\"\u001b[39m\u001b[39miso-8859-1\u001b[39m\u001b[39m\"\u001b[39m)\n\u001b[1;32m    <a href='file:///usr/lib/python3.8/http/client.py?line=277'>278</a>\u001b[0m     \u001b[39mif\u001b[39;00m \u001b[39mlen\u001b[39m(line) \u001b[39m>\u001b[39m _MAXLINE:\n\u001b[1;32m    <a href='file:///usr/lib/python3.8/http/client.py?line=278'>279</a>\u001b[0m         \u001b[39mraise\u001b[39;00m LineTooLong(\u001b[39m\"\u001b[39m\u001b[39mstatus line\u001b[39m\u001b[39m\"\u001b[39m)\n",
      "File \u001b[0;32m/usr/lib/python3.8/socket.py:669\u001b[0m, in \u001b[0;36mSocketIO.readinto\u001b[0;34m(self, b)\u001b[0m\n\u001b[1;32m    <a href='file:///usr/lib/python3.8/socket.py?line=666'>667</a>\u001b[0m \u001b[39mwhile\u001b[39;00m \u001b[39mTrue\u001b[39;00m:\n\u001b[1;32m    <a href='file:///usr/lib/python3.8/socket.py?line=667'>668</a>\u001b[0m     \u001b[39mtry\u001b[39;00m:\n\u001b[0;32m--> <a href='file:///usr/lib/python3.8/socket.py?line=668'>669</a>\u001b[0m         \u001b[39mreturn\u001b[39;00m \u001b[39mself\u001b[39;49m\u001b[39m.\u001b[39;49m_sock\u001b[39m.\u001b[39;49mrecv_into(b)\n\u001b[1;32m    <a href='file:///usr/lib/python3.8/socket.py?line=669'>670</a>\u001b[0m     \u001b[39mexcept\u001b[39;00m timeout:\n\u001b[1;32m    <a href='file:///usr/lib/python3.8/socket.py?line=670'>671</a>\u001b[0m         \u001b[39mself\u001b[39m\u001b[39m.\u001b[39m_timeout_occurred \u001b[39m=\u001b[39m \u001b[39mTrue\u001b[39;00m\n",
      "File \u001b[0;32m/usr/lib/python3.8/ssl.py:1241\u001b[0m, in \u001b[0;36mSSLSocket.recv_into\u001b[0;34m(self, buffer, nbytes, flags)\u001b[0m\n\u001b[1;32m   <a href='file:///usr/lib/python3.8/ssl.py?line=1236'>1237</a>\u001b[0m     \u001b[39mif\u001b[39;00m flags \u001b[39m!=\u001b[39m \u001b[39m0\u001b[39m:\n\u001b[1;32m   <a href='file:///usr/lib/python3.8/ssl.py?line=1237'>1238</a>\u001b[0m         \u001b[39mraise\u001b[39;00m \u001b[39mValueError\u001b[39;00m(\n\u001b[1;32m   <a href='file:///usr/lib/python3.8/ssl.py?line=1238'>1239</a>\u001b[0m           \u001b[39m\"\u001b[39m\u001b[39mnon-zero flags not allowed in calls to recv_into() on \u001b[39m\u001b[39m%s\u001b[39;00m\u001b[39m\"\u001b[39m \u001b[39m%\u001b[39m\n\u001b[1;32m   <a href='file:///usr/lib/python3.8/ssl.py?line=1239'>1240</a>\u001b[0m           \u001b[39mself\u001b[39m\u001b[39m.\u001b[39m\u001b[39m__class__\u001b[39m)\n\u001b[0;32m-> <a href='file:///usr/lib/python3.8/ssl.py?line=1240'>1241</a>\u001b[0m     \u001b[39mreturn\u001b[39;00m \u001b[39mself\u001b[39;49m\u001b[39m.\u001b[39;49mread(nbytes, buffer)\n\u001b[1;32m   <a href='file:///usr/lib/python3.8/ssl.py?line=1241'>1242</a>\u001b[0m \u001b[39melse\u001b[39;00m:\n\u001b[1;32m   <a href='file:///usr/lib/python3.8/ssl.py?line=1242'>1243</a>\u001b[0m     \u001b[39mreturn\u001b[39;00m \u001b[39msuper\u001b[39m()\u001b[39m.\u001b[39mrecv_into(buffer, nbytes, flags)\n",
      "File \u001b[0;32m/usr/lib/python3.8/ssl.py:1099\u001b[0m, in \u001b[0;36mSSLSocket.read\u001b[0;34m(self, len, buffer)\u001b[0m\n\u001b[1;32m   <a href='file:///usr/lib/python3.8/ssl.py?line=1096'>1097</a>\u001b[0m \u001b[39mtry\u001b[39;00m:\n\u001b[1;32m   <a href='file:///usr/lib/python3.8/ssl.py?line=1097'>1098</a>\u001b[0m     \u001b[39mif\u001b[39;00m buffer \u001b[39mis\u001b[39;00m \u001b[39mnot\u001b[39;00m \u001b[39mNone\u001b[39;00m:\n\u001b[0;32m-> <a href='file:///usr/lib/python3.8/ssl.py?line=1098'>1099</a>\u001b[0m         \u001b[39mreturn\u001b[39;00m \u001b[39mself\u001b[39;49m\u001b[39m.\u001b[39;49m_sslobj\u001b[39m.\u001b[39;49mread(\u001b[39mlen\u001b[39;49m, buffer)\n\u001b[1;32m   <a href='file:///usr/lib/python3.8/ssl.py?line=1099'>1100</a>\u001b[0m     \u001b[39melse\u001b[39;00m:\n\u001b[1;32m   <a href='file:///usr/lib/python3.8/ssl.py?line=1100'>1101</a>\u001b[0m         \u001b[39mreturn\u001b[39;00m \u001b[39mself\u001b[39m\u001b[39m.\u001b[39m_sslobj\u001b[39m.\u001b[39mread(\u001b[39mlen\u001b[39m)\n",
      "\u001b[0;31mKeyboardInterrupt\u001b[0m: "
     ]
    }
   ],
   "source": [
    "device = torch.device('cuda' if torch.cuda.is_available() else 'cpu')\n",
    "\n",
    "dataset = Planetoid(root='data/Planetoid', name='Cora')\n",
    "data = dataset[0].to(device)\n",
    "mu = 0.058\n",
    "for A, B in [[5,2], [10,5], [20, 5], [40, 10], [100, 20]]:\n",
    "    torch.manual_seed(0)\n",
    "    random.seed(0)\n",
    "    data = random_splits(data, A, B)\n",
    "    \n",
    "    gcn_model = GCN0(num_node_features=dataset.num_node_features,\n",
    "                    num_classes=dataset.num_classes) \\\n",
    "                    .to(device)\n",
    "\n",
    "    gcn_model = train0(gcn_model, data)\n",
    "    acc = evaluate0(gcn_model, data)\n",
    "\n",
    "    print(f'A: {A}, B: {B}, mu: {mu}, noreg, Accuracy: {acc:.4f}')\n",
    "\n",
    "    gcn_model = GCN0(num_node_features=dataset.num_node_features,\n",
    "                    num_classes=dataset.num_classes) \\\n",
    "                    .to(device)\n",
    "\n",
    "    gcn_model = train1(gcn_model, data, mu=mu)\n",
    "    acc = evaluate0(gcn_model, data)\n",
    "    print(f'A: {A}, B: {B}, mu: {mu}, reg, Accuracy: {acc:.4f}')\n",
    "    print('----------------------')\n"
   ]
  },
  {
   "cell_type": "code",
   "execution_count": 5,
   "metadata": {},
   "outputs": [
    {
     "name": "stdout",
     "output_type": "stream",
     "text": [
      "train size: 350\n",
      "valid size: 140\n",
      "test size: 2218\n",
      "mu: 0.0, reg, Accuracy: 0.1267\n",
      "--------------------------------------------\n",
      "mu: 0.1, reg, Accuracy: 0.1267\n",
      "--------------------------------------------\n",
      "mu: 0.2, reg, Accuracy: 0.0663\n",
      "--------------------------------------------\n",
      "mu: 0.3, reg, Accuracy: 0.0663\n",
      "--------------------------------------------\n",
      "mu: 0.4, reg, Accuracy: 0.3372\n",
      "--------------------------------------------\n",
      "mu: 0.5, reg, Accuracy: 0.3372\n",
      "--------------------------------------------\n",
      "mu: 0.6, reg, Accuracy: 0.3372\n",
      "--------------------------------------------\n",
      "mu: 0.7, reg, Accuracy: 0.3372\n",
      "--------------------------------------------\n",
      "mu: 0.8, reg, Accuracy: 0.3372\n",
      "--------------------------------------------\n",
      "mu: 0.9, reg, Accuracy: 0.3372\n",
      "--------------------------------------------\n"
     ]
    }
   ],
   "source": [
    "device = torch.device('cuda' if torch.cuda.is_available() else 'cpu')\n",
    "\n",
    "dataset = Planetoid(root='data/Planetoid', name='Cora')\n",
    "data = dataset[0].to(device)\n",
    "data = random_splits(data, 50, 20)\n",
    "\n",
    "print(f'train size: {data.train_mask.sum()}')\n",
    "print(f'valid size: {data.valid_mask.sum()}')\n",
    "print(f'test size: {data.test_mask.sum()}')\n",
    "\n",
    "for mu in range(10):\n",
    "    mu = mu / 10\n",
    "    torch.manual_seed(1)\n",
    "    random.seed(1)\n",
    "\n",
    "\n",
    "    gcn_model = GCN0(num_node_features=dataset.num_node_features,\n",
    "                    num_classes=dataset.num_classes) \\\n",
    "                    .to(device)\n",
    "\n",
    "    gcn_model = train1(gcn_model, data, mu=mu, num_epochs=350)\n",
    "    # gcn_model = train2(gcn_model, data)\n",
    "    acc = evaluate0(gcn_model, data)\n",
    "    print(f'mu: {mu}, reg, Accuracy: {acc:.4f}')\n",
    "    print('--------------------------------------------')"
   ]
  },
  {
   "cell_type": "code",
   "execution_count": 5,
   "metadata": {},
   "outputs": [
    {
     "name": "stdout",
     "output_type": "stream",
     "text": [
      "mu: 0.05, reg, Accuracy: 0.7910\n",
      "--------------------------------------------\n",
      "mu: 0.051000000000000004, reg, Accuracy: 0.7906\n",
      "--------------------------------------------\n",
      "mu: 0.052000000000000005, reg, Accuracy: 0.7922\n",
      "--------------------------------------------\n",
      "mu: 0.053000000000000005, reg, Accuracy: 0.7914\n",
      "--------------------------------------------\n",
      "mu: 0.054000000000000006, reg, Accuracy: 0.7899\n",
      "--------------------------------------------\n",
      "mu: 0.055, reg, Accuracy: 0.7902\n",
      "--------------------------------------------\n",
      "mu: 0.056, reg, Accuracy: 0.7918\n",
      "--------------------------------------------\n",
      "mu: 0.057, reg, Accuracy: 0.7914\n",
      "--------------------------------------------\n",
      "mu: 0.058, reg, Accuracy: 0.7918\n",
      "--------------------------------------------\n",
      "mu: 0.059000000000000004, reg, Accuracy: 0.7906\n",
      "--------------------------------------------\n"
     ]
    }
   ],
   "source": [
    "device = torch.device('cuda' if torch.cuda.is_available() else 'cpu')\n",
    "\n",
    "dataset = Planetoid(root='data/Planetoid', name='Cora')\n",
    "data = dataset[0].to(device)\n",
    "\n",
    "for mu in range(10):\n",
    "    mu = 0.05 + mu*0.001\n",
    "    torch.manual_seed(1)\n",
    "    random.seed(1)\n",
    "\n",
    "    data = random_splits(data, 10, 5)\n",
    "\n",
    "    gcn_model = GCN0(num_node_features=dataset.num_node_features,\n",
    "                    num_classes=dataset.num_classes) \\\n",
    "                    .to(device)\n",
    "\n",
    "    gcn_model = train1(gcn_model, data, mu=mu)\n",
    "    # gcn_model = train2(gcn_model, data)\n",
    "    acc = evaluate0(gcn_model, data)\n",
    "    print(f'mu: {mu}, reg, Accuracy: {acc:.4f}')\n",
    "    print('--------------------------------------------')"
   ]
  },
  {
   "cell_type": "code",
   "execution_count": null,
   "metadata": {},
   "outputs": [],
   "source": []
  }
 ],
 "metadata": {
  "interpreter": {
   "hash": "19b21e06a3ecf92dacb2d0dce038f81bb705746e8008c815c25552dc2d0953db"
  },
  "kernelspec": {
   "display_name": "Python 3.8.10 ('p-reg-env')",
   "language": "python",
   "name": "python3"
  },
  "language_info": {
   "codemirror_mode": {
    "name": "ipython",
    "version": 3
   },
   "file_extension": ".py",
   "mimetype": "text/x-python",
   "name": "python",
   "nbconvert_exporter": "python",
   "pygments_lexer": "ipython3",
   "version": "3.8.10"
  },
  "orig_nbformat": 4
 },
 "nbformat": 4,
 "nbformat_minor": 2
}
