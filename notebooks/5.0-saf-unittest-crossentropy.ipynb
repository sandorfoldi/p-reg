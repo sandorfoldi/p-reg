{
 "cells": [
  {
   "cell_type": "code",
   "execution_count": 7,
   "metadata": {},
   "outputs": [
    {
     "name": "stdout",
     "output_type": "stream",
     "text": [
      "tensor(5.3950)\n",
      "tensor(3.4753)\n"
     ]
    }
   ],
   "source": [
    "import numpy as np\n",
    "import torch\n",
    "import torch.nn.functional as F\n",
    "\n",
    "P = torch.tensor([\n",
    "    [.1,.4,.1,.2],\n",
    "    [.3,.4,.5,.6],\n",
    "    [.7,.3,.2,.1]\n",
    "    ], dtype=torch.float)\n",
    "\n",
    "Q = torch.tensor([\n",
    "    [.3,.4,.2,.3],\n",
    "    [.4,.5,.6,.1],\n",
    "    [.1,.3,.4,.2]\n",
    "    ], dtype=torch.float)\n",
    "\n",
    "Y = torch.tensor([1,3,0])\n",
    "\n",
    "phi_0 = - (P * torch.log(Q)).sum()\n",
    "phi_1 = F.cross_entropy(P, Y, reduction='sum')\n",
    "\n",
    "print(phi_0)\n",
    "print(phi_1)\n"
   ]
  },
  {
   "cell_type": "code",
   "execution_count": 14,
   "metadata": {},
   "outputs": [
    {
     "name": "stdout",
     "output_type": "stream",
     "text": [
      "tensor(5.3896)\n",
      "tensor(5.3896)\n",
      "tensor(5.3950)\n"
     ]
    }
   ],
   "source": [
    "P = torch.tensor([\n",
    "    [.1,.4,.1,.2],\n",
    "    [.3,.4,.5,.6],\n",
    "    [.7,.3,.2,.1]\n",
    "    ], dtype=torch.float)\n",
    "\n",
    "Q = torch.tensor([\n",
    "    [.3,.4,.2,.3],\n",
    "    [.4,.5,.6,.1],\n",
    "    [.1,.3,.4,.2]\n",
    "    ], dtype=torch.float)\n",
    "\n",
    "Y = torch.tensor([1,3,0])\n",
    "\n",
    "custome_crossentropy = lambda P, Q: - (P * torch.log(Q)).sum()\n",
    "\n",
    "print(torch.nn.CrossEntropyLoss(reduction='sum')(P,Q))\n",
    "print(torch.nn.functional.cross_entropy(P,Q, reduction='sum'))\n",
    "print(custome_crossentropy(P,Q))"
   ]
  }
 ],
 "metadata": {
  "interpreter": {
   "hash": "19b21e06a3ecf92dacb2d0dce038f81bb705746e8008c815c25552dc2d0953db"
  },
  "kernelspec": {
   "display_name": "Python 3.8.10 ('p-reg-env')",
   "language": "python",
   "name": "python3"
  },
  "language_info": {
   "codemirror_mode": {
    "name": "ipython",
    "version": 3
   },
   "file_extension": ".py",
   "mimetype": "text/x-python",
   "name": "python",
   "nbconvert_exporter": "python",
   "pygments_lexer": "ipython3",
   "version": "3.8.10"
  },
  "orig_nbformat": 4
 },
 "nbformat": 4,
 "nbformat_minor": 2
}
