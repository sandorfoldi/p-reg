{
 "cells": [
  {
   "cell_type": "code",
   "execution_count": 1,
   "metadata": {},
   "outputs": [
    {
     "name": "stdout",
     "output_type": "stream",
     "text": [
      "/home/sandor/dtu/2021-22-spring/advanced_machine_learning/p-reg\n",
      "Obtaining file:///home/sandor/dtu/2021-22-spring/advanced_machine_learning/p-reg\n",
      "  Preparing metadata (setup.py) ... \u001b[?25ldone\n",
      "\u001b[?25hInstalling collected packages: src\n",
      "  Attempting uninstall: src\n",
      "    Found existing installation: src 0.1.0\n",
      "    Uninstalling src-0.1.0:\n",
      "      Successfully uninstalled src-0.1.0\n",
      "  Running setup.py develop for src\n",
      "Successfully installed src-0.1.0\n",
      "Note: you may need to restart the kernel to use updated packages.\n"
     ]
    }
   ],
   "source": [
    "%cd ..\n",
    "%pip install -e ."
   ]
  },
  {
   "cell_type": "code",
   "execution_count": 2,
   "metadata": {},
   "outputs": [
    {
     "name": "stdout",
     "output_type": "stream",
     "text": [
      "ATTENTION!!! MODIFIED P TO Z IN SOME PARTS OF MAKE_PREG_LOSS!!!\n"
     ]
    }
   ],
   "source": [
    "import random\n",
    "\n",
    "import numpy as np\n",
    "import pandas as pd\n",
    "\n",
    "from tqdm import tqdm\n",
    "\n",
    "from src.models.dense import NN0\n",
    "from src.models.dense import NN1\n",
    "from src.models.gcn import GCN0\n",
    "from src.models.gat import GAT\n",
    "\n",
    "from src.models.train_model import train_with_loss\n",
    "from src.models.train_model import random_splits\n",
    "\n",
    "from src.models.reg import make_preg_loss\n",
    "from src.models.reg import make_lap_loss\n",
    "\n",
    "from src.models.reg import compute_a_hat\n",
    "\n",
    "from src.models.evaluate_model import evaluate0\n",
    "from src.models.evaluate_model import evaluate1\n",
    "\n",
    "import torch\n",
    "import torch.nn.functional as F\n",
    "import matplotlib.pyplot as plt\n",
    "\n",
    "from torch_geometric.data import Data\n",
    "from torch_geometric.loader import DataLoader\n",
    "from torch_geometric.datasets import Planetoid\n",
    "import torch_geometric.transforms as T\n",
    "from sklearn.manifold import TSNE\n",
    "\n",
    "from src.models.evaluate_model import test"
   ]
  },
  {
   "cell_type": "code",
   "execution_count": 3,
   "metadata": {},
   "outputs": [],
   "source": [
    "device = torch.device('cuda' if torch.cuda.is_available() else 'cpu')\n",
    "dataset = Planetoid(root='data/Planetoid', name='Cora', transform=T.NormalizeFeatures())\n",
    "data = dataset[0].to(device)\n",
    "\n",
    "L_cls = lambda x, y: F.nll_loss(torch.log(x), y, reduction='sum')\n",
    "L_preg = lambda x, y: F.cross_entropy(x, y, reduction='sum')\n",
    "\n",
    "A_hat = compute_a_hat(data)\n",
    "mu = 0\n",
    "\n",
    "loss_fn = make_preg_loss(L_cls, L_preg, mu, A_hat)\n",
    "\n",
    "metrics = []\n",
    "for model_name in ('gcn', 'gat'):\n",
    "    for num_training_nodes in  [10, 20, 30, 40, 50, 60, 70, 80, 90, 100]:\n",
    "        data = random_splits(data, num_training_nodes, 20)\n",
    "        data.reg_mask = torch.ones_like(data.train_mask, dtype=torch.bool)\n",
    "        splits = data.train_mask, data.val_mask, data.test_mask\n",
    "\n",
    "        torch.manual_seed(1)\n",
    "        random.seed(1)\n",
    "\n",
    "        if model_name == 'gcn':\n",
    "            model = GCN0(num_node_features=dataset.num_node_features,\n",
    "                        num_classes=dataset.num_classes) \\\n",
    "                        .to(device)\n",
    "        elif model_name == 'gat':\n",
    "            model = GAT(dataset=dataset).to(device)\n",
    "\n",
    "        model = train_with_loss(model, data, loss_fn, num_epochs=200)\n",
    "        acc = evaluate0(model, data)\n",
    "\n",
    "        train_acc, val_acc, test_acc = evaluate1(model, data)\n",
    "        metrics.append({'model': model_name, 'num_training_nodes': num_training_nodes, 'train_acc': train_acc, 'val_acc': val_acc, 'test_acc': test_acc})\n",
    "\n"
   ]
  },
  {
   "cell_type": "code",
   "execution_count": 4,
   "metadata": {},
   "outputs": [
    {
     "data": {
      "image/png": "[encoded data removed]",
      "text/plain": [
       "<Figure size 432x288 with 1 Axes>"
      ]
     },
     "metadata": {
      "needs_background": "light"
     },
     "output_type": "display_data"
    }
   ],
   "source": [
    "df = pd.DataFrame(metrics)\n",
    "fig, ax = plt.subplots()\n",
    "\n",
    "filt = (df['model'] == 'gcn')\n",
    "ax.plot(df[filt]['num_training_nodes'], df[filt]['test_acc'], '-*b')\n",
    "\n",
    "filt = (df['model'] == 'gat')\n",
    "ax.plot(df[filt]['num_training_nodes'], df[filt]['test_acc'], '-*r')\n",
    "\n",
    "ax.set(ylim=(.75, .9))\n",
    "plt.show()"
   ]
  },
  {
   "cell_type": "code",
   "execution_count": null,
   "metadata": {},
   "outputs": [],
   "source": []
  }
 ],
 "metadata": {
  "interpreter": {
   "hash": "19b21e06a3ecf92dacb2d0dce038f81bb705746e8008c815c25552dc2d0953db"
  },
  "kernelspec": {
   "display_name": "Python 3.8.10 ('p-reg-env')",
   "language": "python",
   "name": "python3"
  },
  "language_info": {
   "codemirror_mode": {
    "name": "ipython",
    "version": 3
   },
   "file_extension": ".py",
   "mimetype": "text/x-python",
   "name": "python",
   "nbconvert_exporter": "python",
   "pygments_lexer": "ipython3",
   "version": "3.8.10"
  },
  "orig_nbformat": 4
 },
 "nbformat": 4,
 "nbformat_minor": 2
}
