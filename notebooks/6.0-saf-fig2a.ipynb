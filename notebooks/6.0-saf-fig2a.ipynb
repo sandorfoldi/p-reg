{
 "cells": [
  {
   "cell_type": "code",
   "execution_count": 1,
   "metadata": {},
   "outputs": [
    {
     "name": "stdout",
     "output_type": "stream",
     "text": [
      "/home/sandor/dtu/2021-22-spring/advanced_machine_learning/p-reg\n",
      "Obtaining file:///home/sandor/dtu/2021-22-spring/advanced_machine_learning/p-reg\n",
      "  Preparing metadata (setup.py) ... \u001b[?25ldone\n",
      "\u001b[?25hInstalling collected packages: src\n",
      "  Attempting uninstall: src\n",
      "    Found existing installation: src 0.1.0\n",
      "    Uninstalling src-0.1.0:\n",
      "      Successfully uninstalled src-0.1.0\n",
      "  Running setup.py develop for src\n",
      "Successfully installed src-0.1.0\n",
      "Note: you may need to restart the kernel to use updated packages.\n"
     ]
    }
   ],
   "source": [
    "%cd ..\n",
    "%pip install -e ."
   ]
  },
  {
   "cell_type": "code",
   "execution_count": 2,
   "metadata": {},
   "outputs": [],
   "source": [
    "import random\n",
    "\n",
    "import numpy as np\n",
    "import pandas as pd\n",
    "\n",
    "from tqdm import tqdm\n",
    "\n",
    "from src.models.dense import NN0\n",
    "from src.models.dense import NN1\n",
    "from src.models.gcn import GCN0\n",
    "from src.models.gcn import GCN_fix_2layer\n",
    "from src.models.gat import GAT\n",
    "\n",
    "from src.models.train_model import train_with_loss\n",
    "from src.models.train_model import random_splits\n",
    "\n",
    "from src.models.reg import make_preg_loss\n",
    "from src.models.reg import make_lap_loss\n",
    "from src.models.reg import make_preg_ce_ce\n",
    "from src.models.reg import make_preg_ce_ce_alt\n",
    "\n",
    "from src.models.reg import compute_a_hat\n",
    "\n",
    "from src.models.evaluate_model import evaluate0\n",
    "from src.models.evaluate_model import evaluate1\n",
    "\n",
    "import torch\n",
    "import torch.nn.functional as F\n",
    "import matplotlib.pyplot as plt\n",
    "\n",
    "from torch_geometric.data import Data\n",
    "from torch_geometric.loader import DataLoader\n",
    "from torch_geometric.datasets import Planetoid\n",
    "import torch_geometric.transforms as T\n",
    "from sklearn.manifold import TSNE\n",
    "\n",
    "from src.models.evaluate_model import test"
   ]
  },
  {
   "cell_type": "code",
   "execution_count": 3,
   "metadata": {},
   "outputs": [
    {
     "name": "stdout",
     "output_type": "stream",
     "text": [
      "{'model': 'gcn', 'num_training_nodes': 10, 'train_acc': 1.0, 'val_acc': 0.7785714285714286, 'test_acc': 0.7678142514011209}\n",
      "{'model': 'gcn', 'num_training_nodes': 20, 'train_acc': 1.0, 'val_acc': 0.7928571428571428, 'test_acc': 0.7985996705107083}\n",
      "{'model': 'gcn', 'num_training_nodes': 30, 'train_acc': 0.9952380952380953, 'val_acc': 0.8714285714285714, 'test_acc': 0.780746395250212}\n",
      "{'model': 'gcn', 'num_training_nodes': 40, 'train_acc': 0.9928571428571429, 'val_acc': 0.8214285714285714, 'test_acc': 0.8273601398601399}\n",
      "{'model': 'gcn', 'num_training_nodes': 50, 'train_acc': 0.9914285714285714, 'val_acc': 0.8357142857142857, 'test_acc': 0.8363390441839496}\n",
      "{'model': 'gcn', 'num_training_nodes': 60, 'train_acc': 0.9857142857142858, 'val_acc': 0.8785714285714286, 'test_acc': 0.8375232774674115}\n",
      "{'model': 'gcn', 'num_training_nodes': 70, 'train_acc': 0.9734693877551021, 'val_acc': 0.85, 'test_acc': 0.8349374398460058}\n",
      "{'model': 'gcn', 'num_training_nodes': 80, 'train_acc': 0.9553571428571429, 'val_acc': 0.8928571428571429, 'test_acc': 0.8540836653386454}\n",
      "{'model': 'gcn', 'num_training_nodes': 90, 'train_acc': 0.9666666666666667, 'val_acc': 0.8142857142857143, 'test_acc': 0.8550051599587203}\n",
      "{'model': 'gcn', 'num_training_nodes': 100, 'train_acc': 0.9442857142857143, 'val_acc': 0.8785714285714286, 'test_acc': 0.8549250535331906}\n",
      "{'model': 'gat', 'num_training_nodes': 10, 'train_acc': 0.14285714285714285, 'val_acc': 0.14285714285714285, 'test_acc': 0.12850280224179345}\n",
      "{'model': 'gat', 'num_training_nodes': 20, 'train_acc': 1.0, 'val_acc': 0.8285714285714286, 'test_acc': 0.8064250411861614}\n",
      "{'model': 'gat', 'num_training_nodes': 30, 'train_acc': 0.9952380952380953, 'val_acc': 0.8571428571428571, 'test_acc': 0.7760814249363868}\n",
      "{'model': 'gat', 'num_training_nodes': 40, 'train_acc': 0.9857142857142858, 'val_acc': 0.7857142857142857, 'test_acc': 0.8238636363636364}\n",
      "{'model': 'gat', 'num_training_nodes': 50, 'train_acc': 0.9742857142857143, 'val_acc': 0.8571428571428571, 'test_acc': 0.8228133453561768}\n",
      "{'model': 'gat', 'num_training_nodes': 60, 'train_acc': 0.9833333333333333, 'val_acc': 0.8571428571428571, 'test_acc': 0.8337988826815642}\n",
      "{'model': 'gat', 'num_training_nodes': 70, 'train_acc': 0.9612244897959183, 'val_acc': 0.85, 'test_acc': 0.8474494706448508}\n",
      "{'model': 'gat', 'num_training_nodes': 80, 'train_acc': 0.9392857142857143, 'val_acc': 0.8928571428571429, 'test_acc': 0.8650398406374502}\n",
      "{'model': 'gat', 'num_training_nodes': 90, 'train_acc': 0.9555555555555556, 'val_acc': 0.8285714285714286, 'test_acc': 0.8436532507739938}\n",
      "{'model': 'gat', 'num_training_nodes': 100, 'train_acc': 0.9428571428571428, 'val_acc': 0.9071428571428571, 'test_acc': 0.8485010706638115}\n"
     ]
    }
   ],
   "source": [
    "device = torch.device('cuda' if torch.cuda.is_available() else 'cpu')\n",
    "dataset = Planetoid(root='data/Planetoid', name='Cora', transform=T.NormalizeFeatures())\n",
    "data = dataset[0].to(device)\n",
    "\n",
    "# L_cls = lambda x, y: F.cross_entropy(x, y, reduction='sum')\n",
    "# L_preg = lambda x, y: - (x * torch.log(y)).sum()\n",
    "\n",
    "A_hat = compute_a_hat(data)\n",
    "mu = 0\n",
    "\n",
    "# loss_fn = make_preg_loss(L_cls, L_preg, mu, A_hat)\n",
    "loss_fn = make_preg_ce_ce(mu, A_hat)\n",
    "metrics = []\n",
    "for model_name in ('gcn', 'gat'):\n",
    "    for num_training_nodes in  [10, 20, 30, 40, 50, 60, 70, 80, 90, 100]:\n",
    "        data = random_splits(data, num_training_nodes, 20)\n",
    "        data.reg_mask = torch.ones_like(data.train_mask, dtype=torch.bool)\n",
    "        splits = data.train_mask, data.val_mask, data.test_mask\n",
    "\n",
    "        torch.manual_seed(1)\n",
    "        random.seed(1)\n",
    "\n",
    "        if model_name == 'gcn':\n",
    "            model = GCN0(num_node_features=dataset.num_node_features,\n",
    "                        num_classes=dataset.num_classes) \\\n",
    "                        .to(device)\n",
    "        elif model_name == 'gat':\n",
    "            model = GAT(dataset=dataset).to(device)\n",
    "\n",
    "        model = train_with_loss(model, data, loss_fn, num_epochs=200)\n",
    "        acc = evaluate0(model, data)\n",
    "\n",
    "        train_acc, val_acc, test_acc = evaluate1(model, data)\n",
    "        metrics.append({'model': model_name, 'num_training_nodes': num_training_nodes, 'train_acc': train_acc, 'val_acc': val_acc, 'test_acc': test_acc})\n",
    "        print(metrics[-1])\n"
   ]
  },
  {
   "cell_type": "code",
   "execution_count": 4,
   "metadata": {},
   "outputs": [
    {
     "ename": "NameError",
     "evalue": "name 'df1' is not defined",
     "output_type": "error",
     "traceback": [
      "\u001b[0;31m---------------------------------------------------------------------------\u001b[0m",
      "\u001b[0;31mNameError\u001b[0m                                 Traceback (most recent call last)",
      "\u001b[1;32m/home/sandor/dtu/2021-22-spring/advanced_machine_learning/p-reg/notebooks/6.0-saf-fig2a.ipynb Cell 4'\u001b[0m in \u001b[0;36m<cell line: 5>\u001b[0;34m()\u001b[0m\n\u001b[1;32m      <a href='vscode-notebook-cell:/home/sandor/dtu/2021-22-spring/advanced_machine_learning/p-reg/notebooks/6.0-saf-fig2a.ipynb#ch0000003?line=1'>2</a>\u001b[0m df\u001b[39m.\u001b[39mto_csv(\u001b[39m'\u001b[39m\u001b[39mreports/figures/fig2a.csv\u001b[39m\u001b[39m'\u001b[39m)\n\u001b[1;32m      <a href='vscode-notebook-cell:/home/sandor/dtu/2021-22-spring/advanced_machine_learning/p-reg/notebooks/6.0-saf-fig2a.ipynb#ch0000003?line=2'>3</a>\u001b[0m fig, ax \u001b[39m=\u001b[39m plt\u001b[39m.\u001b[39msubplots()\n\u001b[0;32m----> <a href='vscode-notebook-cell:/home/sandor/dtu/2021-22-spring/advanced_machine_learning/p-reg/notebooks/6.0-saf-fig2a.ipynb#ch0000003?line=4'>5</a>\u001b[0m filt \u001b[39m=\u001b[39m (df1[\u001b[39m'\u001b[39m\u001b[39mmodel\u001b[39m\u001b[39m'\u001b[39m] \u001b[39m==\u001b[39m \u001b[39m'\u001b[39m\u001b[39mgcn\u001b[39m\u001b[39m'\u001b[39m)\n\u001b[1;32m      <a href='vscode-notebook-cell:/home/sandor/dtu/2021-22-spring/advanced_machine_learning/p-reg/notebooks/6.0-saf-fig2a.ipynb#ch0000003?line=5'>6</a>\u001b[0m ax\u001b[39m.\u001b[39mplot(df[filt][\u001b[39m'\u001b[39m\u001b[39mnum_training_nodes\u001b[39m\u001b[39m'\u001b[39m], df[filt][\u001b[39m'\u001b[39m\u001b[39mtest_acc\u001b[39m\u001b[39m'\u001b[39m], \u001b[39m'\u001b[39m\u001b[39m-*b\u001b[39m\u001b[39m'\u001b[39m, label\u001b[39m=\u001b[39m\u001b[39m'\u001b[39m\u001b[39mGCN\u001b[39m\u001b[39m'\u001b[39m)\n\u001b[1;32m      <a href='vscode-notebook-cell:/home/sandor/dtu/2021-22-spring/advanced_machine_learning/p-reg/notebooks/6.0-saf-fig2a.ipynb#ch0000003?line=7'>8</a>\u001b[0m filt \u001b[39m=\u001b[39m (df[\u001b[39m'\u001b[39m\u001b[39mmodel\u001b[39m\u001b[39m'\u001b[39m] \u001b[39m==\u001b[39m \u001b[39m'\u001b[39m\u001b[39mgat\u001b[39m\u001b[39m'\u001b[39m)\n",
      "\u001b[0;31mNameError\u001b[0m: name 'df1' is not defined"
     ]
    },
    {
     "data": {
      "image/png": "[encoded data removed]",
      "text/plain": [
       "<Figure size 432x288 with 1 Axes>"
      ]
     },
     "metadata": {
      "needs_background": "light"
     },
     "output_type": "display_data"
    }
   ],
   "source": [
    "df = pd.DataFrame(metrics)\n",
    "df.to_csv('reports/figures/fig2a.csv')\n",
    "fig, ax = plt.subplots()\n",
    "\n",
    "filt = (df1['model'] == 'gcn')\n",
    "ax.plot(df[filt]['num_training_nodes'], df[filt]['test_acc'], '-*b', label='GCN')\n",
    "\n",
    "filt = (df['model'] == 'gat')\n",
    "ax.plot(df[filt]['num_training_nodes'], df[filt]['test_acc'], '-*r', label='GAT')\n",
    "\n",
    "ax.set(ylim=(.74, .9), xlabel='No. training nodes', ylabel='Test accuracy')\n",
    "ax.legend()\n",
    "plt.show()"
   ]
  },
  {
   "cell_type": "code",
   "execution_count": null,
   "metadata": {},
   "outputs": [
    {
     "name": "stdout",
     "output_type": "stream",
     "text": [
      "{'model': 'gcn', 'num_training_nodes': 10, 'train_acc': 1.0, 'val_acc': 0.7714285714285715, 'test_acc': 0.7554043234587671}\n",
      "{'model': 'gcn', 'num_training_nodes': 20, 'train_acc': 1.0, 'val_acc': 0.7857142857142857, 'test_acc': 0.8043657331136738}\n",
      "{'model': 'gcn', 'num_training_nodes': 30, 'train_acc': 0.9904761904761905, 'val_acc': 0.8642857142857143, 'test_acc': 0.7892281594571671}\n",
      "{'model': 'gcn', 'num_training_nodes': 40, 'train_acc': 0.9714285714285714, 'val_acc': 0.8071428571428572, 'test_acc': 0.8321678321678322}\n",
      "{'model': 'gcn', 'num_training_nodes': 50, 'train_acc': 0.98, 'val_acc': 0.8214285714285714, 'test_acc': 0.8327321911632101}\n",
      "{'model': 'gcn', 'num_training_nodes': 60, 'train_acc': 0.9642857142857143, 'val_acc': 0.8571428571428571, 'test_acc': 0.8393854748603352}\n",
      "{'model': 'gcn', 'num_training_nodes': 70, 'train_acc': 0.9591836734693877, 'val_acc': 0.8357142857142857, 'test_acc': 0.8378248315688162}\n",
      "{'model': 'gcn', 'num_training_nodes': 80, 'train_acc': 0.9410714285714286, 'val_acc': 0.9071428571428571, 'test_acc': 0.8510956175298805}\n",
      "{'model': 'gcn', 'num_training_nodes': 90, 'train_acc': 0.9507936507936507, 'val_acc': 0.8428571428571429, 'test_acc': 0.847265221878225}\n",
      "{'model': 'gcn', 'num_training_nodes': 100, 'train_acc': 0.9285714285714286, 'val_acc': 0.8571428571428571, 'test_acc': 0.8463597430406852}\n",
      "{'model': 'gat', 'num_training_nodes': 10, 'train_acc': 0.14285714285714285, 'val_acc': 0.14285714285714285, 'test_acc': 0.12850280224179345}\n",
      "{'model': 'gat', 'num_training_nodes': 20, 'train_acc': 1.0, 'val_acc': 0.8285714285714286, 'test_acc': 0.8064250411861614}\n",
      "{'model': 'gat', 'num_training_nodes': 30, 'train_acc': 0.9952380952380953, 'val_acc': 0.8571428571428571, 'test_acc': 0.7760814249363868}\n",
      "{'model': 'gat', 'num_training_nodes': 40, 'train_acc': 0.9857142857142858, 'val_acc': 0.7857142857142857, 'test_acc': 0.8238636363636364}\n",
      "{'model': 'gat', 'num_training_nodes': 50, 'train_acc': 0.9742857142857143, 'val_acc': 0.8571428571428571, 'test_acc': 0.8228133453561768}\n",
      "{'model': 'gat', 'num_training_nodes': 60, 'train_acc': 0.9833333333333333, 'val_acc': 0.8571428571428571, 'test_acc': 0.8337988826815642}\n",
      "{'model': 'gat', 'num_training_nodes': 70, 'train_acc': 0.9612244897959183, 'val_acc': 0.85, 'test_acc': 0.8474494706448508}\n",
      "{'model': 'gat', 'num_training_nodes': 80, 'train_acc': 0.9392857142857143, 'val_acc': 0.9, 'test_acc': 0.8660358565737052}\n",
      "{'model': 'gat', 'num_training_nodes': 90, 'train_acc': 0.9555555555555556, 'val_acc': 0.8285714285714286, 'test_acc': 0.8436532507739938}\n",
      "{'model': 'gat', 'num_training_nodes': 100, 'train_acc': 0.9428571428571428, 'val_acc': 0.9071428571428571, 'test_acc': 0.8485010706638115}\n"
     ]
    }
   ],
   "source": [
    "device = torch.device('cuda' if torch.cuda.is_available() else 'cpu')\n",
    "dataset = Planetoid(root='data/Planetoid', name='Cora', transform=T.NormalizeFeatures())\n",
    "data = dataset[0].to(device)\n",
    "\n",
    "# L_cls = lambda x, y: F.cross_entropy(x, y, reduction='sum')\n",
    "# L_preg = lambda x, y: - (x * torch.log(y)).sum()\n",
    "\n",
    "A_hat = compute_a_hat(data)\n",
    "mu = 0\n",
    "\n",
    "# loss_fn = make_preg_loss(L_cls, L_preg, mu, A_hat)\n",
    "loss_fn = make_preg_ce_ce_alt(mu, A_hat)\n",
    "metrics = []\n",
    "for model_name in ('gcn', 'gat'):\n",
    "    for num_training_nodes in  [10, 20, 30, 40, 50, 60, 70, 80, 90, 100]:\n",
    "        data = random_splits(data, num_training_nodes, 20)\n",
    "        data.reg_mask = torch.ones_like(data.train_mask, dtype=torch.bool)\n",
    "        splits = data.train_mask, data.val_mask, data.test_mask\n",
    "\n",
    "        torch.manual_seed(1)\n",
    "        random.seed(1)\n",
    "\n",
    "        if model_name == 'gcn':\n",
    "            model = GCN_fix_2layer().to(device)\n",
    "        elif model_name == 'gat':\n",
    "            model = GAT(dataset=dataset).to(device)\n",
    "\n",
    "        model = train_with_loss(model, data, loss_fn, num_epochs=200)\n",
    "        acc = evaluate0(model, data)\n",
    "\n",
    "        train_acc, val_acc, test_acc = evaluate1(model, data)\n",
    "        metrics.append({'model': model_name, 'num_training_nodes': num_training_nodes, 'train_acc': train_acc, 'val_acc': val_acc, 'test_acc': test_acc})\n",
    "        print(metrics[-1])\n"
   ]
  },
  {
   "cell_type": "code",
   "execution_count": 6,
   "metadata": {},
   "outputs": [
    {
     "data": {
      "image/png": "[encoded data removed]",
      "text/plain": [
       "<Figure size 432x288 with 1 Axes>"
      ]
     },
     "metadata": {
      "needs_background": "light"
     },
     "output_type": "display_data"
    }
   ],
   "source": [
    "df1 = pd.DataFrame(metrics)\n",
    "df1.to_csv('reports/figures/fig2a.csv')\n",
    "fig, ax = plt.subplots()\n",
    "\n",
    "filt = (df1['model'] == 'gcn')\n",
    "ax.plot(df1[filt]['num_training_nodes'], df1[filt]['test_acc'], '-ob', label='GCN')\n",
    "\n",
    "filt = (df1['model'] == 'gat')\n",
    "ax.plot(df1[filt]['num_training_nodes'], df1[filt]['test_acc'], '-or', label='GAT')\n",
    "\n",
    "ax.set(ylim=(.74, .9), xlabel='No. training nodes', ylabel='Test accuracy')\n",
    "ax.legend()\n",
    "ax.grid(True)\n",
    "plt.show()"
   ]
  },
  {
   "cell_type": "code",
   "execution_count": null,
   "metadata": {},
   "outputs": [],
   "source": []
  }
 ],
 "metadata": {
  "interpreter": {
   "hash": "19b21e06a3ecf92dacb2d0dce038f81bb705746e8008c815c25552dc2d0953db"
  },
  "kernelspec": {
   "display_name": "Python 3.8.10 ('p-reg-env')",
   "language": "python",
   "name": "python3"
  },
  "language_info": {
   "codemirror_mode": {
    "name": "ipython",
    "version": 3
   },
   "file_extension": ".py",
   "mimetype": "text/x-python",
   "name": "python",
   "nbconvert_exporter": "python",
   "pygments_lexer": "ipython3",
   "version": "3.8.10"
  },
  "orig_nbformat": 4
 },
 "nbformat": 4,
 "nbformat_minor": 2
}
