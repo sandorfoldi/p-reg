{
 "cells": [
  {
   "cell_type": "code",
   "execution_count": 1,
   "metadata": {},
   "outputs": [
    {
     "name": "stdout",
     "output_type": "stream",
     "text": [
      "/home/sandor/dtu/2021-22-spring/advanced_machine_learning/p-reg\n",
      "Obtaining file:///home/sandor/dtu/2021-22-spring/advanced_machine_learning/p-reg\n",
      "  Preparing metadata (setup.py) ... \u001b[?25ldone\n",
      "\u001b[?25hInstalling collected packages: src\n",
      "  Attempting uninstall: src\n",
      "    Found existing installation: src 0.1.0\n",
      "    Uninstalling src-0.1.0:\n",
      "      Successfully uninstalled src-0.1.0\n",
      "  Running setup.py develop for src\n",
      "Successfully installed src-0.1.0\n",
      "Note: you may need to restart the kernel to use updated packages.\n"
     ]
    }
   ],
   "source": [
    "%cd ..\n",
    "%pip install -e ."
   ]
  },
  {
   "cell_type": "code",
   "execution_count": 2,
   "metadata": {},
   "outputs": [],
   "source": [
    "import random\n",
    "\n",
    "import numpy as np\n",
    "import pandas as pd\n",
    "\n",
    "from src.models.dense import NN0\n",
    "from src.models.dense import NN1\n",
    "from src.models.gcn import GCN0\n",
    "from src.models.gcn import GCN1\n",
    "from src.models.gat import GAT\n",
    "\n",
    "from src.models.train_model import train_with_loss\n",
    "from src.models.train_model import random_splits\n",
    "\n",
    "from src.models.reg import make_preg_ce_ce\n",
    "from src.models.reg import make_lap_loss_ce\n",
    "\n",
    "from src.models.reg import compute_a_hat\n",
    "\n",
    "from src.models.evaluate_model import evaluate0\n",
    "from src.models.evaluate_model import evaluate1\n",
    "\n",
    "import torch\n",
    "import torch.nn.functional as F\n",
    "import matplotlib.pyplot as plt\n",
    "\n",
    "from torch_geometric.data import Data\n",
    "from torch_geometric.loader import DataLoader\n",
    "from torch_geometric.datasets import Planetoid\n",
    "import torch_geometric.transforms as T\n",
    "from sklearn.manifold import TSNE\n",
    "\n",
    "from src.models.evaluate_model import test\n",
    "from tqdm import tqdm\n"
   ]
  },
  {
   "cell_type": "code",
   "execution_count": 3,
   "metadata": {},
   "outputs": [],
   "source": [
    "device = torch.device('cuda' if torch.cuda.is_available() else 'cpu')\n",
    "dataset = Planetoid(root='data/Planetoid', name='Cora', transform=T.NormalizeFeatures())\n",
    "data = dataset[0].to(device)\n",
    "\n",
    "A_hat = compute_a_hat(data)\n",
    "\n",
    "# data = random_splits(data, 50, 20)\n",
    "data.reg_mask = torch.ones_like(data.train_mask, dtype=torch.bool)\n"
   ]
  },
  {
   "cell_type": "code",
   "execution_count": 9,
   "metadata": {},
   "outputs": [
    {
     "data": {
      "text/plain": [
       "tensor(1000)"
      ]
     },
     "execution_count": 9,
     "metadata": {},
     "output_type": "execute_result"
    }
   ],
   "source": [
    "data.train_mask.sum()\n",
    "data.val_mask.sum()\n",
    "data.test_mask.sum()"
   ]
  },
  {
   "cell_type": "code",
   "execution_count": 4,
   "metadata": {},
   "outputs": [
    {
     "name": "stdout",
     "output_type": "stream",
     "text": [
      "-------------------------------------------------------------\n",
      "train size: 140\n",
      "val size: 500\n",
      "test size: 1000\n",
      "-------------------------------------------------------------\n",
      "{'model': 'gcn', 'reg': 'lap_loss', 'mu': 0.0, 'train_acc': 1.0, 'val_acc': 0.784, 'test_acc': 0.8}\n",
      "{'model': 'gcn', 'reg': 'lap_loss', 'mu': 0.1, 'train_acc': 0.9857, 'val_acc': 0.628, 'test_acc': 0.649}\n",
      "{'model': 'gcn', 'reg': 'lap_loss', 'mu': 0.2, 'train_acc': 0.9857, 'val_acc': 0.586, 'test_acc': 0.585}\n",
      "{'model': 'gcn', 'reg': 'lap_loss', 'mu': 0.3, 'train_acc': 0.9857, 'val_acc': 0.586, 'test_acc': 0.58}\n",
      "{'model': 'gcn', 'reg': 'lap_loss', 'mu': 0.4, 'train_acc': 0.9786, 'val_acc': 0.586, 'test_acc': 0.573}\n",
      "{'model': 'gcn', 'reg': 'lap_loss', 'mu': 0.5, 'train_acc': 0.9786, 'val_acc': 0.586, 'test_acc': 0.572}\n",
      "{'model': 'gcn', 'reg': 'lap_loss', 'mu': 0.6, 'train_acc': 0.9786, 'val_acc': 0.578, 'test_acc': 0.577}\n",
      "{'model': 'gcn', 'reg': 'lap_loss', 'mu': 0.7, 'train_acc': 0.9786, 'val_acc': 0.572, 'test_acc': 0.577}\n",
      "{'model': 'gcn', 'reg': 'lap_loss', 'mu': 0.8, 'train_acc': 0.9786, 'val_acc': 0.578, 'test_acc': 0.586}\n",
      "{'model': 'gat', 'reg': 'lap_loss', 'mu': 0.0, 'train_acc': 0.9929, 'val_acc': 0.796, 'test_acc': 0.81}\n",
      "{'model': 'gat', 'reg': 'lap_loss', 'mu': 0.1, 'train_acc': 0.9857, 'val_acc': 0.772, 'test_acc': 0.77}\n",
      "{'model': 'gat', 'reg': 'lap_loss', 'mu': 0.2, 'train_acc': 0.9857, 'val_acc': 0.774, 'test_acc': 0.769}\n",
      "{'model': 'gat', 'reg': 'lap_loss', 'mu': 0.3, 'train_acc': 0.9714, 'val_acc': 0.76, 'test_acc': 0.766}\n",
      "{'model': 'gat', 'reg': 'lap_loss', 'mu': 0.4, 'train_acc': 0.9714, 'val_acc': 0.754, 'test_acc': 0.764}\n",
      "{'model': 'gat', 'reg': 'lap_loss', 'mu': 0.5, 'train_acc': 0.9714, 'val_acc': 0.75, 'test_acc': 0.757}\n",
      "{'model': 'gat', 'reg': 'lap_loss', 'mu': 0.6, 'train_acc': 0.9714, 'val_acc': 0.744, 'test_acc': 0.743}\n",
      "{'model': 'gat', 'reg': 'lap_loss', 'mu': 0.7, 'train_acc': 0.9643, 'val_acc': 0.75, 'test_acc': 0.739}\n",
      "{'model': 'gat', 'reg': 'lap_loss', 'mu': 0.8, 'train_acc': 0.9643, 'val_acc': 0.758, 'test_acc': 0.74}\n",
      "{'model': 'gcn', 'reg': 'preg_loss', 'mu': 0.0, 'train_acc': 1.0, 'val_acc': 0.784, 'test_acc': 0.8}\n",
      "{'model': 'gcn', 'reg': 'preg_loss', 'mu': 0.1, 'train_acc': 1.0, 'val_acc': 0.794, 'test_acc': 0.817}\n",
      "{'model': 'gcn', 'reg': 'preg_loss', 'mu': 0.2, 'train_acc': 0.9929, 'val_acc': 0.802, 'test_acc': 0.822}\n",
      "{'model': 'gcn', 'reg': 'preg_loss', 'mu': 0.3, 'train_acc': 0.9929, 'val_acc': 0.802, 'test_acc': 0.821}\n",
      "{'model': 'gcn', 'reg': 'preg_loss', 'mu': 0.4, 'train_acc': 0.9929, 'val_acc': 0.806, 'test_acc': 0.819}\n",
      "{'model': 'gcn', 'reg': 'preg_loss', 'mu': 0.5, 'train_acc': 0.9929, 'val_acc': 0.806, 'test_acc': 0.821}\n",
      "{'model': 'gcn', 'reg': 'preg_loss', 'mu': 0.6, 'train_acc': 0.9929, 'val_acc': 0.802, 'test_acc': 0.821}\n",
      "{'model': 'gcn', 'reg': 'preg_loss', 'mu': 0.7, 'train_acc': 0.9929, 'val_acc': 0.724, 'test_acc': 0.768}\n",
      "{'model': 'gcn', 'reg': 'preg_loss', 'mu': 0.8, 'train_acc': 0.9571, 'val_acc': 0.518, 'test_acc': 0.521}\n",
      "{'model': 'gat', 'reg': 'preg_loss', 'mu': 0.0, 'train_acc': 0.9929, 'val_acc': 0.796, 'test_acc': 0.81}\n",
      "{'model': 'gat', 'reg': 'preg_loss', 'mu': 0.1, 'train_acc': 0.9929, 'val_acc': 0.804, 'test_acc': 0.814}\n",
      "{'model': 'gat', 'reg': 'preg_loss', 'mu': 0.2, 'train_acc': 1.0, 'val_acc': 0.8, 'test_acc': 0.822}\n",
      "{'model': 'gat', 'reg': 'preg_loss', 'mu': 0.3, 'train_acc': 1.0, 'val_acc': 0.814, 'test_acc': 0.823}\n",
      "{'model': 'gat', 'reg': 'preg_loss', 'mu': 0.4, 'train_acc': 1.0, 'val_acc': 0.814, 'test_acc': 0.831}\n",
      "{'model': 'gat', 'reg': 'preg_loss', 'mu': 0.5, 'train_acc': 1.0, 'val_acc': 0.816, 'test_acc': 0.837}\n",
      "{'model': 'gat', 'reg': 'preg_loss', 'mu': 0.6, 'train_acc': 1.0, 'val_acc': 0.82, 'test_acc': 0.838}\n",
      "{'model': 'gat', 'reg': 'preg_loss', 'mu': 0.7, 'train_acc': 0.9714, 'val_acc': 0.778, 'test_acc': 0.808}\n",
      "{'model': 'gat', 'reg': 'preg_loss', 'mu': 0.8, 'train_acc': 0.9357, 'val_acc': 0.67, 'test_acc': 0.701}\n"
     ]
    }
   ],
   "source": [
    "print('-------------------------------------------------------------')\n",
    "print(f'train size: {data.train_mask.sum()}')\n",
    "print(f'val size: {data.val_mask.sum()}')\n",
    "print(f'test size: {data.test_mask.sum()}')\n",
    "print('-------------------------------------------------------------')\n",
    "\n",
    "metrics = []\n",
    "\n",
    "for loss_fn_name in ['lap_loss', 'preg_loss']:\n",
    "    for model_name in ['gcn', 'gat']:\n",
    "        for mu in range(9):\n",
    "            torch.manual_seed(1)\n",
    "            random.seed(1)\n",
    "\n",
    "            mu = mu / 10\n",
    "\n",
    "            if loss_fn_name == 'lap_loss':\n",
    "                loss_fn = make_lap_loss_ce(mu)\n",
    "            elif loss_fn_name == 'preg_loss':\n",
    "                loss_fn = make_preg_ce_ce(mu, A_hat)\n",
    "            else:\n",
    "                raise(Exception('Not Implemented'))\n",
    "            \n",
    "            if model_name == 'gcn':\n",
    "                model = GCN1(num_node_features=dataset.num_node_features,\n",
    "                    num_classes=dataset.num_classes) \\\n",
    "                    .to(device)\n",
    "            elif model_name == 'gat':\n",
    "                model = GAT(dataset=dataset).to(device)\n",
    "            else:\n",
    "                raise(Exception('Not Implemented'))\n",
    "\n",
    "\n",
    "            model = train_with_loss(model, data, loss_fn, num_epochs=200)\n",
    "\n",
    "            acc = evaluate0(model, data)\n",
    "\n",
    "            train_acc, val_acc, test_acc = evaluate1(model, data)\n",
    "            metrics.append({'model': model_name, 'reg': loss_fn_name, 'mu': mu, 'train_acc': np.round(train_acc,4), 'val_acc': np.round(val_acc,4), 'test_acc': np.round(test_acc,4)})\n",
    "            print(metrics[-1])\n",
    "            # print(f'mu: {mu}, train_acc: {train_acc:.4f}, val_acc: {val_acc:.4f}, test_acc: {test_acc:.4f}')\n",
    "            # print('-------------------------------------------------------------')\n"
   ]
  },
  {
   "cell_type": "code",
   "execution_count": 11,
   "metadata": {},
   "outputs": [
    {
     "data": {
      "image/png": "[encoded data removed]",
      "text/plain": [
       "<Figure size 432x288 with 1 Axes>"
      ]
     },
     "metadata": {
      "needs_background": "light"
     },
     "output_type": "display_data"
    }
   ],
   "source": [
    "df = pd.DataFrame(metrics)\n",
    "df.to_csv('reports/figures/fig2c.csv')\n",
    "fig, ax = plt.subplots()\n",
    "\n",
    "filt = (df['model'] == 'gcn') & (df['reg'] == 'preg_loss')\n",
    "ax.plot(df[filt]['mu'], 9*[df[filt]['test_acc'][df[filt]['mu']==0]], '--b')\n",
    "\n",
    "filt = (df['model'] == 'gat') & (df['reg'] == 'preg_loss')\n",
    "ax.plot(df[filt]['mu'], 9*[df[filt]['test_acc'][df[filt]['mu']==0]], '--r')\n",
    "\n",
    "filt = (df['model'] == 'gcn') & (df['reg'] == 'preg_loss')\n",
    "ax.plot(df[filt]['mu'], df[filt]['test_acc'], '-*b')\n",
    "\n",
    "filt = (df['model'] == 'gat') & (df['reg'] == 'preg_loss')\n",
    "ax.plot(df[filt]['mu'], df[filt]['test_acc'], '-*r')\n",
    "\n",
    "filt = (df['model'] == 'gcn') & (df['reg'] == 'lap_loss')\n",
    "ax.plot(df[filt]['mu'], df[filt]['test_acc'], '-ob', label='GCN')\n",
    "\n",
    "filt = (df['model'] == 'gat') & (df['reg'] == 'lap_loss')\n",
    "ax.plot(df[filt]['mu'], df[filt]['test_acc'], '-or', label='GAT')\n",
    "\n",
    "ax.set(ylim=(.5, .9), xlabel='Regularization factor $\\mu$', ylabel='Test accuracy')\n",
    "ax.legend()\n",
    "plt.show()"
   ]
  },
  {
   "cell_type": "code",
   "execution_count": 6,
   "metadata": {},
   "outputs": [
    {
     "data": {
      "text/plain": [
       "7"
      ]
     },
     "execution_count": 6,
     "metadata": {},
     "output_type": "execute_result"
    }
   ],
   "source": [
    "dataset.num_classes"
   ]
  }
 ],
 "metadata": {
  "interpreter": {
   "hash": "19b21e06a3ecf92dacb2d0dce038f81bb705746e8008c815c25552dc2d0953db"
  },
  "kernelspec": {
   "display_name": "Python 3.8.10 ('p-reg-env')",
   "language": "python",
   "name": "python3"
  },
  "language_info": {
   "codemirror_mode": {
    "name": "ipython",
    "version": 3
   },
   "file_extension": ".py",
   "mimetype": "text/x-python",
   "name": "python",
   "nbconvert_exporter": "python",
   "pygments_lexer": "ipython3",
   "version": "3.8.10"
  },
  "orig_nbformat": 4
 },
 "nbformat": 4,
 "nbformat_minor": 2
}
