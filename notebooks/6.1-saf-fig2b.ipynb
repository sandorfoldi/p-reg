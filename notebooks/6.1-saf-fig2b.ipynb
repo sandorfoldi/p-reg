{
 "cells": [
  {
   "cell_type": "code",
   "execution_count": 1,
   "metadata": {},
   "outputs": [
    {
     "name": "stdout",
     "output_type": "stream",
     "text": [
      "/home/sandor/dtu/2021-22-spring/advanced_machine_learning/p-reg\n",
      "Obtaining file:///home/sandor/dtu/2021-22-spring/advanced_machine_learning/p-reg\n",
      "  Preparing metadata (setup.py) ... \u001b[?25ldone\n",
      "\u001b[?25hInstalling collected packages: src\n",
      "  Attempting uninstall: src\n",
      "    Found existing installation: src 0.1.0\n",
      "    Uninstalling src-0.1.0:\n",
      "      Successfully uninstalled src-0.1.0\n",
      "  Running setup.py develop for src\n",
      "Successfully installed src-0.1.0\n",
      "Note: you may need to restart the kernel to use updated packages.\n"
     ]
    }
   ],
   "source": [
    "%cd ..\n",
    "%pip install -e ."
   ]
  },
  {
   "cell_type": "code",
   "execution_count": 2,
   "metadata": {},
   "outputs": [
    {
     "name": "stdout",
     "output_type": "stream",
     "text": [
      "ATTENTION!!! MODIFIED P TO Z IN SOME PARTS OF MAKE_PREG_LOSS!!!\n"
     ]
    }
   ],
   "source": [
    "import random\n",
    "\n",
    "import numpy as np\n",
    "import pandas as pd\n",
    "import matplotlib.pyplot as plt\n",
    "\n",
    "from tqdm import tqdm\n",
    "\n",
    "from src.models.gcn import GCN0\n",
    "from src.models.gat import GAT\n",
    "\n",
    "from src.models.train_model import train_with_loss\n",
    "from src.models.train_model import random_splits\n",
    "\n",
    "from src.models.reg import make_preg_loss\n",
    "from src.models.reg import compute_a_hat\n",
    "from src.models.reg import set_reg_mask\n",
    "\n",
    "from src.models.evaluate_model import evaluate0\n",
    "from src.models.evaluate_model import evaluate1\n",
    "\n",
    "import torch\n",
    "\n",
    "import torch.nn.functional as F\n",
    "import torch_geometric.transforms as T\n",
    "\n",
    "from torch_geometric.data import Data\n",
    "from torch_geometric.loader import DataLoader\n",
    "from torch_geometric.datasets import Planetoid"
   ]
  },
  {
   "cell_type": "code",
   "execution_count": 4,
   "metadata": {},
   "outputs": [
    {
     "name": "stdout",
     "output_type": "stream",
     "text": [
      "{'model': 'gcn', 'unmask preg ratio': 0.1, 'train_acc': 1.0, 'val_acc': 0.808, 'test_acc': 0.811}\n",
      "{'model': 'gcn', 'unmask preg ratio': 0.2, 'train_acc': 1.0, 'val_acc': 0.806, 'test_acc': 0.81}\n",
      "{'model': 'gcn', 'unmask preg ratio': 0.3, 'train_acc': 1.0, 'val_acc': 0.8, 'test_acc': 0.812}\n",
      "{'model': 'gcn', 'unmask preg ratio': 0.4, 'train_acc': 1.0, 'val_acc': 0.808, 'test_acc': 0.822}\n",
      "{'model': 'gcn', 'unmask preg ratio': 0.5, 'train_acc': 1.0, 'val_acc': 0.81, 'test_acc': 0.826}\n",
      "{'model': 'gcn', 'unmask preg ratio': 0.6, 'train_acc': 1.0, 'val_acc': 0.806, 'test_acc': 0.833}\n",
      "{'model': 'gcn', 'unmask preg ratio': 0.7, 'train_acc': 1.0, 'val_acc': 0.816, 'test_acc': 0.838}\n",
      "{'model': 'gcn', 'unmask preg ratio': 0.8, 'train_acc': 1.0, 'val_acc': 0.808, 'test_acc': 0.837}\n",
      "{'model': 'gcn', 'unmask preg ratio': 0.9, 'train_acc': 1.0, 'val_acc': 0.8, 'test_acc': 0.836}\n",
      "{'model': 'gcn', 'unmask preg ratio': 1, 'train_acc': 1.0, 'val_acc': 0.798, 'test_acc': 0.826}\n",
      "{'model': 'gat', 'unmask preg ratio': 0.1, 'train_acc': 0.9928571428571429, 'val_acc': 0.802, 'test_acc': 0.811}\n",
      "{'model': 'gat', 'unmask preg ratio': 0.2, 'train_acc': 0.9928571428571429, 'val_acc': 0.808, 'test_acc': 0.812}\n",
      "{'model': 'gat', 'unmask preg ratio': 0.3, 'train_acc': 1.0, 'val_acc': 0.804, 'test_acc': 0.816}\n",
      "{'model': 'gat', 'unmask preg ratio': 0.4, 'train_acc': 1.0, 'val_acc': 0.818, 'test_acc': 0.822}\n",
      "{'model': 'gat', 'unmask preg ratio': 0.5, 'train_acc': 1.0, 'val_acc': 0.822, 'test_acc': 0.829}\n",
      "{'model': 'gat', 'unmask preg ratio': 0.6, 'train_acc': 1.0, 'val_acc': 0.816, 'test_acc': 0.831}\n",
      "{'model': 'gat', 'unmask preg ratio': 0.7, 'train_acc': 0.9857142857142858, 'val_acc': 0.786, 'test_acc': 0.809}\n",
      "{'model': 'gat', 'unmask preg ratio': 0.8, 'train_acc': 0.9357142857142857, 'val_acc': 0.68, 'test_acc': 0.71}\n",
      "{'model': 'gat', 'unmask preg ratio': 0.9, 'train_acc': 0.9214285714285714, 'val_acc': 0.638, 'test_acc': 0.633}\n",
      "{'model': 'gat', 'unmask preg ratio': 1, 'train_acc': 0.9071428571428571, 'val_acc': 0.598, 'test_acc': 0.599}\n"
     ]
    }
   ],
   "source": [
    "device = torch.device('cuda' if torch.cuda.is_available() else 'cpu')\n",
    "dataset = Planetoid(root='data/Planetoid', name='Cora', transform=T.NormalizeFeatures())\n",
    "data = dataset[0].to(device)\n",
    "\n",
    "L_cls = lambda x, y: F.cross_entropy(x, y, reduction='sum')\n",
    "L_preg = lambda x, y: - (x * torch.log(y)).sum()\n",
    "\n",
    "A_hat = compute_a_hat(data)\n",
    "mu = 1\n",
    "\n",
    "loss_fn = make_preg_loss(L_cls, L_preg, mu, A_hat)\n",
    "\n",
    "metrics = []\n",
    "for model_name in ('gcn', 'gat'):\n",
    "    for alpha in  [.1, .2, .3, .4, .5, .6, .7, .8, .9, 1]:\n",
    "    # for num_training_nodes in  tqdm([20, 40, 60, 80, 100]):\n",
    "        data = set_reg_mask(data, int(alpha*data.x.shape[0]))\n",
    "\n",
    "        torch.manual_seed(1)\n",
    "        random.seed(1)\n",
    "\n",
    "        if model_name == 'gcn':\n",
    "            model = GCN0(num_node_features=dataset.num_node_features,\n",
    "                        num_classes=dataset.num_classes) \\\n",
    "                        .to(device)\n",
    "        elif model_name == 'gat':\n",
    "            model = GAT(dataset=dataset).to(device)\n",
    "\n",
    "        model = train_with_loss(model, data, loss_fn, num_epochs=200)\n",
    "        # gcn_model = train2(gcn_model, data)\n",
    "        acc = evaluate0(model, data)\n",
    "        # print(f'mu: {mu}, reg, Accuracy: {acc:.4f}')\n",
    "\n",
    "        train_acc, val_acc, test_acc = evaluate1(model, data)\n",
    "        metrics.append({'model': model_name, 'unmask preg ratio': alpha, 'train_acc': train_acc, 'val_acc': val_acc, 'test_acc': test_acc})\n",
    "        print(metrics[-1])\n"
   ]
  },
  {
   "cell_type": "code",
   "execution_count": 8,
   "metadata": {},
   "outputs": [
    {
     "data": {
      "image/png": "[encoded data removed]",
      "text/plain": [
       "<Figure size 432x288 with 1 Axes>"
      ]
     },
     "metadata": {
      "needs_background": "light"
     },
     "output_type": "display_data"
    }
   ],
   "source": [
    "df = pd.DataFrame(metrics)\n",
    "fig, ax = plt.subplots()\n",
    "\n",
    "filt = (df['model'] == 'gcn')\n",
    "ax.plot(df[filt]['unmask preg ratio'], df[filt]['test_acc'], '-*b')\n",
    "\n",
    "filt = (df['model'] == 'gat')\n",
    "ax.plot(df[filt]['unmask preg ratio'], df[filt]['test_acc'], '-*r')\n",
    "\n",
    "ax.set(ylim=(.5, .9))\n",
    "plt.show()"
   ]
  },
  {
   "cell_type": "code",
   "execution_count": null,
   "metadata": {},
   "outputs": [],
   "source": []
  }
 ],
 "metadata": {
  "interpreter": {
   "hash": "19b21e06a3ecf92dacb2d0dce038f81bb705746e8008c815c25552dc2d0953db"
  },
  "kernelspec": {
   "display_name": "Python 3.8.10 ('p-reg-env')",
   "language": "python",
   "name": "python3"
  },
  "language_info": {
   "codemirror_mode": {
    "name": "ipython",
    "version": 3
   },
   "file_extension": ".py",
   "mimetype": "text/x-python",
   "name": "python",
   "nbconvert_exporter": "python",
   "pygments_lexer": "ipython3",
   "version": "3.8.10"
  },
  "orig_nbformat": 4
 },
 "nbformat": 4,
 "nbformat_minor": 2
}
