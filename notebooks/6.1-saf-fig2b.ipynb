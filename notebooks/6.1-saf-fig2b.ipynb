{
 "cells": [
  {
   "cell_type": "code",
   "execution_count": 1,
   "metadata": {},
   "outputs": [
    {
     "name": "stdout",
     "output_type": "stream",
     "text": [
      "/home/sandor/dtu/2021-22-spring/advanced_machine_learning/p-reg\n",
      "Obtaining file:///home/sandor/dtu/2021-22-spring/advanced_machine_learning/p-reg\n",
      "  Preparing metadata (setup.py) ... \u001b[?25ldone\n",
      "\u001b[?25hInstalling collected packages: src\n",
      "  Attempting uninstall: src\n",
      "    Found existing installation: src 0.1.0\n",
      "    Uninstalling src-0.1.0:\n",
      "      Successfully uninstalled src-0.1.0\n",
      "  Running setup.py develop for src\n",
      "Successfully installed src-0.1.0\n",
      "Note: you may need to restart the kernel to use updated packages.\n"
     ]
    }
   ],
   "source": [
    "%cd ..\n",
    "%pip install -e ."
   ]
  },
  {
   "cell_type": "code",
   "execution_count": 2,
   "metadata": {},
   "outputs": [],
   "source": [
    "import random\n",
    "\n",
    "import numpy as np\n",
    "import pandas as pd\n",
    "import matplotlib.pyplot as plt\n",
    "\n",
    "from tqdm import tqdm\n",
    "\n",
    "from src.models.gcn import GCN0\n",
    "from src.models.gat import GAT\n",
    "from src.models.gcn import GCN_fix_2layer_64hidden\n",
    "\n",
    "from src.models.train_model import train_with_loss\n",
    "from src.models.train_model import random_splits\n",
    "\n",
    "from src.models.reg import make_preg_loss\n",
    "from src.models.reg import make_preg_ce_ce\n",
    "from src.models.reg import make_preg_ce_ce_alt\n",
    "from src.models.reg import compute_a_hat\n",
    "from src.models.reg import set_reg_mask\n",
    "\n",
    "from src.models.evaluate_model import evaluate0\n",
    "from src.models.evaluate_model import evaluate1\n",
    "\n",
    "import torch\n",
    "\n",
    "import torch.nn.functional as F\n",
    "import torch_geometric.transforms as T\n",
    "\n",
    "from torch_geometric.data import Data\n",
    "from torch_geometric.loader import DataLoader\n",
    "from torch_geometric.datasets import Planetoid"
   ]
  },
  {
   "cell_type": "code",
   "execution_count": 9,
   "metadata": {},
   "outputs": [
    {
     "name": "stdout",
     "output_type": "stream",
     "text": [
      "{'model': 'gcn', 'unmask preg ratio': 0.1, 'train_acc': 1.0, 'val_acc': 0.81, 'test_acc': 0.813}\n",
      "{'model': 'gcn', 'unmask preg ratio': 0.2, 'train_acc': 1.0, 'val_acc': 0.8, 'test_acc': 0.809}\n",
      "{'model': 'gcn', 'unmask preg ratio': 0.3, 'train_acc': 1.0, 'val_acc': 0.81, 'test_acc': 0.808}\n",
      "{'model': 'gcn', 'unmask preg ratio': 0.4, 'train_acc': 1.0, 'val_acc': 0.814, 'test_acc': 0.814}\n",
      "{'model': 'gcn', 'unmask preg ratio': 0.5, 'train_acc': 1.0, 'val_acc': 0.814, 'test_acc': 0.822}\n",
      "{'model': 'gcn', 'unmask preg ratio': 0.6, 'train_acc': 1.0, 'val_acc': 0.814, 'test_acc': 0.826}\n",
      "{'model': 'gcn', 'unmask preg ratio': 0.7, 'train_acc': 1.0, 'val_acc': 0.812, 'test_acc': 0.833}\n",
      "{'model': 'gcn', 'unmask preg ratio': 0.8, 'train_acc': 1.0, 'val_acc': 0.802, 'test_acc': 0.834}\n",
      "{'model': 'gcn', 'unmask preg ratio': 0.9, 'train_acc': 1.0, 'val_acc': 0.8, 'test_acc': 0.838}\n",
      "{'model': 'gcn', 'unmask preg ratio': 1, 'train_acc': 1.0, 'val_acc': 0.802, 'test_acc': 0.836}\n",
      "{'model': 'gat', 'unmask preg ratio': 0.1, 'train_acc': 1.0, 'val_acc': 0.78, 'test_acc': 0.806}\n",
      "{'model': 'gat', 'unmask preg ratio': 0.2, 'train_acc': 1.0, 'val_acc': 0.78, 'test_acc': 0.812}\n",
      "{'model': 'gat', 'unmask preg ratio': 0.3, 'train_acc': 1.0, 'val_acc': 0.79, 'test_acc': 0.82}\n",
      "{'model': 'gat', 'unmask preg ratio': 0.4, 'train_acc': 1.0, 'val_acc': 0.792, 'test_acc': 0.821}\n",
      "{'model': 'gat', 'unmask preg ratio': 0.5, 'train_acc': 1.0, 'val_acc': 0.806, 'test_acc': 0.825}\n",
      "{'model': 'gat', 'unmask preg ratio': 0.6, 'train_acc': 0.9928571428571429, 'val_acc': 0.796, 'test_acc': 0.825}\n",
      "{'model': 'gat', 'unmask preg ratio': 0.7, 'train_acc': 0.9928571428571429, 'val_acc': 0.796, 'test_acc': 0.826}\n",
      "{'model': 'gat', 'unmask preg ratio': 0.8, 'train_acc': 0.9928571428571429, 'val_acc': 0.8, 'test_acc': 0.823}\n",
      "{'model': 'gat', 'unmask preg ratio': 0.9, 'train_acc': 0.9928571428571429, 'val_acc': 0.782, 'test_acc': 0.804}\n",
      "{'model': 'gat', 'unmask preg ratio': 1, 'train_acc': 0.9928571428571429, 'val_acc': 0.75, 'test_acc': 0.769}\n"
     ]
    }
   ],
   "source": [
    "device = torch.device('cuda' if torch.cuda.is_available() else 'cpu')\n",
    "dataset = Planetoid(root='data/Planetoid', name='Cora', transform=T.NormalizeFeatures())\n",
    "data = dataset[0].to(device)\n",
    "\n",
    "L_cls = lambda x, y: F.cross_entropy(x, y, reduction='sum')\n",
    "L_preg = lambda x, y: - (x * torch.log(y)).sum()\n",
    "\n",
    "A_hat = compute_a_hat(data)\n",
    "mu = 0.7\n",
    "\n",
    "# loss_fn = make_preg_loss(L_cls, L_preg, mu, A_hat)\n",
    "\n",
    "metrics = []\n",
    "for model_name in ('gcn', 'gat'):\n",
    "# for model_name in ('gcn'):\n",
    "      for alpha in  [.1, .2, .3, .4, .5, .6, .7, .8, .9, 1]:\n",
    "    # for num_training_nodes in  tqdm([20, 40, 60, 80, 100]):\n",
    "        data = set_reg_mask(data, int(alpha*data.x.shape[0]))\n",
    "        loss_fn = make_preg_ce_ce(mu, A_hat)\n",
    "        torch.manual_seed(1)\n",
    "        random.seed(1)\n",
    "\n",
    "        if model_name == 'gcn':\n",
    "            model = model = GCN_fix_2layer_64hidden().to(device)\n",
    "        elif model_name == 'gat':\n",
    "            model = GAT(dataset=dataset, hidden_channels=64).to(device)\n",
    "\n",
    "        model = train_with_loss(model, data, loss_fn, num_epochs=200)\n",
    "        # gcn_model = train2(gcn_model, data)\n",
    "        acc = evaluate0(model, data)\n",
    "        # print(f'mu: {mu}, reg, Accuracy: {acc:.4f}')\n",
    "\n",
    "        train_acc, val_acc, test_acc = evaluate1(model, data)\n",
    "        metrics.append({'model': model_name, 'unmask preg ratio': alpha, 'train_acc': train_acc, 'val_acc': val_acc, 'test_acc': test_acc})\n",
    "        print(metrics[-1])\n"
   ]
  },
  {
   "cell_type": "code",
   "execution_count": 47,
   "metadata": {},
   "outputs": [
    {
     "name": "stdout",
     "output_type": "stream",
     "text": [
      "{'model': 'gcn', 'unmask preg ratio': 0, 'train_acc': 1.0, 'val_acc': 0.802, 'test_acc': 0.807}\n"
     ]
    }
   ],
   "source": [
    "# for model_name in ('gcn', 'gat'):\n",
    "mu = 0.7\n",
    "model_name = 'gcn'\n",
    "for alpha in  [0]:\n",
    "# for num_training_nodes in  tqdm([20, 40, 60, 80, 100]):\n",
    "    data = set_reg_mask(data, int(alpha*data.x.shape[0]))\n",
    "    loss_fn = make_preg_ce_ce(mu, A_hat)\n",
    "    torch.manual_seed(1)\n",
    "    random.seed(1)\n",
    "\n",
    "    if model_name == 'gcn':\n",
    "        model = model = GCN_fix_2layer_64hidden().to(device)\n",
    "    elif model_name == 'gat':\n",
    "        model = GAT(dataset=dataset, hidden_channels=32).to(device)\n",
    "\n",
    "    model = train_with_loss(model, data, loss_fn, num_epochs=200)\n",
    "    # gcn_model = train2(gcn_model, data)\n",
    "    acc = evaluate0(model, data)\n",
    "    # print(f'mu: {mu}, reg, Accuracy: {acc:.4f}')\n",
    "\n",
    "    train_acc, val_acc, test_acc = evaluate1(model, data)\n",
    "    metrics.append({'model': model_name, 'unmask preg ratio': alpha, 'train_acc': train_acc, 'val_acc': val_acc, 'test_acc': test_acc})\n",
    "    print(metrics[-1])"
   ]
  },
  {
   "cell_type": "code",
   "execution_count": 62,
   "metadata": {},
   "outputs": [
    {
     "data": {
      "image/png": "[encoded data removed]",
      "text/plain": [
       "<Figure size 432x288 with 1 Axes>"
      ]
     },
     "metadata": {
      "needs_background": "light"
     },
     "output_type": "display_data"
    }
   ],
   "source": [
    "# df = pd.DataFrame(metrics).sort_values(['unmask preg ratio'])\n",
    "# df = df_\n",
    "df.to_csv('reports/figures/fig2b.csv')\n",
    "fig, ax = plt.subplots()\n",
    "\n",
    "filt = (df['model'] == 'gcn')\n",
    "ax.plot(df[filt]['unmask preg ratio'], df[filt]['test_acc'], '-*b', label='GCN')\n",
    "\n",
    "filt = (df['model'] == 'gat')\n",
    "ax.plot(df[filt]['unmask preg ratio'], df[filt]['test_acc'], '-*r', label='GAT')\n",
    "\n",
    "ax.set(ylim=(.77, .86), xlabel='Unmask p-reg ratio', ylabel='Test accuracy')\n",
    "ax.legend()\n",
    "plt.show()\n"
   ]
  },
  {
   "cell_type": "code",
   "execution_count": 12,
   "metadata": {},
   "outputs": [
    {
     "data": {
      "text/html": [
       "<div>\n",
       "<style scoped>\n",
       "    .dataframe tbody tr th:only-of-type {\n",
       "        vertical-align: middle;\n",
       "    }\n",
       "\n",
       "    .dataframe tbody tr th {\n",
       "        vertical-align: top;\n",
       "    }\n",
       "\n",
       "    .dataframe thead th {\n",
       "        text-align: right;\n",
       "    }\n",
       "</style>\n",
       "<table border=\"1\" class=\"dataframe\">\n",
       "  <thead>\n",
       "    <tr style=\"text-align: right;\">\n",
       "      <th></th>\n",
       "      <th>model</th>\n",
       "      <th>unmask preg ratio</th>\n",
       "      <th>train_acc</th>\n",
       "      <th>val_acc</th>\n",
       "      <th>test_acc</th>\n",
       "    </tr>\n",
       "  </thead>\n",
       "  <tbody>\n",
       "    <tr>\n",
       "      <th>0</th>\n",
       "      <td>gcn</td>\n",
       "      <td>0.1</td>\n",
       "      <td>0.992857</td>\n",
       "      <td>0.790</td>\n",
       "      <td>0.815</td>\n",
       "    </tr>\n",
       "    <tr>\n",
       "      <th>1</th>\n",
       "      <td>gcn</td>\n",
       "      <td>0.2</td>\n",
       "      <td>0.992857</td>\n",
       "      <td>0.802</td>\n",
       "      <td>0.822</td>\n",
       "    </tr>\n",
       "    <tr>\n",
       "      <th>2</th>\n",
       "      <td>gcn</td>\n",
       "      <td>0.3</td>\n",
       "      <td>0.992857</td>\n",
       "      <td>0.804</td>\n",
       "      <td>0.817</td>\n",
       "    </tr>\n",
       "    <tr>\n",
       "      <th>3</th>\n",
       "      <td>gcn</td>\n",
       "      <td>0.4</td>\n",
       "      <td>0.992857</td>\n",
       "      <td>0.810</td>\n",
       "      <td>0.816</td>\n",
       "    </tr>\n",
       "    <tr>\n",
       "      <th>4</th>\n",
       "      <td>gcn</td>\n",
       "      <td>0.5</td>\n",
       "      <td>0.992857</td>\n",
       "      <td>0.802</td>\n",
       "      <td>0.817</td>\n",
       "    </tr>\n",
       "  </tbody>\n",
       "</table>\n",
       "</div>"
      ],
      "text/plain": [
       "  model  unmask preg ratio  train_acc  val_acc  test_acc\n",
       "0   gcn                0.1   0.992857    0.790     0.815\n",
       "1   gcn                0.2   0.992857    0.802     0.822\n",
       "2   gcn                0.3   0.992857    0.804     0.817\n",
       "3   gcn                0.4   0.992857    0.810     0.816\n",
       "4   gcn                0.5   0.992857    0.802     0.817"
      ]
     },
     "execution_count": 12,
     "metadata": {},
     "output_type": "execute_result"
    }
   ],
   "source": [
    "df.head()"
   ]
  },
  {
   "cell_type": "code",
   "execution_count": 26,
   "metadata": {},
   "outputs": [],
   "source": [
    "df.to_csv('reports/figures/fig2b.csv')"
   ]
  },
  {
   "cell_type": "code",
   "execution_count": 37,
   "metadata": {},
   "outputs": [
    {
     "data": {
      "text/html": [
       "<div>\n",
       "<style scoped>\n",
       "    .dataframe tbody tr th:only-of-type {\n",
       "        vertical-align: middle;\n",
       "    }\n",
       "\n",
       "    .dataframe tbody tr th {\n",
       "        vertical-align: top;\n",
       "    }\n",
       "\n",
       "    .dataframe thead th {\n",
       "        text-align: right;\n",
       "    }\n",
       "</style>\n",
       "<table border=\"1\" class=\"dataframe\">\n",
       "  <thead>\n",
       "    <tr style=\"text-align: right;\">\n",
       "      <th></th>\n",
       "      <th>model</th>\n",
       "      <th>unmask preg ratio</th>\n",
       "      <th>train_acc</th>\n",
       "      <th>val_acc</th>\n",
       "      <th>test_acc</th>\n",
       "    </tr>\n",
       "  </thead>\n",
       "  <tbody>\n",
       "    <tr>\n",
       "      <th>0</th>\n",
       "      <td>gcn</td>\n",
       "      <td>0.1</td>\n",
       "      <td>1.0</td>\n",
       "      <td>0.810</td>\n",
       "      <td>0.813</td>\n",
       "    </tr>\n",
       "    <tr>\n",
       "      <th>1</th>\n",
       "      <td>gcn</td>\n",
       "      <td>0.2</td>\n",
       "      <td>1.0</td>\n",
       "      <td>0.800</td>\n",
       "      <td>0.809</td>\n",
       "    </tr>\n",
       "    <tr>\n",
       "      <th>2</th>\n",
       "      <td>gcn</td>\n",
       "      <td>0.3</td>\n",
       "      <td>1.0</td>\n",
       "      <td>0.810</td>\n",
       "      <td>0.808</td>\n",
       "    </tr>\n",
       "    <tr>\n",
       "      <th>3</th>\n",
       "      <td>gcn</td>\n",
       "      <td>0.4</td>\n",
       "      <td>1.0</td>\n",
       "      <td>0.814</td>\n",
       "      <td>0.814</td>\n",
       "    </tr>\n",
       "    <tr>\n",
       "      <th>4</th>\n",
       "      <td>gcn</td>\n",
       "      <td>0.5</td>\n",
       "      <td>1.0</td>\n",
       "      <td>0.814</td>\n",
       "      <td>0.822</td>\n",
       "    </tr>\n",
       "    <tr>\n",
       "      <th>5</th>\n",
       "      <td>gcn</td>\n",
       "      <td>0.6</td>\n",
       "      <td>1.0</td>\n",
       "      <td>0.814</td>\n",
       "      <td>0.826</td>\n",
       "    </tr>\n",
       "    <tr>\n",
       "      <th>6</th>\n",
       "      <td>gcn</td>\n",
       "      <td>0.7</td>\n",
       "      <td>1.0</td>\n",
       "      <td>0.812</td>\n",
       "      <td>0.833</td>\n",
       "    </tr>\n",
       "    <tr>\n",
       "      <th>7</th>\n",
       "      <td>gcn</td>\n",
       "      <td>0.8</td>\n",
       "      <td>1.0</td>\n",
       "      <td>0.802</td>\n",
       "      <td>0.834</td>\n",
       "    </tr>\n",
       "    <tr>\n",
       "      <th>8</th>\n",
       "      <td>gcn</td>\n",
       "      <td>0.9</td>\n",
       "      <td>1.0</td>\n",
       "      <td>0.800</td>\n",
       "      <td>0.838</td>\n",
       "    </tr>\n",
       "    <tr>\n",
       "      <th>9</th>\n",
       "      <td>gcn</td>\n",
       "      <td>1.0</td>\n",
       "      <td>1.0</td>\n",
       "      <td>0.802</td>\n",
       "      <td>0.836</td>\n",
       "    </tr>\n",
       "  </tbody>\n",
       "</table>\n",
       "</div>"
      ],
      "text/plain": [
       "  model  unmask preg ratio  train_acc  val_acc  test_acc\n",
       "0   gcn                0.1        1.0    0.810     0.813\n",
       "1   gcn                0.2        1.0    0.800     0.809\n",
       "2   gcn                0.3        1.0    0.810     0.808\n",
       "3   gcn                0.4        1.0    0.814     0.814\n",
       "4   gcn                0.5        1.0    0.814     0.822\n",
       "5   gcn                0.6        1.0    0.814     0.826\n",
       "6   gcn                0.7        1.0    0.812     0.833\n",
       "7   gcn                0.8        1.0    0.802     0.834\n",
       "8   gcn                0.9        1.0    0.800     0.838\n",
       "9   gcn                1.0        1.0    0.802     0.836"
      ]
     },
     "execution_count": 37,
     "metadata": {},
     "output_type": "execute_result"
    }
   ],
   "source": [
    "df[df['model']=='gcn'].sort_index()[:10]"
   ]
  },
  {
   "cell_type": "code",
   "execution_count": 49,
   "metadata": {},
   "outputs": [
    {
     "data": {
      "text/html": [
       "<div>\n",
       "<style scoped>\n",
       "    .dataframe tbody tr th:only-of-type {\n",
       "        vertical-align: middle;\n",
       "    }\n",
       "\n",
       "    .dataframe tbody tr th {\n",
       "        vertical-align: top;\n",
       "    }\n",
       "\n",
       "    .dataframe thead th {\n",
       "        text-align: right;\n",
       "    }\n",
       "</style>\n",
       "<table border=\"1\" class=\"dataframe\">\n",
       "  <thead>\n",
       "    <tr style=\"text-align: right;\">\n",
       "      <th></th>\n",
       "      <th>model</th>\n",
       "      <th>unmask preg ratio</th>\n",
       "      <th>train_acc</th>\n",
       "      <th>val_acc</th>\n",
       "      <th>test_acc</th>\n",
       "    </tr>\n",
       "  </thead>\n",
       "  <tbody>\n",
       "    <tr>\n",
       "      <th>0</th>\n",
       "      <td>gcn</td>\n",
       "      <td>0</td>\n",
       "      <td>1.0</td>\n",
       "      <td>0.802</td>\n",
       "      <td>0.807</td>\n",
       "    </tr>\n",
       "  </tbody>\n",
       "</table>\n",
       "</div>"
      ],
      "text/plain": [
       "  model  unmask preg ratio  train_acc  val_acc  test_acc\n",
       "0   gcn                  0        1.0    0.802     0.807"
      ]
     },
     "execution_count": 49,
     "metadata": {},
     "output_type": "execute_result"
    }
   ],
   "source": [
    "_ = pd.DataFrame()\n",
    "_.append({'model': 'gcn', 'unmask preg ratio': 0, 'train_acc': 1.0, 'val_acc': 0.802, 'test_acc': 0.807}, ignore_index=True)"
   ]
  },
  {
   "cell_type": "code",
   "execution_count": 57,
   "metadata": {},
   "outputs": [],
   "source": [
    "df = df.append({'model': 'gcn', 'unmask preg ratio': 0, 'train_acc': 1.0, 'val_acc': 0.802, 'test_acc': 0.807}, ignore_index=True)"
   ]
  },
  {
   "cell_type": "code",
   "execution_count": 60,
   "metadata": {},
   "outputs": [],
   "source": [
    "df = df.sort_values('unmask preg ratio')"
   ]
  },
  {
   "cell_type": "code",
   "execution_count": null,
   "metadata": {},
   "outputs": [],
   "source": []
  }
 ],
 "metadata": {
  "interpreter": {
   "hash": "19b21e06a3ecf92dacb2d0dce038f81bb705746e8008c815c25552dc2d0953db"
  },
  "kernelspec": {
   "display_name": "Python 3.8.10 ('p-reg-env')",
   "language": "python",
   "name": "python3"
  },
  "language_info": {
   "codemirror_mode": {
    "name": "ipython",
    "version": 3
   },
   "file_extension": ".py",
   "mimetype": "text/x-python",
   "name": "python",
   "nbconvert_exporter": "python",
   "pygments_lexer": "ipython3",
   "version": "3.8.10"
  },
  "orig_nbformat": 4
 },
 "nbformat": 4,
 "nbformat_minor": 2
}
