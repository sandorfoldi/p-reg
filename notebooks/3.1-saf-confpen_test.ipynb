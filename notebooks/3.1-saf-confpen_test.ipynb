{
 "cells": [
  {
   "cell_type": "code",
   "execution_count": 1,
   "metadata": {},
   "outputs": [
    {
     "name": "stdout",
     "output_type": "stream",
     "text": [
      "/home/sandor/dtu/2021-22-spring/advanced_machine_learning/p-reg\n",
      "Obtaining file:///home/sandor/dtu/2021-22-spring/advanced_machine_learning/p-reg\n",
      "  Preparing metadata (setup.py) ... \u001b[?25ldone\n",
      "\u001b[?25hInstalling collected packages: src\n",
      "  Attempting uninstall: src\n",
      "    Found existing installation: src 0.1.0\n",
      "    Uninstalling src-0.1.0:\n",
      "      Successfully uninstalled src-0.1.0\n",
      "  Running setup.py develop for src\n",
      "Successfully installed src-0.1.0\n",
      "Note: you may need to restart the kernel to use updated packages.\n"
     ]
    }
   ],
   "source": [
    "%cd ..\n",
    "%pip install -e ."
   ]
  },
  {
   "cell_type": "code",
   "execution_count": 2,
   "metadata": {},
   "outputs": [],
   "source": [
    "import random\n",
    "\n",
    "from src.models.dense import NN0\n",
    "from src.models.dense import NN1\n",
    "from src.models.gcn import GCN0\n",
    "\n",
    "from src.models.train_model import train\n",
    "from src.models.train_model import train_conf_pen\n",
    "from src.models.train_model import random_splits\n",
    "\n",
    "from src.models.evaluate_model import evaluate0\n",
    "from src.models.evaluate_model import evaluate1\n",
    "\n",
    "import torch\n",
    "import torch.nn.functional as F\n",
    "import matplotlib.pyplot as plt\n",
    "\n",
    "from torch_geometric.data import Data\n",
    "from torch_geometric.loader import DataLoader\n",
    "from torch_geometric.datasets import Planetoid\n",
    "import torch_geometric.transforms as T\n",
    "from sklearn.manifold import TSNE\n",
    "\n",
    "from src.models.evaluate_model import test"
   ]
  },
  {
   "cell_type": "code",
   "execution_count": 3,
   "metadata": {},
   "outputs": [
    {
     "name": "stdout",
     "output_type": "stream",
     "text": [
      "-------------------------------------------------------------\n",
      "train size: 350\n",
      "valid size: 140\n",
      "test size: 2218\n",
      "-------------------------------------------------------------\n",
      "beta: 0.0, train_acc: 0.9886, val_acc: 0.8429, test_acc: 0.8368\n",
      "-------------------------------------------------------------\n",
      "beta: 0.01, train_acc: 0.9886, val_acc: 0.8429, test_acc: 0.8359\n",
      "-------------------------------------------------------------\n",
      "beta: 0.02, train_acc: 0.9886, val_acc: 0.8429, test_acc: 0.8350\n",
      "-------------------------------------------------------------\n",
      "beta: 0.03, train_acc: 0.9886, val_acc: 0.8429, test_acc: 0.8341\n",
      "-------------------------------------------------------------\n",
      "beta: 0.04, train_acc: 0.9886, val_acc: 0.8429, test_acc: 0.8327\n",
      "-------------------------------------------------------------\n",
      "beta: 0.05, train_acc: 0.9886, val_acc: 0.8429, test_acc: 0.8309\n",
      "-------------------------------------------------------------\n",
      "beta: 0.06, train_acc: 0.9886, val_acc: 0.8357, test_acc: 0.8291\n",
      "-------------------------------------------------------------\n",
      "beta: 0.07, train_acc: 0.9886, val_acc: 0.8429, test_acc: 0.8246\n",
      "-------------------------------------------------------------\n",
      "beta: 0.08, train_acc: 0.9886, val_acc: 0.8357, test_acc: 0.8210\n",
      "-------------------------------------------------------------\n",
      "beta: 0.09, train_acc: 0.9886, val_acc: 0.8357, test_acc: 0.8197\n",
      "-------------------------------------------------------------\n",
      "beta: 0.1, train_acc: 0.9886, val_acc: 0.8357, test_acc: 0.8197\n",
      "-------------------------------------------------------------\n"
     ]
    }
   ],
   "source": [
    "device = torch.device('cuda' if torch.cuda.is_available() else 'cpu')\n",
    "\n",
    "dataset = Planetoid(root='data/Planetoid', name='Cora', transform=T.NormalizeFeatures())\n",
    "# no normalization, using n != 0 and m!= 0 instead\n",
    "# doesnt work, just use normalization instead\n",
    "# dataset = Planetoid(root='data/Planetoid', name='Cora')\n",
    "\n",
    "data = dataset[0].to(device)\n",
    "data = random_splits(data, 50, 20)\n",
    "splits = data.train_mask, data.val_mask, data.test_mask\n",
    "\n",
    "print('-------------------------------------------------------------')\n",
    "print(f'train size: {data.train_mask.sum()}')\n",
    "print(f'valid size: {data.valid_mask.sum()}')\n",
    "print(f'test size: {data.test_mask.sum()}')\n",
    "print('-------------------------------------------------------------')\n",
    "\n",
    "metrics = []\n",
    "\n",
    "for beta in range(11):\n",
    "    beta = beta / 100\n",
    "    torch.manual_seed(1)\n",
    "    random.seed(1)\n",
    "\n",
    "    gcn_model = GCN0(num_node_features=dataset.num_node_features,\n",
    "                        num_classes=dataset.num_classes) \\\n",
    "                    .to(device)\n",
    "\n",
    "    gcn_model = train_conf_pen(gcn_model, data, beta=beta, num_epochs=350)\n",
    "    # gcn_model = train2(gcn_model, data)\n",
    "    acc = evaluate0(gcn_model, data)\n",
    "    # print(f'mu: {mu}, reg, Accuracy: {acc:.4f}')\n",
    "\n",
    "    train_acc, val_acc, test_acc = evaluate1(gcn_model, data)\n",
    "    metrics.append({'beta': beta, 'train_acc': train_acc, 'val_acc': val_acc, 'test_acc': test_acc})\n",
    "    print(f'beta: {beta}, train_acc: {train_acc:.4f}, val_acc: {val_acc:.4f}, test_acc: {test_acc:.4f}')\n",
    "    print('-------------------------------------------------------------')\n",
    "\n"
   ]
  },
  {
   "cell_type": "code",
   "execution_count": 5,
   "metadata": {},
   "outputs": [
    {
     "name": "stdout",
     "output_type": "stream",
     "text": [
      "-------------------------------------------------------------\n",
      "train size: 350\n",
      "valid size: 140\n",
      "test size: 2218\n",
      "-------------------------------------------------------------\n",
      "beta: 0.0, train_acc: 0.9943, val_acc: 0.8429, test_acc: 0.8354\n",
      "-------------------------------------------------------------\n",
      "beta: 0.1, train_acc: 0.9943, val_acc: 0.8429, test_acc: 0.8260\n",
      "-------------------------------------------------------------\n",
      "beta: 0.2, train_acc: 0.9943, val_acc: 0.8286, test_acc: 0.7962\n",
      "-------------------------------------------------------------\n",
      "beta: 0.3, train_acc: 0.9943, val_acc: 0.8000, test_acc: 0.7922\n",
      "-------------------------------------------------------------\n",
      "beta: 0.4, train_acc: 0.9943, val_acc: 0.7857, test_acc: 0.7827\n",
      "-------------------------------------------------------------\n",
      "beta: 0.5, train_acc: 0.9943, val_acc: 0.7857, test_acc: 0.7786\n",
      "-------------------------------------------------------------\n",
      "beta: 0.6, train_acc: 0.9943, val_acc: 0.7714, test_acc: 0.7669\n",
      "-------------------------------------------------------------\n",
      "beta: 0.7, train_acc: 0.9914, val_acc: 0.7714, test_acc: 0.7610\n",
      "-------------------------------------------------------------\n",
      "beta: 0.8, train_acc: 0.9914, val_acc: 0.7786, test_acc: 0.7583\n",
      "-------------------------------------------------------------\n",
      "beta: 0.9, train_acc: 0.9914, val_acc: 0.7714, test_acc: 0.7502\n",
      "-------------------------------------------------------------\n",
      "beta: 1.0, train_acc: 0.9914, val_acc: 0.7643, test_acc: 0.7444\n",
      "-------------------------------------------------------------\n"
     ]
    }
   ],
   "source": [
    "device = torch.device('cuda' if torch.cuda.is_available() else 'cpu')\n",
    "\n",
    "dataset = Planetoid(root='data/Planetoid', name='Cora', transform=T.NormalizeFeatures())\n",
    "# no normalization, using n != 0 and m!= 0 instead\n",
    "# doesnt work, just use normalization instead\n",
    "# dataset = Planetoid(root='data/Planetoid', name='Cora')\n",
    "\n",
    "data = dataset[0].to(device)\n",
    "data = random_splits(data, 50, 20)\n",
    "splits = data.train_mask, data.val_mask, data.test_mask\n",
    "\n",
    "print('-------------------------------------------------------------')\n",
    "print(f'train size: {data.train_mask.sum()}')\n",
    "print(f'valid size: {data.valid_mask.sum()}')\n",
    "print(f'test size: {data.test_mask.sum()}')\n",
    "print('-------------------------------------------------------------')\n",
    "\n",
    "metrics = []\n",
    "\n",
    "for beta in range(11):\n",
    "    beta = beta / 10\n",
    "    torch.manual_seed(1)\n",
    "    random.seed(1)\n",
    "\n",
    "    gcn_model = GCN0(num_node_features=dataset.num_node_features,\n",
    "                        num_classes=dataset.num_classes) \\\n",
    "                    .to(device)\n",
    "\n",
    "    gcn_model = train_conf_pen(gcn_model, data, beta=beta, num_epochs=350)\n",
    "    # gcn_model = train2(gcn_model, data)\n",
    "    acc = evaluate0(gcn_model, data)\n",
    "    # print(f'mu: {mu}, reg, Accuracy: {acc:.4f}')\n",
    "\n",
    "    train_acc, val_acc, test_acc = evaluate1(gcn_model, data)\n",
    "    metrics.append({'beta': beta, 'train_acc': train_acc, 'val_acc': val_acc, 'test_acc': test_acc})\n",
    "    print(f'beta: {beta}, train_acc: {train_acc:.4f}, val_acc: {val_acc:.4f}, test_acc: {test_acc:.4f}')\n",
    "    print('-------------------------------------------------------------')\n",
    "\n"
   ]
  },
  {
   "cell_type": "code",
   "execution_count": 4,
   "metadata": {},
   "outputs": [
    {
     "data": {
      "image/png": "[encoded data removed]",
      "text/plain": [
       "<Figure size 432x288 with 1 Axes>"
      ]
     },
     "metadata": {
      "needs_background": "light"
     },
     "output_type": "display_data"
    }
   ],
   "source": [
    "import pandas as pd\n",
    "import numpy as np\n",
    "\n",
    "\n",
    "df = pd.DataFrame(metrics)\n",
    "fig, ax = plt.subplots()\n",
    "ax.plot(df['beta'], df['test_acc'], '-b*',)\n",
    "plt.show()"
   ]
  },
  {
   "cell_type": "code",
   "execution_count": null,
   "metadata": {},
   "outputs": [
    {
     "name": "stdout",
     "output_type": "stream",
     "text": [
      "-------------------------------------------------------------\n",
      "train size: 350\n",
      "valid size: 140\n",
      "test size: 2218\n",
      "-------------------------------------------------------------\n",
      "beta: 0.0, train_acc: 0.9943, val_acc: 0.8429, test_acc: 0.8354\n",
      "-------------------------------------------------------------\n",
      "beta: 0.001, train_acc: 0.9914, val_acc: 0.7286, test_acc: 0.7227\n",
      "-------------------------------------------------------------\n",
      "beta: 0.002, train_acc: 0.9914, val_acc: 0.7286, test_acc: 0.7042\n",
      "-------------------------------------------------------------\n",
      "beta: 0.003, train_acc: 0.9914, val_acc: 0.7357, test_acc: 0.6894\n",
      "-------------------------------------------------------------\n",
      "beta: 0.004, train_acc: 0.9886, val_acc: 0.7357, test_acc: 0.6939\n",
      "-------------------------------------------------------------\n",
      "beta: 0.005, train_acc: 0.9886, val_acc: 0.7429, test_acc: 0.6835\n",
      "-------------------------------------------------------------\n",
      "beta: 0.006, train_acc: 0.9886, val_acc: 0.7357, test_acc: 0.6867\n",
      "-------------------------------------------------------------\n",
      "beta: 0.007, train_acc: 0.9886, val_acc: 0.7286, test_acc: 0.6740\n",
      "-------------------------------------------------------------\n",
      "beta: 0.008, train_acc: 0.9914, val_acc: 0.7286, test_acc: 0.6745\n",
      "-------------------------------------------------------------\n",
      "beta: 0.009, train_acc: 0.9914, val_acc: 0.7214, test_acc: 0.6745\n",
      "-------------------------------------------------------------\n",
      "beta: 0.01, train_acc: 0.9943, val_acc: 0.7286, test_acc: 0.6862\n",
      "-------------------------------------------------------------\n"
     ]
    }
   ],
   "source": [
    "device = torch.device('cuda' if torch.cuda.is_available() else 'cpu')\n",
    "\n",
    "dataset = Planetoid(root='data/Planetoid', name='Cora', transform=T.NormalizeFeatures())\n",
    "# no normalization, using n != 0 and m!= 0 instead\n",
    "# doesnt work, just use normalization instead\n",
    "# dataset = Planetoid(root='data/Planetoid', name='Cora')\n",
    "\n",
    "data = dataset[0].to(device)\n",
    "data = random_splits(data, 50, 20)\n",
    "splits = data.train_mask, data.val_mask, data.test_mask\n",
    "\n",
    "print('-------------------------------------------------------------')\n",
    "print(f'train size: {data.train_mask.sum()}')\n",
    "print(f'valid size: {data.valid_mask.sum()}')\n",
    "print(f'test size: {data.test_mask.sum()}')\n",
    "print('-------------------------------------------------------------')\n",
    "\n",
    "metrics = []\n",
    "\n",
    "for beta in range(11):\n",
    "    beta = beta / 1000\n",
    "    torch.manual_seed(1)\n",
    "    random.seed(1)\n",
    "\n",
    "    gcn_model = GCN0(num_node_features=dataset.num_node_features,\n",
    "                        num_classes=dataset.num_classes) \\\n",
    "                    .to(device)\n",
    "\n",
    "    gcn_model = train_conf_pen(gcn_model, data, beta=beta, num_epochs=350)\n",
    "    # gcn_model = train2(gcn_model, data)\n",
    "    acc = evaluate0(gcn_model, data)\n",
    "    # print(f'mu: {mu}, reg, Accuracy: {acc:.4f}')\n",
    "\n",
    "    train_acc, val_acc, test_acc = evaluate1(gcn_model, data)\n",
    "    metrics.append({'beta': beta, 'train_acc': train_acc, 'val_acc': val_acc, 'test_acc': test_acc})\n",
    "    print(f'beta: {beta}, train_acc: {train_acc:.4f}, val_acc: {val_acc:.4f}, test_acc: {test_acc:.4f}')\n",
    "    print('-------------------------------------------------------------')\n",
    "\n"
   ]
  },
  {
   "cell_type": "code",
   "execution_count": null,
   "metadata": {},
   "outputs": [
    {
     "data": {
      "image/png": "[encoded data removed]",
      "text/plain": [
       "<Figure size 432x288 with 1 Axes>"
      ]
     },
     "metadata": {},
     "output_type": "display_data"
    }
   ],
   "source": [
    "import pandas as pd\n",
    "import numpy as np\n",
    "\n",
    "\n",
    "df = pd.DataFrame(metrics)\n",
    "fig, ax = plt.subplots()\n",
    "ax.plot(df['beta'], df['test_acc'], '-b*',)\n",
    "plt.show()"
   ]
  },
  {
   "cell_type": "code",
   "execution_count": null,
   "metadata": {},
   "outputs": [
    {
     "name": "stdout",
     "output_type": "stream",
     "text": [
      "-------------------------------------------------------------\n",
      "train size: 350\n",
      "valid size: 140\n",
      "test size: 2218\n",
      "-------------------------------------------------------------\n",
      "beta: 0.0, train_acc: 0.9943, val_acc: 0.8500, test_acc: 0.8318\n",
      "-------------------------------------------------------------\n",
      "beta: 0.0001, train_acc: 0.9943, val_acc: 0.8143, test_acc: 0.7949\n",
      "-------------------------------------------------------------\n",
      "beta: 0.0002, train_acc: 0.9971, val_acc: 0.7571, test_acc: 0.7692\n",
      "-------------------------------------------------------------\n",
      "beta: 0.0003, train_acc: 0.9971, val_acc: 0.7429, test_acc: 0.7565\n",
      "-------------------------------------------------------------\n",
      "beta: 0.0004, train_acc: 0.9971, val_acc: 0.7357, test_acc: 0.7299\n",
      "-------------------------------------------------------------\n",
      "beta: 0.0005, train_acc: 0.9914, val_acc: 0.7429, test_acc: 0.7164\n",
      "-------------------------------------------------------------\n",
      "beta: 0.0006, train_acc: 0.9914, val_acc: 0.7286, test_acc: 0.7101\n",
      "-------------------------------------------------------------\n",
      "beta: 0.0007, train_acc: 0.9914, val_acc: 0.7214, test_acc: 0.7024\n",
      "-------------------------------------------------------------\n",
      "beta: 0.0008, train_acc: 0.9914, val_acc: 0.7286, test_acc: 0.6970\n",
      "-------------------------------------------------------------\n",
      "beta: 0.0009, train_acc: 0.9914, val_acc: 0.7286, test_acc: 0.6970\n",
      "-------------------------------------------------------------\n",
      "beta: 0.001, train_acc: 0.9914, val_acc: 0.7143, test_acc: 0.6975\n",
      "-------------------------------------------------------------\n"
     ]
    }
   ],
   "source": [
    "device = torch.device('cuda' if torch.cuda.is_available() else 'cpu')\n",
    "\n",
    "dataset = Planetoid(root='data/Planetoid', name='Cora', transform=T.NormalizeFeatures())\n",
    "# no normalization, using n != 0 and m!= 0 instead\n",
    "# doesnt work, just use normalization instead\n",
    "# dataset = Planetoid(root='data/Planetoid', name='Cora')\n",
    "\n",
    "data = dataset[0].to(device)\n",
    "data = random_splits(data, 50, 20)\n",
    "splits = data.train_mask, data.val_mask, data.test_mask\n",
    "\n",
    "print('-------------------------------------------------------------')\n",
    "print(f'train size: {data.train_mask.sum()}')\n",
    "print(f'valid size: {data.valid_mask.sum()}')\n",
    "print(f'test size: {data.test_mask.sum()}')\n",
    "print('-------------------------------------------------------------')\n",
    "\n",
    "metrics = []\n",
    "\n",
    "for beta in range(11):\n",
    "    beta = beta / 10000\n",
    "    torch.manual_seed(1)\n",
    "    random.seed(1)\n",
    "\n",
    "    gcn_model = GCN0(num_node_features=dataset.num_node_features,\n",
    "                        num_classes=dataset.num_classes) \\\n",
    "                    .to(device)\n",
    "\n",
    "    gcn_model = train_conf_pen(gcn_model, data, beta=beta, num_epochs=350)\n",
    "    # gcn_model = train2(gcn_model, data)\n",
    "    acc = evaluate0(gcn_model, data)\n",
    "    # print(f'mu: {mu}, reg, Accuracy: {acc:.4f}')\n",
    "\n",
    "    train_acc, val_acc, test_acc = evaluate1(gcn_model, data)\n",
    "    metrics.append({'beta': beta, 'train_acc': train_acc, 'val_acc': val_acc, 'test_acc': test_acc})\n",
    "    print(f'beta: {beta}, train_acc: {train_acc:.4f}, val_acc: {val_acc:.4f}, test_acc: {test_acc:.4f}')\n",
    "    print('-------------------------------------------------------------')\n",
    "\n"
   ]
  },
  {
   "cell_type": "code",
   "execution_count": null,
   "metadata": {},
   "outputs": [
    {
     "data": {
      "image/png": "[encoded data removed]",
      "text/plain": [
       "<Figure size 432x288 with 1 Axes>"
      ]
     },
     "metadata": {},
     "output_type": "display_data"
    }
   ],
   "source": [
    "import pandas as pd\n",
    "import numpy as np\n",
    "\n",
    "\n",
    "df = pd.DataFrame(metrics)\n",
    "fig, ax = plt.subplots()\n",
    "ax.plot(df['beta'], df['test_acc'], '-b*',)\n",
    "plt.show()"
   ]
  }
 ],
 "metadata": {
  "interpreter": {
   "hash": "19b21e06a3ecf92dacb2d0dce038f81bb705746e8008c815c25552dc2d0953db"
  },
  "kernelspec": {
   "display_name": "Python 3.8.10 ('p-reg-env')",
   "language": "python",
   "name": "python3"
  },
  "language_info": {
   "codemirror_mode": {
    "name": "ipython",
    "version": 3
   },
   "file_extension": ".py",
   "mimetype": "text/x-python",
   "name": "python",
   "nbconvert_exporter": "python",
   "pygments_lexer": "ipython3",
   "version": "3.8.10"
  },
  "orig_nbformat": 4
 },
 "nbformat": 4,
 "nbformat_minor": 2
}
