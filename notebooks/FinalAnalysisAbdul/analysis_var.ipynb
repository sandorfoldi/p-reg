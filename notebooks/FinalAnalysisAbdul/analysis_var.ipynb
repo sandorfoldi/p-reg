{
 "cells": [
  {
   "cell_type": "code",
   "execution_count": 1,
   "metadata": {},
   "outputs": [
    {
     "name": "stdout",
     "output_type": "stream",
     "text": [
      "/home/sandor/dtu/2021-22-spring/advanced_machine_learning/p-reg\n",
      "Obtaining file:///home/sandor/dtu/2021-22-spring/advanced_machine_learning/p-reg\n",
      "  Preparing metadata (setup.py) ... \u001b[?25ldone\n",
      "\u001b[?25hInstalling collected packages: src\n",
      "  Attempting uninstall: src\n",
      "    Found existing installation: src 0.1.0\n",
      "    Uninstalling src-0.1.0:\n",
      "      Successfully uninstalled src-0.1.0\n",
      "  Running setup.py develop for src\n",
      "Successfully installed src-0.1.0\n",
      "Note: you may need to restart the kernel to use updated packages.\n"
     ]
    }
   ],
   "source": [
    "%cd ../..\n",
    "%pip install -e ."
   ]
  },
  {
   "cell_type": "code",
   "execution_count": 2,
   "metadata": {},
   "outputs": [],
   "source": [
    "from utils import train\n",
    "from utils import test\n",
    "from models import MLP, GCN, GAT\n",
    "from random_split import random_split\n",
    "from p_reg_loss import A_hat_computations\n",
    "# from p_reg_loss import p_reg_loss\n",
    "from lap_loss import lap_loss\n",
    "from helper import visualize_Atlas, visualize_TSNE, visualize_CM, print_dataset, print_data\n",
    "from src.models.evaluate_model import evaluate1abdul\n",
    "\n",
    "# packages\n",
    "import torch\n",
    "from torch_geometric.datasets import Planetoid\n",
    "from torch_geometric.transforms import NormalizeFeatures\n",
    "from sklearn.metrics import mean_squared_error, roc_auc_score, accuracy_score\n",
    "import numpy as np \n",
    "import time\n",
    "import matplotlib.pyplot as plt\n",
    "import pandas as pd\n",
    "import random\n"
   ]
  },
  {
   "cell_type": "code",
   "execution_count": 3,
   "metadata": {},
   "outputs": [],
   "source": [
    "# set up torch env and dataset\n",
    "device = torch.device('cuda' if torch.cuda.is_available() else 'cpu')\n",
    "dataset = Planetoid(root=f'data/Planetoid', name='Cora', transform=NormalizeFeatures())\n",
    "data = dataset[0].to(device)"
   ]
  },
  {
   "cell_type": "code",
   "execution_count": 4,
   "metadata": {},
   "outputs": [],
   "source": [
    "# hyperparams\n",
    "\n",
    "epochs = 200\n",
    "seed = 0\n",
    "reg_loss = 'p_reg'\n",
    "train_mask, val_mask, test_mask = data.train_mask, data.val_mask, data.test_mask\n",
    "A_hat, A_hat_mask, N = A_hat_computations(data)\n"
   ]
  },
  {
   "cell_type": "code",
   "execution_count": 5,
   "metadata": {},
   "outputs": [
    {
     "name": "stdout",
     "output_type": "stream",
     "text": [
      "tensor(2708)\n"
     ]
    }
   ],
   "source": [
    "print(A_hat_mask.sum())"
   ]
  },
  {
   "cell_type": "code",
   "execution_count": 6,
   "metadata": {},
   "outputs": [],
   "source": [
    "def p_reg_loss(Z, A_hat,  A_hat_mask, N):\n",
    "    \"\"\"\n",
    "    See section 2 from \n",
    "    Rethinking Graph Regularization for Graph Neural Networks\n",
    "    \"\"\"\n",
    "    Z = Z[ A_hat_mask, :]\n",
    "    Z_prime = torch.matmul(A_hat, Z)\n",
    "\n",
    "    # have a look at the table before eq (2) and appendix A\n",
    "    P = torch.softmax(Z, dim=1)\n",
    "    Q = torch.softmax(Z_prime, dim=1)\n",
    "    phi = - (P * torch.log(Q)).sum()\n",
    "\n",
    "    return (1/N) * phi\n"
   ]
  },
  {
   "cell_type": "code",
   "execution_count": 7,
   "metadata": {},
   "outputs": [
    {
     "name": "stdout",
     "output_type": "stream",
     "text": [
      "{'mu': 0.0, 'train_acc': 0.9928571428571429, 'val_acc': 0.794, 'test_acc': 0.803}\n",
      "{'mu': 0.1, 'train_acc': 0.9928571428571429, 'val_acc': 0.792, 'test_acc': 0.81}\n",
      "{'mu': 0.2, 'train_acc': 0.9928571428571429, 'val_acc': 0.792, 'test_acc': 0.819}\n",
      "{'mu': 0.3, 'train_acc': 0.9928571428571429, 'val_acc': 0.792, 'test_acc': 0.83}\n",
      "{'mu': 0.4, 'train_acc': 0.9857142857142858, 'val_acc': 0.792, 'test_acc': 0.835}\n",
      "{'mu': 0.5, 'train_acc': 0.9857142857142858, 'val_acc': 0.768, 'test_acc': 0.812}\n",
      "{'mu': 0.6, 'train_acc': 0.9857142857142858, 'val_acc': 0.768, 'test_acc': 0.789}\n",
      "{'mu': 0.7, 'train_acc': 0.9857142857142858, 'val_acc': 0.754, 'test_acc': 0.766}\n",
      "{'mu': 0.8, 'train_acc': 0.9785714285714285, 'val_acc': 0.728, 'test_acc': 0.735}\n",
      "{'mu': 0.9, 'train_acc': 0.9571428571428572, 'val_acc': 0.64, 'test_acc': 0.646}\n",
      "{'mu': 1.0, 'train_acc': 0.8571428571428571, 'val_acc': 0.4, 'test_acc': 0.388}\n"
     ]
    }
   ],
   "source": [
    "metrics = []\n",
    "\n",
    "for mu in range(11):\n",
    "    torch.manual_seed(seed)\n",
    "    random.seed(seed)\n",
    "    \n",
    "    mu = mu / 10\n",
    "\n",
    "\n",
    "\n",
    "\n",
    "    model = GCN(dataset, hidden_channels=16, seed = seed).to(device)\n",
    "    optimizer = torch.optim.Adam(model.parameters(), lr=0.01, weight_decay=5e-4)\n",
    "    criterion = torch.nn.CrossEntropyLoss()\n",
    "\n",
    "    model.train()\n",
    "    for epoch in range(epochs):\n",
    "        optimizer.zero_grad()\n",
    "        _, Z = model(data)\n",
    "\n",
    "        loss_1 = criterion(Z[train_mask], data.y[train_mask])  # Compute the loss solely based on the training nodes.\n",
    "        loss_2 = p_reg_loss(Z, A_hat, A_hat_mask, N)\n",
    "        loss = loss_1 + mu * loss_2\n",
    "\n",
    "        loss.backward()  # Derive gradients.\n",
    "        optimizer.step()  # Update parameters based on gradients.\n",
    "\n",
    "    train_acc, val_acc, test_acc = evaluate1abdul(model, data)\n",
    "    metrics.append({'mu': mu, 'train_acc': train_acc, 'val_acc': val_acc, 'test_acc': test_acc})\n",
    "    print(metrics[-1])\n"
   ]
  },
  {
   "cell_type": "code",
   "execution_count": 8,
   "metadata": {},
   "outputs": [
    {
     "data": {
      "image/png": "[encoded data removed]",
      "text/plain": [
       "<Figure size 432x288 with 1 Axes>"
      ]
     },
     "metadata": {},
     "output_type": "display_data"
    }
   ],
   "source": [
    "df = pd.DataFrame(metrics)\n",
    "plt.plot(df['mu'], df['val_acc'])\n",
    "plt.show()"
   ]
  },
  {
   "cell_type": "code",
   "execution_count": null,
   "metadata": {},
   "outputs": [],
   "source": []
  }
 ],
 "metadata": {
  "interpreter": {
   "hash": "19b21e06a3ecf92dacb2d0dce038f81bb705746e8008c815c25552dc2d0953db"
  },
  "kernelspec": {
   "display_name": "Python 3.8.10 ('p-reg-env')",
   "language": "python",
   "name": "python3"
  },
  "language_info": {
   "codemirror_mode": {
    "name": "ipython",
    "version": 3
   },
   "file_extension": ".py",
   "mimetype": "text/x-python",
   "name": "python",
   "nbconvert_exporter": "python",
   "pygments_lexer": "ipython3",
   "version": "3.8.10"
  },
  "orig_nbformat": 4
 },
 "nbformat": 4,
 "nbformat_minor": 2
}
