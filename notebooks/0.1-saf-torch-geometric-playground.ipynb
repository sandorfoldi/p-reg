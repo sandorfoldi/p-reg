{
 "cells": [
  {
   "cell_type": "code",
   "execution_count": 1,
   "metadata": {},
   "outputs": [
    {
     "name": "stdout",
     "output_type": "stream",
     "text": [
      "/home/sandor/dtu/2021-22-spring/advanced_machine_learning/p-reg\n",
      "Obtaining file:///home/sandor/dtu/2021-22-spring/advanced_machine_learning/p-reg\n",
      "  Preparing metadata (setup.py) ... \u001b[?25ldone\n",
      "\u001b[?25hInstalling collected packages: src\n",
      "  Attempting uninstall: src\n",
      "    Found existing installation: src 0.1.0\n",
      "    Uninstalling src-0.1.0:\n",
      "      Successfully uninstalled src-0.1.0\n",
      "  Running setup.py develop for src\n",
      "Successfully installed src-0.1.0\n",
      "Note: you may need to restart the kernel to use updated packages.\n"
     ]
    }
   ],
   "source": [
    "%cd ..\n",
    "%pip install -e ."
   ]
  },
  {
   "cell_type": "code",
   "execution_count": 2,
   "metadata": {},
   "outputs": [],
   "source": [
    "import torch\n",
    "from torch_geometric.data import Data\n",
    "from src.models.train_model import compute_a\n"
   ]
  },
  {
   "cell_type": "code",
   "execution_count": 12,
   "metadata": {},
   "outputs": [
    {
     "name": "stdout",
     "output_type": "stream",
     "text": [
      "tensor([[1., 2., 3.],\n",
      "        [0., 0., 0.],\n",
      "        [2., 3., 2.],\n",
      "        [4., 3., 2.]])\n"
     ]
    }
   ],
   "source": [
    "x = torch.tensor([\n",
    "    [1,2,3],\n",
    "    [0,0,0],\n",
    "    [2,3,2],\n",
    "    [4,3,2]],\n",
    "    dtype=torch.float)\n",
    "\n",
    "edge_index = torch.tensor([\n",
    "    [0,1],\n",
    "    [0,2],\n",
    "    [0,3],\n",
    "    [2,3],])\n",
    "data = Data(x=x, edge_index=edge_index.T)\n",
    "\n",
    "print(data.x)"
   ]
  },
  {
   "cell_type": "code",
   "execution_count": 19,
   "metadata": {},
   "outputs": [
    {
     "name": "stdout",
     "output_type": "stream",
     "text": [
      "tensor([[0., 1., 1., 1.],\n",
      "        [1., 0., 0., 0.],\n",
      "        [1., 0., 0., 1.],\n",
      "        [1., 0., 1., 0.]])\n",
      "-----------------------------\n",
      "tensor([[1., 2., 3.],\n",
      "        [0., 0., 0.],\n",
      "        [2., 3., 2.],\n",
      "        [4., 3., 2.]])\n",
      "tensor([[2.0000, 2.0000, 1.3333],\n",
      "        [1.0000, 2.0000, 3.0000],\n",
      "        [2.5000, 2.5000, 2.5000],\n",
      "        [1.5000, 2.5000, 2.5000]])\n"
     ]
    }
   ],
   "source": [
    "A = compute_a(data)\n",
    "D = torch.diag(A.sum(dim=0))\n",
    "A_hat = D.inverse()@A\n",
    "print(A)\n",
    "print('-----------------------------')\n",
    "print(data.x)\n",
    "print((A_hat@data.x))"
   ]
  },
  {
   "cell_type": "code",
   "execution_count": 21,
   "metadata": {},
   "outputs": [
    {
     "name": "stdout",
     "output_type": "stream",
     "text": [
      "tensor([[0.0000, 0.3333, 0.3333, 0.3333],\n",
      "        [1.0000, 0.0000, 0.0000, 0.0000],\n",
      "        [0.5000, 0.0000, 0.0000, 0.5000],\n",
      "        [0.5000, 0.0000, 0.5000, 0.0000]])\n"
     ]
    }
   ],
   "source": [
    "print(A_hat)"
   ]
  }
 ],
 "metadata": {
  "interpreter": {
   "hash": "19b21e06a3ecf92dacb2d0dce038f81bb705746e8008c815c25552dc2d0953db"
  },
  "kernelspec": {
   "display_name": "Python 3.8.10 ('p-reg-env')",
   "language": "python",
   "name": "python3"
  },
  "language_info": {
   "codemirror_mode": {
    "name": "ipython",
    "version": 3
   },
   "file_extension": ".py",
   "mimetype": "text/x-python",
   "name": "python",
   "nbconvert_exporter": "python",
   "pygments_lexer": "ipython3",
   "version": "3.8.10"
  },
  "orig_nbformat": 4
 },
 "nbformat": 4,
 "nbformat_minor": 2
}
