{
 "cells": [
  {
   "cell_type": "code",
   "execution_count": 1,
   "metadata": {},
   "outputs": [
    {
     "name": "stdout",
     "output_type": "stream",
     "text": [
      "/home/sandor/dtu/2021-22-spring/advanced_machine_learning/p-reg\n",
      "Obtaining file:///home/sandor/dtu/2021-22-spring/advanced_machine_learning/p-reg\n",
      "  Preparing metadata (setup.py) ... \u001b[?25ldone\n",
      "\u001b[?25hInstalling collected packages: src\n",
      "  Attempting uninstall: src\n",
      "    Found existing installation: src 0.1.0\n",
      "    Uninstalling src-0.1.0:\n",
      "      Successfully uninstalled src-0.1.0\n",
      "  Running setup.py develop for src\n",
      "Successfully installed src-0.1.0\n",
      "Note: you may need to restart the kernel to use updated packages.\n"
     ]
    }
   ],
   "source": [
    "%cd ..\n",
    "%pip install -e ."
   ]
  },
  {
   "cell_type": "code",
   "execution_count": 2,
   "metadata": {},
   "outputs": [],
   "source": [
    "import random\n",
    "\n",
    "import numpy as np\n",
    "import pandas as pd\n",
    "\n",
    "from src.models.dense import NN0\n",
    "from src.models.dense import NN1\n",
    "from src.models.gcn import GCN0\n",
    "from src.models.gcn import GCN1\n",
    "from src.models.gcn import GCN_var_2layer\n",
    "\n",
    "from src.models.gat import GAT\n",
    "\n",
    "from src.models.train_model import train_with_loss\n",
    "from src.models.train_model import random_splits\n",
    "\n",
    "from src.models.reg import make_preg_ce_ce\n",
    "from src.models.reg import make_preg_ce_ce_alt\n",
    "from src.models.reg import make_lap_loss_ce\n",
    "\n",
    "from src.models.reg import compute_a_hat\n",
    "\n",
    "from src.models.evaluate_model import evaluate0\n",
    "from src.models.evaluate_model import evaluate1\n",
    "\n",
    "import torch\n",
    "import torch.nn.functional as F\n",
    "import matplotlib.pyplot as plt\n",
    "\n",
    "from torch_geometric.data import Data\n",
    "from torch_geometric.loader import DataLoader\n",
    "from torch_geometric.datasets import Planetoid\n",
    "import torch_geometric.transforms as T\n",
    "from sklearn.manifold import TSNE\n",
    "\n",
    "from src.models.evaluate_model import test\n",
    "from tqdm import tqdm\n"
   ]
  },
  {
   "cell_type": "code",
   "execution_count": 3,
   "metadata": {},
   "outputs": [],
   "source": [
    "device = torch.device('cuda' if torch.cuda.is_available() else 'cpu')\n",
    "dataset = Planetoid(root='data/Planetoid', name='Cora', transform=T.NormalizeFeatures())\n",
    "data = dataset[0].to(device)\n",
    "\n",
    "A_hat = compute_a_hat(data)\n",
    "\n",
    "data.reg_mask = torch.ones_like(data.train_mask, dtype=torch.bool)\n"
   ]
  },
  {
   "cell_type": "code",
   "execution_count": 5,
   "metadata": {},
   "outputs": [
    {
     "name": "stdout",
     "output_type": "stream",
     "text": [
      "-------------------------------------------------------------\n",
      "train size: 140\n",
      "val size: 500\n",
      "test size: 1000\n",
      "-------------------------------------------------------------\n",
      "{'hidden_channels': 1, 'mu': 0, 'train_acc': 0.4429, 'val_acc': 0.342, 'test_acc': 0.335}\n",
      "{'hidden_channels': 1, 'mu': 0.1, 'train_acc': 0.4429, 'val_acc': 0.344, 'test_acc': 0.343}\n",
      "{'hidden_channels': 1, 'mu': 0.2, 'train_acc': 0.4571, 'val_acc': 0.346, 'test_acc': 0.339}\n",
      "{'hidden_channels': 1, 'mu': 0.3, 'train_acc': 0.4857, 'val_acc': 0.352, 'test_acc': 0.341}\n",
      "{'hidden_channels': 1, 'mu': 0.4, 'train_acc': 0.4929, 'val_acc': 0.352, 'test_acc': 0.346}\n",
      "{'hidden_channels': 1, 'mu': 0.5, 'train_acc': 0.4714, 'val_acc': 0.342, 'test_acc': 0.346}\n",
      "{'hidden_channels': 1, 'mu': 0.6, 'train_acc': 0.4571, 'val_acc': 0.322, 'test_acc': 0.333}\n",
      "{'hidden_channels': 1, 'mu': 0.7, 'train_acc': 0.4286, 'val_acc': 0.294, 'test_acc': 0.323}\n",
      "{'hidden_channels': 1, 'mu': 0.8, 'train_acc': 0.3643, 'val_acc': 0.23, 'test_acc': 0.27}\n",
      "{'hidden_channels': 1, 'mu': 0.9, 'train_acc': 0.1643, 'val_acc': 0.062, 'test_acc': 0.068}\n",
      "{'hidden_channels': 1, 'mu': 1.0, 'train_acc': 0.1429, 'val_acc': 0.072, 'test_acc': 0.091}\n",
      "{'hidden_channels': 2, 'mu': 0, 'train_acc': 0.75, 'val_acc': 0.502, 'test_acc': 0.55}\n",
      "{'hidden_channels': 2, 'mu': 0.1, 'train_acc': 0.7357, 'val_acc': 0.498, 'test_acc': 0.536}\n",
      "{'hidden_channels': 2, 'mu': 0.2, 'train_acc': 0.6929, 'val_acc': 0.478, 'test_acc': 0.508}\n",
      "{'hidden_channels': 2, 'mu': 0.3, 'train_acc': 0.6857, 'val_acc': 0.474, 'test_acc': 0.49}\n",
      "{'hidden_channels': 2, 'mu': 0.4, 'train_acc': 0.6786, 'val_acc': 0.464, 'test_acc': 0.459}\n",
      "{'hidden_channels': 2, 'mu': 0.5, 'train_acc': 0.6643, 'val_acc': 0.436, 'test_acc': 0.433}\n",
      "{'hidden_channels': 2, 'mu': 0.6, 'train_acc': 0.5786, 'val_acc': 0.334, 'test_acc': 0.332}\n",
      "{'hidden_channels': 2, 'mu': 0.7, 'train_acc': 0.3857, 'val_acc': 0.21, 'test_acc': 0.199}\n",
      "{'hidden_channels': 2, 'mu': 0.8, 'train_acc': 0.2286, 'val_acc': 0.17, 'test_acc': 0.163}\n",
      "{'hidden_channels': 2, 'mu': 0.9, 'train_acc': 0.2, 'val_acc': 0.162, 'test_acc': 0.151}\n",
      "{'hidden_channels': 2, 'mu': 1.0, 'train_acc': 0.1571, 'val_acc': 0.32, 'test_acc': 0.321}\n",
      "{'hidden_channels': 4, 'mu': 0, 'train_acc': 0.9714, 'val_acc': 0.74, 'test_acc': 0.754}\n",
      "{'hidden_channels': 4, 'mu': 0.1, 'train_acc': 0.9643, 'val_acc': 0.736, 'test_acc': 0.755}\n",
      "{'hidden_channels': 4, 'mu': 0.2, 'train_acc': 0.9643, 'val_acc': 0.746, 'test_acc': 0.757}\n",
      "{'hidden_channels': 4, 'mu': 0.3, 'train_acc': 0.9643, 'val_acc': 0.75, 'test_acc': 0.763}\n",
      "{'hidden_channels': 4, 'mu': 0.4, 'train_acc': 0.9643, 'val_acc': 0.75, 'test_acc': 0.764}\n",
      "{'hidden_channels': 4, 'mu': 0.5, 'train_acc': 0.9643, 'val_acc': 0.748, 'test_acc': 0.764}\n",
      "{'hidden_channels': 4, 'mu': 0.6, 'train_acc': 0.9714, 'val_acc': 0.734, 'test_acc': 0.746}\n",
      "{'hidden_channels': 4, 'mu': 0.7, 'train_acc': 0.9571, 'val_acc': 0.62, 'test_acc': 0.634}\n",
      "{'hidden_channels': 4, 'mu': 0.8, 'train_acc': 0.7286, 'val_acc': 0.372, 'test_acc': 0.366}\n",
      "{'hidden_channels': 4, 'mu': 0.9, 'train_acc': 0.6214, 'val_acc': 0.284, 'test_acc': 0.271}\n",
      "{'hidden_channels': 4, 'mu': 1.0, 'train_acc': 0.5714, 'val_acc': 0.268, 'test_acc': 0.234}\n",
      "{'hidden_channels': 8, 'mu': 0, 'train_acc': 0.9857, 'val_acc': 0.77, 'test_acc': 0.804}\n",
      "{'hidden_channels': 8, 'mu': 0.1, 'train_acc': 0.9857, 'val_acc': 0.782, 'test_acc': 0.819}\n",
      "{'hidden_channels': 8, 'mu': 0.2, 'train_acc': 0.9857, 'val_acc': 0.784, 'test_acc': 0.82}\n",
      "{'hidden_channels': 8, 'mu': 0.3, 'train_acc': 0.9786, 'val_acc': 0.792, 'test_acc': 0.824}\n",
      "{'hidden_channels': 8, 'mu': 0.4, 'train_acc': 0.9786, 'val_acc': 0.786, 'test_acc': 0.821}\n",
      "{'hidden_channels': 8, 'mu': 0.5, 'train_acc': 0.9714, 'val_acc': 0.782, 'test_acc': 0.817}\n",
      "{'hidden_channels': 8, 'mu': 0.6, 'train_acc': 0.9714, 'val_acc': 0.746, 'test_acc': 0.788}\n",
      "{'hidden_channels': 8, 'mu': 0.7, 'train_acc': 0.8857, 'val_acc': 0.574, 'test_acc': 0.587}\n",
      "{'hidden_channels': 8, 'mu': 0.8, 'train_acc': 0.8071, 'val_acc': 0.472, 'test_acc': 0.495}\n",
      "{'hidden_channels': 8, 'mu': 0.9, 'train_acc': 0.6429, 'val_acc': 0.282, 'test_acc': 0.27}\n",
      "{'hidden_channels': 8, 'mu': 1.0, 'train_acc': 0.6143, 'val_acc': 0.248, 'test_acc': 0.247}\n",
      "{'hidden_channels': 16, 'mu': 0, 'train_acc': 0.9929, 'val_acc': 0.794, 'test_acc': 0.803}\n",
      "{'hidden_channels': 16, 'mu': 0.1, 'train_acc': 0.9929, 'val_acc': 0.792, 'test_acc': 0.81}\n",
      "{'hidden_channels': 16, 'mu': 0.2, 'train_acc': 0.9929, 'val_acc': 0.792, 'test_acc': 0.819}\n",
      "{'hidden_channels': 16, 'mu': 0.3, 'train_acc': 0.9929, 'val_acc': 0.792, 'test_acc': 0.83}\n",
      "{'hidden_channels': 16, 'mu': 0.4, 'train_acc': 0.9857, 'val_acc': 0.792, 'test_acc': 0.835}\n",
      "{'hidden_channels': 16, 'mu': 0.5, 'train_acc': 0.9857, 'val_acc': 0.768, 'test_acc': 0.812}\n",
      "{'hidden_channels': 16, 'mu': 0.6, 'train_acc': 0.9857, 'val_acc': 0.768, 'test_acc': 0.789}\n",
      "{'hidden_channels': 16, 'mu': 0.7, 'train_acc': 0.9857, 'val_acc': 0.754, 'test_acc': 0.766}\n",
      "{'hidden_channels': 16, 'mu': 0.8, 'train_acc': 0.9786, 'val_acc': 0.728, 'test_acc': 0.735}\n",
      "{'hidden_channels': 16, 'mu': 0.9, 'train_acc': 0.9571, 'val_acc': 0.64, 'test_acc': 0.646}\n",
      "{'hidden_channels': 16, 'mu': 1.0, 'train_acc': 0.8571, 'val_acc': 0.402, 'test_acc': 0.389}\n",
      "{'hidden_channels': 32, 'mu': 0, 'train_acc': 1.0, 'val_acc': 0.792, 'test_acc': 0.805}\n",
      "{'hidden_channels': 32, 'mu': 0.1, 'train_acc': 1.0, 'val_acc': 0.794, 'test_acc': 0.813}\n",
      "{'hidden_channels': 32, 'mu': 0.2, 'train_acc': 1.0, 'val_acc': 0.804, 'test_acc': 0.821}\n",
      "{'hidden_channels': 32, 'mu': 0.3, 'train_acc': 1.0, 'val_acc': 0.8, 'test_acc': 0.834}\n",
      "{'hidden_channels': 32, 'mu': 0.4, 'train_acc': 1.0, 'val_acc': 0.802, 'test_acc': 0.83}\n",
      "{'hidden_channels': 32, 'mu': 0.5, 'train_acc': 1.0, 'val_acc': 0.796, 'test_acc': 0.828}\n",
      "{'hidden_channels': 32, 'mu': 0.6, 'train_acc': 1.0, 'val_acc': 0.796, 'test_acc': 0.828}\n",
      "{'hidden_channels': 32, 'mu': 0.7, 'train_acc': 0.9857, 'val_acc': 0.776, 'test_acc': 0.801}\n",
      "{'hidden_channels': 32, 'mu': 0.8, 'train_acc': 0.9857, 'val_acc': 0.738, 'test_acc': 0.76}\n",
      "{'hidden_channels': 32, 'mu': 0.9, 'train_acc': 0.9857, 'val_acc': 0.718, 'test_acc': 0.733}\n",
      "{'hidden_channels': 32, 'mu': 1.0, 'train_acc': 0.9857, 'val_acc': 0.688, 'test_acc': 0.708}\n",
      "{'hidden_channels': 64, 'mu': 0, 'train_acc': 1.0, 'val_acc': 0.788, 'test_acc': 0.807}\n",
      "{'hidden_channels': 64, 'mu': 0.1, 'train_acc': 1.0, 'val_acc': 0.796, 'test_acc': 0.816}\n",
      "{'hidden_channels': 64, 'mu': 0.2, 'train_acc': 1.0, 'val_acc': 0.808, 'test_acc': 0.825}\n",
      "{'hidden_channels': 64, 'mu': 0.3, 'train_acc': 1.0, 'val_acc': 0.822, 'test_acc': 0.829}\n",
      "{'hidden_channels': 64, 'mu': 0.4, 'train_acc': 1.0, 'val_acc': 0.816, 'test_acc': 0.832}\n",
      "{'hidden_channels': 64, 'mu': 0.5, 'train_acc': 1.0, 'val_acc': 0.812, 'test_acc': 0.838}\n",
      "{'hidden_channels': 64, 'mu': 0.6, 'train_acc': 1.0, 'val_acc': 0.808, 'test_acc': 0.838}\n",
      "{'hidden_channels': 64, 'mu': 0.7, 'train_acc': 1.0, 'val_acc': 0.802, 'test_acc': 0.84}\n",
      "{'hidden_channels': 64, 'mu': 0.8, 'train_acc': 1.0, 'val_acc': 0.8, 'test_acc': 0.838}\n",
      "{'hidden_channels': 64, 'mu': 0.9, 'train_acc': 1.0, 'val_acc': 0.796, 'test_acc': 0.836}\n",
      "{'hidden_channels': 64, 'mu': 1.0, 'train_acc': 1.0, 'val_acc': 0.8, 'test_acc': 0.832}\n"
     ]
    }
   ],
   "source": [
    "print('-------------------------------------------------------------')\n",
    "print(f'train size: {data.train_mask.sum()}')\n",
    "print(f'val size: {data.val_mask.sum()}')\n",
    "print(f'test size: {data.test_mask.sum()}')\n",
    "print('-------------------------------------------------------------')\n",
    "\n",
    "metrics = []\n",
    "\n",
    "for hidden_channels in [1, 2, 4, 8, 16, 32, 64]:\n",
    "    for mu in [0, .1, .2, .3, .4, .5, .6, .7, .8, .9, 1.]:\n",
    "        torch.manual_seed(0)\n",
    "        random.seed(0)\n",
    "\n",
    "        loss_fn = make_preg_ce_ce_alt(mu, A_hat)\n",
    "        \n",
    "        model = GCN_var_2layer(hidden_channels)\n",
    "        # model = GCN1(num_node_features=dataset.num_node_features, num_classes=dataset.num_classes)\n",
    "        model = train_with_loss(model, data, loss_fn, num_epochs=200)\n",
    "\n",
    "        acc = evaluate0(model, data)\n",
    "\n",
    "        train_acc, val_acc, test_acc = evaluate1(model, data)\n",
    "        metrics.append({'hidden_channels': hidden_channels, 'mu': mu, 'train_acc': np.round(train_acc,4), 'val_acc': np.round(val_acc,4), 'test_acc': np.round(test_acc,4)})\n",
    "        print(metrics[-1])\n",
    "        # print(f'mu: {mu}, train_acc: {train_acc:.4f}, val_acc: {val_acc:.4f}, test_acc: {test_acc:.4f}')\n",
    "        # print('-------------------------------------------------------------')\n"
   ]
  },
  {
   "cell_type": "code",
   "execution_count": 38,
   "metadata": {},
   "outputs": [],
   "source": [
    "df = pd.DataFrame(metrics)\n",
    "# ridiculously slow implementation, but I don't want to figure this out now\n",
    "arr = np.zeros((df['hidden_channels'].unique().shape[0], df['mu'].unique().shape[0]))\n",
    "for ind_i, i in enumerate(df['hidden_channels'].unique()):\n",
    "    for ind_j, j in enumerate(df['mu'].unique()):\n",
    "        # print((df['hidden_channels'] == i) & (df['mu'] == j))\n",
    "        # print(df[(df['hidden_channels'] == i) & (df['mu'] == j)]['test_acc'])\n",
    "        arr[ind_i,ind_j] = df[(df['hidden_channels'] == i) & (df['mu'] == j)]['test_acc']\n",
    "# plt.pcolormesh()"
   ]
  },
  {
   "cell_type": "code",
   "execution_count": 55,
   "metadata": {},
   "outputs": [
    {
     "data": {
      "image/png": "[encoded data removed]",
      "text/plain": [
       "<Figure size 432x288 with 2 Axes>"
      ]
     },
     "metadata": {
      "needs_background": "light"
     },
     "output_type": "display_data"
    }
   ],
   "source": [
    "from mpl_toolkits.axes_grid1 import make_axes_locatable\n",
    "\n",
    "def add_colorbar(im, fig, ax):\n",
    "    divider = make_axes_locatable(ax)\n",
    "    cax = divider.append_axes('right', size='5%', pad=0.05)\n",
    "    fig.colorbar(im, cax=cax, orientation='vertical')\n",
    "\n",
    "fig, ax = plt.subplots()\n",
    "im = ax.pcolormesh([0, .1, .2, .3, .4, .5, .6, .7, .8, .9, 1.], [1, 2, 4, 8, 16, 32, 64], arr, )\n",
    "ax.set_yscale('log')\n",
    "ax.set_yticks([1, 2, 4, 8, 16, 32, 64])\n",
    "ax.set_yticklabels([1, 2, 4, 8, 16, 32, 64])\n",
    "add_colorbar(im, fig, ax)\n"
   ]
  },
  {
   "cell_type": "code",
   "execution_count": 58,
   "metadata": {},
   "outputs": [
    {
     "data": {
      "text/plain": [
       "array([0, 1, 2, 3, 4, 5, 6])"
      ]
     },
     "execution_count": 58,
     "metadata": {},
     "output_type": "execute_result"
    }
   ],
   "source": [
    "data.y.unique().numpy()"
   ]
  }
 ],
 "metadata": {
  "interpreter": {
   "hash": "19b21e06a3ecf92dacb2d0dce038f81bb705746e8008c815c25552dc2d0953db"
  },
  "kernelspec": {
   "display_name": "Python 3.8.10 ('p-reg-env')",
   "language": "python",
   "name": "python3"
  },
  "language_info": {
   "codemirror_mode": {
    "name": "ipython",
    "version": 3
   },
   "file_extension": ".py",
   "mimetype": "text/x-python",
   "name": "python",
   "nbconvert_exporter": "python",
   "pygments_lexer": "ipython3",
   "version": "3.8.10"
  },
  "orig_nbformat": 4
 },
 "nbformat": 4,
 "nbformat_minor": 2
}
