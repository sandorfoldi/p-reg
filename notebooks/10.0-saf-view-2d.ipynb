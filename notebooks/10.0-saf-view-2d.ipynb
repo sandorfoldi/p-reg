{
 "cells": [
  {
   "cell_type": "code",
   "execution_count": 2,
   "metadata": {},
   "outputs": [
    {
     "name": "stdout",
     "output_type": "stream",
     "text": [
      "/home/sandor/dtu/2021-22-spring/advanced_machine_learning/p-reg\n"
     ]
    }
   ],
   "source": [
    "%cd .."
   ]
  },
  {
   "cell_type": "code",
   "execution_count": 15,
   "metadata": {},
   "outputs": [
    {
     "name": "stderr",
     "output_type": "stream",
     "text": [
      "No artists with labels found to put in legend.  Note that artists whose label start with an underscore are ignored when legend() is called with no argument.\n"
     ]
    },
    {
     "name": "stdout",
     "output_type": "stream",
     "text": [
      "   Unnamed: 0  seed  hidden_channels   mu  train_acc  val_acc  test_acc  \\\n",
      "0           0     0                1  0.0     0.4429    0.342     0.335   \n",
      "1           1     0                1  0.1     0.4429    0.344     0.343   \n",
      "2           2     0                1  0.2     0.4571    0.346     0.339   \n",
      "3           3     0                1  0.3     0.4857    0.352     0.341   \n",
      "4           4     0                1  0.4     0.4929    0.352     0.346   \n",
      "\n",
      "     icd0      icd3  \n",
      "0  0.5699  0.364966  \n",
      "1  0.5357  0.363067  \n",
      "2  0.5209  0.361455  \n",
      "3  0.4678  0.359196  \n",
      "4  0.4645  0.359630  \n"
     ]
    },
    {
     "data": {
      "image/png": "[encoded data removed]",
      "text/plain": [
       "<Figure size 432x288 with 2 Axes>"
      ]
     },
     "metadata": {
      "needs_background": "light"
     },
     "output_type": "display_data"
    }
   ],
   "source": [
    "import pandas as pd\n",
    "import numpy as np\n",
    "import matplotlib.pyplot as plt\n",
    "\n",
    "from mpl_toolkits.axes_grid1 import make_axes_locatable\n",
    "\n",
    "def add_colorbar(im, fig, ax):\n",
    "    divider = make_axes_locatable(ax)\n",
    "    cax = divider.append_axes('right', size='5%', pad=0.05)\n",
    "    fig.colorbar(im, cax=cax, orientation='vertical')\n",
    "\n",
    "\n",
    "df = pd.read_csv('reports/figures/acc_on_mu_and_neurons.csv')\n",
    "df['icd0'] = df['icd0'].apply(lambda l: float(l.split('(')[-1].split(')')[0]))\n",
    "print(df.head())\n",
    "# ridiculously slow implementation, but I don't want to figure this out now\n",
    "arr = np.zeros((df['hidden_channels'].unique().shape[0], df['mu'].unique().shape[0]))\n",
    "for ind_i, i in enumerate(df['hidden_channels'].unique()):\n",
    "    for ind_j, j in enumerate(df['mu'].unique()):\n",
    "        # print((df['hidden_channels'] == i) & (df['mu'] == j))\n",
    "        # print(df[(df['hidden_channels'] == i) & (df['mu'] == j)]['test_acc'])\n",
    "        arr[ind_i,ind_j] = df[(df['hidden_channels'] == i) & (df['mu'] == j)]['icd0'].mean()\n",
    "# plt.pcolormesh()\n",
    "\n",
    "\n",
    "\n",
    "fig, ax = plt.subplots()\n",
    "im = ax.pcolormesh([0, .1, .2, .3, .4, .5, .6, .7, .8, .9, 1.], [1, 2, 4, 8, 16, 32, 64, 128], arr, )\n",
    "ax.set_yscale('log')\n",
    "ax.set_yticks([1, 2, 4, 8, 16, 32, 64, 128])\n",
    "ax.set_yticklabels([1, 2, 4, 8, 16, 32, 64, 128])\n",
    "add_colorbar(im, fig, ax)\n",
    "ax.set(xlabel='Regularization factor', ylabel='No. neurons in hidden layer')\n",
    "ax.legend()\n",
    "plt.show()\n"
   ]
  },
  {
   "cell_type": "code",
   "execution_count": null,
   "metadata": {},
   "outputs": [],
   "source": []
  }
 ],
 "metadata": {
  "kernelspec": {
   "display_name": "Python 3.8.10 ('p-reg-env')",
   "language": "python",
   "name": "python3"
  },
  "language_info": {
   "codemirror_mode": {
    "name": "ipython",
    "version": 3
   },
   "file_extension": ".py",
   "mimetype": "text/x-python",
   "name": "python",
   "nbconvert_exporter": "python",
   "pygments_lexer": "ipython3",
   "version": "3.8.10"
  },
  "orig_nbformat": 4,
  "vscode": {
   "interpreter": {
    "hash": "19b21e06a3ecf92dacb2d0dce038f81bb705746e8008c815c25552dc2d0953db"
   }
  }
 },
 "nbformat": 4,
 "nbformat_minor": 2
}
