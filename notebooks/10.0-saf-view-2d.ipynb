{
 "cells": [
  {
   "cell_type": "code",
   "execution_count": 1,
   "metadata": {},
   "outputs": [
    {
     "name": "stdout",
     "output_type": "stream",
     "text": [
      "/home/sandor/dtu/2021-22-spring/advanced_machine_learning/p-reg\n"
     ]
    }
   ],
   "source": [
    "%cd .."
   ]
  },
  {
   "cell_type": "code",
   "execution_count": 9,
   "metadata": {},
   "outputs": [
    {
     "name": "stdout",
     "output_type": "stream",
     "text": [
      "   Unnamed: 0  seed  hidden_channels  mu  train_acc  val_acc  test_acc  \\\n",
      "0           0     0                1   0     0.4429    0.342     0.335   \n",
      "1           1     0                1   2     0.1429    0.122     0.130   \n",
      "2           2     0                1   4     0.1429    0.114     0.103   \n",
      "3           3     0                1   6     0.1429    0.114     0.103   \n",
      "4           4     0                1   8     0.1429    0.114     0.103   \n",
      "\n",
      "     icd0      icd1          icd2      icd3  \\\n",
      "0  0.5699  0.252966  1.923538e-06  0.364966   \n",
      "1  1.1702  2.141059  5.338325e-07  1.017062   \n",
      "2  0.7865  2.923626  5.004470e-07  1.247306   \n",
      "3  0.6404  3.327813  4.109456e-06  1.305374   \n",
      "4  0.5224  3.762182  2.534175e-05  1.383783   \n",
      "\n",
      "                                            icd4  \n",
      "0   [0.00026382032, 0.00011926885, 9.506412e-06]  \n",
      "1  [9.4533876e-05, 1.7476323e-05, 4.1389335e-06]  \n",
      "2   [8.9040455e-05, 1.556986e-05, 3.0583838e-06]  \n",
      "3  [0.00017121165, 4.2848722e-05, 4.6759533e-06]  \n",
      "4  [0.00031044259, 0.00013883857, 1.0684203e-05]  \n"
     ]
    },
    {
     "name": "stderr",
     "output_type": "stream",
     "text": [
      "No artists with labels found to put in legend.  Note that artists whose label start with an underscore are ignored when legend() is called with no argument.\n"
     ]
    },
    {
     "data": {
      "image/png": "[encoded data removed]",
      "text/plain": [
       "<Figure size 432x288 with 2 Axes>"
      ]
     },
     "metadata": {
      "needs_background": "light"
     },
     "output_type": "display_data"
    }
   ],
   "source": [
    "import pandas as pd\n",
    "import numpy as np\n",
    "import matplotlib.pyplot as plt\n",
    "\n",
    "from mpl_toolkits.axes_grid1 import make_axes_locatable\n",
    "\n",
    "def add_colorbar(im, fig, ax):\n",
    "    divider = make_axes_locatable(ax)\n",
    "    cax = divider.append_axes('right', size='5%', pad=0.05)\n",
    "    fig.colorbar(im, cax=cax, orientation='vertical')\n",
    "\n",
    "\n",
    "df = pd.read_csv('reports/figures/acc_on_mu_and_neurons.csv')\n",
    "df['icd0'] = df['icd0'].apply(lambda l: float(l.split('(')[-1].split(')')[0]))\n",
    "print(df.head())\n",
    "# ridiculously slow implementation, but I don't want to figure this out now\n",
    "arr = np.zeros((df['hidden_channels'].unique().shape[0], df['mu'].unique().shape[0]))\n",
    "for ind_i, i in enumerate(df['hidden_channels'].unique()):\n",
    "    for ind_j, j in enumerate(df['mu'].unique()):\n",
    "        # print((df['hidden_channels'] == i) & (df['mu'] == j))\n",
    "        # print(df[(df['hidden_channels'] == i) & (df['mu'] == j)]['test_acc'])\n",
    "        arr[ind_i,ind_j] = df[(df['hidden_channels'] == i) & (df['mu'] == j)]['icd0'].mean()\n",
    "# plt.pcolormesh()\n",
    "\n",
    "\n",
    "\n",
    "fig, ax = plt.subplots()\n",
    "im = ax.pcolormesh(list(map(lambda l: 2*l, [0, 1, 2, 3, 4, 5, 6, 7, 8, 9, 10, 11, 12, 13, 14, 15, 16, 17, 18, 19, 20])), [1, 2, 4, 8, 16, 32, 64, 128, 256], arr, )\n",
    "ax.set_yscale('log')\n",
    "ax.set_yticks([1, 2, 4, 8, 16, 32, 64, 128, 256])\n",
    "ax.set_yticklabels([1, 2, 4, 8, 16, 32, 64, 128, 256])\n",
    "add_colorbar(im, fig, ax)\n",
    "ax.set(xlabel='Regularization factor', ylabel='No. neurons in hidden layer')\n",
    "ax.legend()\n",
    "plt.show()\n"
   ]
  },
  {
   "cell_type": "code",
   "execution_count": null,
   "metadata": {},
   "outputs": [],
   "source": []
  }
 ],
 "metadata": {
  "kernelspec": {
   "display_name": "Python 3.8.10 ('p-reg-env')",
   "language": "python",
   "name": "python3"
  },
  "language_info": {
   "codemirror_mode": {
    "name": "ipython",
    "version": 3
   },
   "file_extension": ".py",
   "mimetype": "text/x-python",
   "name": "python",
   "nbconvert_exporter": "python",
   "pygments_lexer": "ipython3",
   "version": "3.8.10"
  },
  "orig_nbformat": 4,
  "vscode": {
   "interpreter": {
    "hash": "19b21e06a3ecf92dacb2d0dce038f81bb705746e8008c815c25552dc2d0953db"
   }
  }
 },
 "nbformat": 4,
 "nbformat_minor": 2
}
