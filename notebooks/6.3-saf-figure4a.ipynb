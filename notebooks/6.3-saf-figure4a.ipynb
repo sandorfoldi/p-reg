{
 "cells": [
  {
   "cell_type": "code",
   "execution_count": 1,
   "metadata": {},
   "outputs": [
    {
     "name": "stdout",
     "output_type": "stream",
     "text": [
      "/home/sandor/dtu/2021-22-spring/advanced_machine_learning/p-reg\n",
      "Obtaining file:///home/sandor/dtu/2021-22-spring/advanced_machine_learning/p-reg\n",
      "  Preparing metadata (setup.py) ... \u001b[?25ldone\n",
      "\u001b[?25hInstalling collected packages: src\n",
      "  Attempting uninstall: src\n",
      "    Found existing installation: src 0.1.0\n",
      "    Uninstalling src-0.1.0:\n",
      "      Successfully uninstalled src-0.1.0\n",
      "  Running setup.py develop for src\n",
      "Successfully installed src-0.1.0\n",
      "Note: you may need to restart the kernel to use updated packages.\n"
     ]
    }
   ],
   "source": [
    "%cd ..\n",
    "%pip install -e ."
   ]
  },
  {
   "cell_type": "code",
   "execution_count": 9,
   "metadata": {},
   "outputs": [],
   "source": [
    "import random\n",
    "\n",
    "import numpy as np\n",
    "import pandas as pd\n",
    "\n",
    "from tqdm import tqdm\n",
    "\n",
    "from src.models.dense import NN0\n",
    "from src.models.dense import NN1\n",
    "from src.models.gcn import GCN1\n",
    "from src.models.gat import GAT\n",
    "\n",
    "from src.models.train_model import train_with_loss\n",
    "from src.models.train_model import random_splits\n",
    "\n",
    "from src.models.reg import make_preg_loss\n",
    "from src.models.reg import make_lap_loss\n",
    "from src.models.intra_class_softmax import intra_class_distance\n",
    "\n",
    "from src.models.reg import compute_a_hat\n",
    "\n",
    "from src.models.evaluate_model import evaluate0\n",
    "from src.models.evaluate_model import evaluate1\n",
    "\n",
    "import torch\n",
    "import torch.nn.functional as F\n",
    "import matplotlib.pyplot as plt\n",
    "\n",
    "from torch_geometric.data import Data\n",
    "from torch_geometric.loader import DataLoader\n",
    "from torch_geometric.datasets import Planetoid\n",
    "import torch_geometric.transforms as T\n",
    "from sklearn.manifold import TSNE\n",
    "\n",
    "from src.models.evaluate_model import test"
   ]
  },
  {
   "cell_type": "code",
   "execution_count": 10,
   "metadata": {},
   "outputs": [],
   "source": [
    "device = torch.device('cuda' if torch.cuda.is_available() else 'cpu')\n",
    "dataset = Planetoid(root='data/Planetoid', name='Cora', transform=T.NormalizeFeatures())\n",
    "data = dataset[0].to(device)\n",
    "\n",
    "A_hat = compute_a_hat(data)\n",
    "\n",
    "# data = random_splits(data, 50, 20)\n",
    "data.reg_mask = torch.ones_like(data.train_mask, dtype=torch.bool)\n",
    "\n",
    "L_cls = lambda x, y: F.cross_entropy(x, y, reduction='sum')\n",
    "L_preg = lambda x, y: - (x * torch.log(y)).sum()\n"
   ]
  },
  {
   "cell_type": "code",
   "execution_count": 12,
   "metadata": {},
   "outputs": [
    {
     "name": "stdout",
     "output_type": "stream",
     "text": [
      "-------------------------------------------------------------\n",
      "train size: 140\n",
      "val size: 500\n",
      "test size: 1000\n",
      "-------------------------------------------------------------\n",
      "{'mu': 0.0, 'train_acc': 0.9857, 'val_acc': 0.798, 'test_acc': 0.801, 'intra_class_distance': tensor(0.1213)}\n",
      "{'mu': 0.1, 'train_acc': 0.9857, 'val_acc': 0.804, 'test_acc': 0.813, 'intra_class_distance': tensor(0.1193)}\n",
      "{'mu': 0.2, 'train_acc': 0.9929, 'val_acc': 0.818, 'test_acc': 0.825, 'intra_class_distance': tensor(0.1195)}\n",
      "{'mu': 0.3, 'train_acc': 0.9929, 'val_acc': 0.812, 'test_acc': 0.827, 'intra_class_distance': tensor(0.1186)}\n",
      "{'mu': 0.4, 'train_acc': 0.9857, 'val_acc': 0.814, 'test_acc': 0.823, 'intra_class_distance': tensor(0.1182)}\n",
      "{'mu': 0.5, 'train_acc': 0.9786, 'val_acc': 0.812, 'test_acc': 0.83, 'intra_class_distance': tensor(0.1196)}\n",
      "{'mu': 0.6, 'train_acc': 0.9786, 'val_acc': 0.788, 'test_acc': 0.823, 'intra_class_distance': tensor(0.1195)}\n",
      "{'mu': 0.7, 'train_acc': 0.9714, 'val_acc': 0.75, 'test_acc': 0.764, 'intra_class_distance': tensor(0.1206)}\n",
      "{'mu': 0.8, 'train_acc': 0.9643, 'val_acc': 0.712, 'test_acc': 0.715, 'intra_class_distance': tensor(0.1270)}\n"
     ]
    }
   ],
   "source": [
    "print('-------------------------------------------------------------')\n",
    "print(f'train size: {data.train_mask.sum()}')\n",
    "print(f'val size: {data.val_mask.sum()}')\n",
    "print(f'test size: {data.test_mask.sum()}')\n",
    "print('-------------------------------------------------------------')\n",
    "\n",
    "metrics = []\n",
    "\n",
    "for mu in range(9):\n",
    "    torch.manual_seed(1)\n",
    "    random.seed(1)\n",
    "\n",
    "    mu = mu / 10\n",
    "    loss_fn = make_preg_loss(L_cls, L_preg, mu, A_hat)\n",
    "    \n",
    "    model = GCN1(num_node_features=dataset.num_node_features,\n",
    "        num_classes=dataset.num_classes) \\\n",
    "        .to(device)\n",
    "\n",
    "    model = train_with_loss(model, data, loss_fn, num_epochs=200)\n",
    "\n",
    "    acc = evaluate0(model, data)\n",
    "\n",
    "    train_acc, val_acc, test_acc = evaluate1(model, data)\n",
    "    icd = intra_class_distance(model(data), data)\n",
    "    metrics.append({'mu': mu, 'train_acc': np.round(train_acc,4), 'val_acc': np.round(val_acc,4), 'test_acc': np.round(test_acc,4), 'intra_class_distance': np.round(icd, 4)})\n",
    "    print(metrics[-1])\n",
    "    # print(f'mu: {mu}, train_acc: {train_acc:.4f}, val_acc: {val_acc:.4f}, test_acc: {test_acc:.4f}')\n",
    "    # print('-------------------------------------------------------------')\n"
   ]
  },
  {
   "cell_type": "code",
   "execution_count": null,
   "metadata": {},
   "outputs": [],
   "source": []
  }
 ],
 "metadata": {
  "interpreter": {
   "hash": "19b21e06a3ecf92dacb2d0dce038f81bb705746e8008c815c25552dc2d0953db"
  },
  "kernelspec": {
   "display_name": "Python 3.8.10 ('p-reg-env')",
   "language": "python",
   "name": "python3"
  },
  "language_info": {
   "codemirror_mode": {
    "name": "ipython",
    "version": 3
   },
   "file_extension": ".py",
   "mimetype": "text/x-python",
   "name": "python",
   "nbconvert_exporter": "python",
   "pygments_lexer": "ipython3",
   "version": "3.8.10"
  },
  "orig_nbformat": 4
 },
 "nbformat": 4,
 "nbformat_minor": 2
}
