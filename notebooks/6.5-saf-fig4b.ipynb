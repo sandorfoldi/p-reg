{
 "cells": [
  {
   "cell_type": "code",
   "execution_count": 1,
   "metadata": {},
   "outputs": [
    {
     "name": "stdout",
     "output_type": "stream",
     "text": [
      "/home/sandor/dtu/2021-22-spring/advanced_machine_learning/p-reg\n",
      "Obtaining file:///home/sandor/dtu/2021-22-spring/advanced_machine_learning/p-reg\n",
      "  Preparing metadata (setup.py) ... \u001b[?25ldone\n",
      "\u001b[?25hInstalling collected packages: src\n",
      "  Attempting uninstall: src\n",
      "    Found existing installation: src 0.1.0\n",
      "    Uninstalling src-0.1.0:\n",
      "      Successfully uninstalled src-0.1.0\n",
      "  Running setup.py develop for src\n",
      "Successfully installed src-0.1.0\n",
      "Note: you may need to restart the kernel to use updated packages.\n"
     ]
    }
   ],
   "source": [
    "%cd ..\n",
    "%pip install -e ."
   ]
  },
  {
   "cell_type": "code",
   "execution_count": 5,
   "metadata": {},
   "outputs": [],
   "source": [
    "import random\n",
    "\n",
    "import numpy as np\n",
    "import pandas as pd\n",
    "\n",
    "from src.models.gcn import GCN_fix_2layer\n",
    "from src.models.gcn import GCN_fix_3layer\n",
    "from src.models.gcn import GCN_fix_4layer\n",
    "\n",
    "from src.models.train_model import train_with_loss\n",
    "from src.models.train_model import random_splits\n",
    "\n",
    "from src.models.reg import make_preg_ce_ce_alt\n",
    "from src.models.reg import compute_a_hat\n",
    "\n",
    "from src.models.evaluate_model import evaluate1\n",
    "\n",
    "import torch\n",
    "import torch.nn.functional as F\n",
    "import matplotlib.pyplot as plt\n",
    "\n",
    "from torch_geometric.data import Data\n",
    "from torch_geometric.loader import DataLoader\n",
    "from torch_geometric.datasets import Planetoid\n",
    "import torch_geometric.transforms as T\n",
    "from sklearn.manifold import TSNE\n",
    "\n",
    "from src.models.evaluate_model import test\n",
    "from tqdm import tqdm\n"
   ]
  },
  {
   "cell_type": "code",
   "execution_count": 6,
   "metadata": {},
   "outputs": [],
   "source": [
    "device = torch.device('cuda' if torch.cuda.is_available() else 'cpu')\n",
    "dataset = Planetoid(root='data/Planetoid', name='Cora', transform=T.NormalizeFeatures())\n",
    "data = dataset[0].to(device)\n",
    "\n",
    "A_hat = compute_a_hat(data)\n",
    "\n",
    "data.reg_mask = torch.ones_like(data.train_mask, dtype=torch.bool)"
   ]
  },
  {
   "cell_type": "code",
   "execution_count": 7,
   "metadata": {},
   "outputs": [
    {
     "name": "stdout",
     "output_type": "stream",
     "text": [
      "-------------------------------------------------------------\n",
      "train size: 140\n",
      "val size: 500\n",
      "test size: 1000\n",
      "-------------------------------------------------------------\n",
      "{'num_layers': 2, 'mu': 0.0, 'train_acc': 1.0, 'val_acc': 0.784, 'test_acc': 0.8}\n",
      "{'num_layers': 2, 'mu': 0.1, 'train_acc': 1.0, 'val_acc': 0.794, 'test_acc': 0.817}\n",
      "{'num_layers': 2, 'mu': 0.2, 'train_acc': 0.9929, 'val_acc': 0.802, 'test_acc': 0.822}\n",
      "{'num_layers': 2, 'mu': 0.3, 'train_acc': 0.9929, 'val_acc': 0.802, 'test_acc': 0.821}\n",
      "{'num_layers': 2, 'mu': 0.4, 'train_acc': 0.9929, 'val_acc': 0.806, 'test_acc': 0.819}\n",
      "{'num_layers': 2, 'mu': 0.5, 'train_acc': 0.9929, 'val_acc': 0.806, 'test_acc': 0.821}\n",
      "{'num_layers': 2, 'mu': 0.6, 'train_acc': 0.9929, 'val_acc': 0.802, 'test_acc': 0.821}\n",
      "{'num_layers': 2, 'mu': 0.7, 'train_acc': 0.9929, 'val_acc': 0.724, 'test_acc': 0.768}\n",
      "{'num_layers': 2, 'mu': 0.8, 'train_acc': 0.9571, 'val_acc': 0.518, 'test_acc': 0.521}\n",
      "{'num_layers': 2, 'mu': 0.9, 'train_acc': 0.9286, 'val_acc': 0.466, 'test_acc': 0.463}\n",
      "{'num_layers': 2, 'mu': 1.0, 'train_acc': 0.8929, 'val_acc': 0.41, 'test_acc': 0.411}\n",
      "{'num_layers': 3, 'mu': 0.0, 'train_acc': 0.9929, 'val_acc': 0.758, 'test_acc': 0.783}\n",
      "{'num_layers': 3, 'mu': 0.1, 'train_acc': 1.0, 'val_acc': 0.79, 'test_acc': 0.811}\n",
      "{'num_layers': 3, 'mu': 0.2, 'train_acc': 1.0, 'val_acc': 0.81, 'test_acc': 0.82}\n",
      "{'num_layers': 3, 'mu': 0.3, 'train_acc': 1.0, 'val_acc': 0.812, 'test_acc': 0.818}\n",
      "{'num_layers': 3, 'mu': 0.4, 'train_acc': 1.0, 'val_acc': 0.808, 'test_acc': 0.819}\n",
      "{'num_layers': 3, 'mu': 0.5, 'train_acc': 1.0, 'val_acc': 0.802, 'test_acc': 0.811}\n",
      "{'num_layers': 3, 'mu': 0.6, 'train_acc': 1.0, 'val_acc': 0.796, 'test_acc': 0.808}\n",
      "{'num_layers': 3, 'mu': 0.7, 'train_acc': 1.0, 'val_acc': 0.796, 'test_acc': 0.809}\n",
      "{'num_layers': 3, 'mu': 0.8, 'train_acc': 1.0, 'val_acc': 0.802, 'test_acc': 0.806}\n",
      "{'num_layers': 3, 'mu': 0.9, 'train_acc': 1.0, 'val_acc': 0.798, 'test_acc': 0.807}\n",
      "{'num_layers': 3, 'mu': 1.0, 'train_acc': 1.0, 'val_acc': 0.796, 'test_acc': 0.81}\n",
      "{'num_layers': 4, 'mu': 0.0, 'train_acc': 1.0, 'val_acc': 0.774, 'test_acc': 0.769}\n",
      "{'num_layers': 4, 'mu': 0.1, 'train_acc': 1.0, 'val_acc': 0.79, 'test_acc': 0.797}\n",
      "{'num_layers': 4, 'mu': 0.2, 'train_acc': 0.9929, 'val_acc': 0.788, 'test_acc': 0.795}\n",
      "{'num_layers': 4, 'mu': 0.3, 'train_acc': 0.1429, 'val_acc': 0.122, 'test_acc': 0.13}\n",
      "{'num_layers': 4, 'mu': 0.4, 'train_acc': 0.1429, 'val_acc': 0.122, 'test_acc': 0.13}\n",
      "{'num_layers': 4, 'mu': 0.5, 'train_acc': 0.1429, 'val_acc': 0.122, 'test_acc': 0.13}\n",
      "{'num_layers': 4, 'mu': 0.6, 'train_acc': 0.1429, 'val_acc': 0.122, 'test_acc': 0.13}\n",
      "{'num_layers': 4, 'mu': 0.7, 'train_acc': 0.1429, 'val_acc': 0.122, 'test_acc': 0.13}\n",
      "{'num_layers': 4, 'mu': 0.8, 'train_acc': 0.1429, 'val_acc': 0.122, 'test_acc': 0.13}\n",
      "{'num_layers': 4, 'mu': 0.9, 'train_acc': 0.1429, 'val_acc': 0.122, 'test_acc': 0.13}\n",
      "{'num_layers': 4, 'mu': 1.0, 'train_acc': 0.1429, 'val_acc': 0.122, 'test_acc': 0.13}\n"
     ]
    }
   ],
   "source": [
    "print('-------------------------------------------------------------')\n",
    "print(f'train size: {data.train_mask.sum()}')\n",
    "print(f'val size: {data.val_mask.sum()}')\n",
    "print(f'test size: {data.test_mask.sum()}')\n",
    "print('-------------------------------------------------------------')\n",
    "\n",
    "metrics = []\n",
    "\n",
    "for num_layers in [2, 3, 4]:\n",
    "    for mu in [.0, .1, .2, .3, .4, .5, .6, .7, .8, .9, 1.]:\n",
    "        torch.manual_seed(1)\n",
    "        random.seed(1)\n",
    "\n",
    "        loss_fn = make_preg_ce_ce_alt(mu, A_hat)\n",
    "\n",
    "        if num_layers == 2:\n",
    "            model = GCN_fix_2layer()\n",
    "        elif num_layers == 3:\n",
    "            model = GCN_fix_3layer()\n",
    "        elif num_layers == 4:\n",
    "            model = GCN_fix_4layer()\n",
    "        else:\n",
    "            raise NotImplementedError   \n",
    "\n",
    "        model = train_with_loss(model, data, loss_fn, num_epochs=200)\n",
    "\n",
    "        train_acc, val_acc, test_acc = evaluate1(model, data)\n",
    "        metrics.append({'num_layers': num_layers, 'mu': mu, 'train_acc': np.round(train_acc,4), 'val_acc': np.round(val_acc,4), 'test_acc': np.round(test_acc,4)})\n",
    "        print(metrics[-1])"
   ]
  },
  {
   "cell_type": "code",
   "execution_count": 8,
   "metadata": {},
   "outputs": [
    {
     "data": {
      "text/html": [
       "<div>\n",
       "<style scoped>\n",
       "    .dataframe tbody tr th:only-of-type {\n",
       "        vertical-align: middle;\n",
       "    }\n",
       "\n",
       "    .dataframe tbody tr th {\n",
       "        vertical-align: top;\n",
       "    }\n",
       "\n",
       "    .dataframe thead th {\n",
       "        text-align: right;\n",
       "    }\n",
       "</style>\n",
       "<table border=\"1\" class=\"dataframe\">\n",
       "  <thead>\n",
       "    <tr style=\"text-align: right;\">\n",
       "      <th></th>\n",
       "      <th>num_layers</th>\n",
       "      <th>mu</th>\n",
       "      <th>train_acc</th>\n",
       "      <th>val_acc</th>\n",
       "      <th>test_acc</th>\n",
       "    </tr>\n",
       "  </thead>\n",
       "  <tbody>\n",
       "    <tr>\n",
       "      <th>3</th>\n",
       "      <td>2</td>\n",
       "      <td>0.3</td>\n",
       "      <td>0.9929</td>\n",
       "      <td>0.802</td>\n",
       "      <td>0.821</td>\n",
       "    </tr>\n",
       "    <tr>\n",
       "      <th>14</th>\n",
       "      <td>3</td>\n",
       "      <td>0.3</td>\n",
       "      <td>1.0000</td>\n",
       "      <td>0.812</td>\n",
       "      <td>0.818</td>\n",
       "    </tr>\n",
       "    <tr>\n",
       "      <th>25</th>\n",
       "      <td>4</td>\n",
       "      <td>0.3</td>\n",
       "      <td>0.1429</td>\n",
       "      <td>0.122</td>\n",
       "      <td>0.130</td>\n",
       "    </tr>\n",
       "  </tbody>\n",
       "</table>\n",
       "</div>"
      ],
      "text/plain": [
       "    num_layers   mu  train_acc  val_acc  test_acc\n",
       "3            2  0.3     0.9929    0.802     0.821\n",
       "14           3  0.3     1.0000    0.812     0.818\n",
       "25           4  0.3     0.1429    0.122     0.130"
      ]
     },
     "execution_count": 8,
     "metadata": {},
     "output_type": "execute_result"
    }
   ],
   "source": [
    "df = pd.DataFrame(metrics)\n",
    "df[df['mu']==.3]"
   ]
  },
  {
   "cell_type": "code",
   "execution_count": 11,
   "metadata": {},
   "outputs": [
    {
     "data": {
      "image/png": "[encoded data removed]",
      "text/plain": [
       "<Figure size 432x288 with 1 Axes>"
      ]
     },
     "metadata": {
      "needs_background": "light"
     },
     "output_type": "display_data"
    }
   ],
   "source": [
    "df = pd.DataFrame(metrics)\n",
    "fig, ax = plt.subplots()\n",
    "\n",
    "filt = (df['num_layers'] == 2)\n",
    "ax.plot(df[filt]['mu'], df[filt]['test_acc'], '-*b')\n",
    "\n",
    "filt = (df['num_layers'] == 3)\n",
    "ax.plot(df[filt]['mu'], df[filt]['test_acc'], '-*g')\n",
    "\n",
    "filt = (df['num_layers'] == 4)\n",
    "ax.plot(df[filt]['mu'], df[filt]['test_acc'], '-*r')\n",
    "\n",
    "ax.set(ylim=(.0, 1.))\n",
    "plt.show()"
   ]
  },
  {
   "cell_type": "code",
   "execution_count": null,
   "metadata": {},
   "outputs": [],
   "source": []
  }
 ],
 "metadata": {
  "interpreter": {
   "hash": "19b21e06a3ecf92dacb2d0dce038f81bb705746e8008c815c25552dc2d0953db"
  },
  "kernelspec": {
   "display_name": "Python 3.8.10 ('p-reg-env')",
   "language": "python",
   "name": "python3"
  },
  "language_info": {
   "codemirror_mode": {
    "name": "ipython",
    "version": 3
   },
   "file_extension": ".py",
   "mimetype": "text/x-python",
   "name": "python",
   "nbconvert_exporter": "python",
   "pygments_lexer": "ipython3",
   "version": "3.8.10"
  },
  "orig_nbformat": 4
 },
 "nbformat": 4,
 "nbformat_minor": 2
}
