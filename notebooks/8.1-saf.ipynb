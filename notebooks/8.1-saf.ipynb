{
 "cells": [
  {
   "cell_type": "code",
   "execution_count": 1,
   "metadata": {},
   "outputs": [
    {
     "name": "stdout",
     "output_type": "stream",
     "text": [
      "/home/sandor/dtu/2021-22-spring/advanced_machine_learning/p-reg\n",
      "Obtaining file:///home/sandor/dtu/2021-22-spring/advanced_machine_learning/p-reg\n",
      "  Preparing metadata (setup.py) ... \u001b[?25ldone\n",
      "\u001b[?25hInstalling collected packages: src\n",
      "  Attempting uninstall: src\n",
      "    Found existing installation: src 0.1.0\n",
      "    Uninstalling src-0.1.0:\n",
      "      Successfully uninstalled src-0.1.0\n",
      "  Running setup.py develop for src\n",
      "Successfully installed src-0.1.0\n",
      "Note: you may need to restart the kernel to use updated packages.\n"
     ]
    }
   ],
   "source": [
    "%cd ..\n",
    "%pip install -e ."
   ]
  },
  {
   "cell_type": "code",
   "execution_count": 2,
   "metadata": {},
   "outputs": [],
   "source": [
    "import random\n",
    "\n",
    "import numpy as np\n",
    "import pandas as pd\n",
    "\n",
    "from src.models.gcn import GCN_var_2layer\n",
    "from src.models.gat import GAT\n",
    "\n",
    "from src.models.train_model import train_with_loss\n",
    "from src.models.train_model import random_splits\n",
    "\n",
    "from src.models.reg import make_preg_ce_ce\n",
    "from src.models.reg import make_preg_ce_ce_alt\n",
    "from src.models.reg import make_lap_loss_ce\n",
    "\n",
    "from src.models.reg import compute_a_hat\n",
    "\n",
    "from src.models.evaluate_model import evaluate0\n",
    "from src.models.evaluate_model import evaluate1\n",
    "\n",
    "import torch\n",
    "import torch.nn.functional as F\n",
    "import matplotlib.pyplot as plt\n",
    "\n",
    "from torch_geometric.data import Data\n",
    "from torch_geometric.loader import DataLoader\n",
    "from torch_geometric.datasets import Planetoid\n",
    "import torch_geometric.transforms as T\n",
    "from sklearn.manifold import TSNE\n",
    "\n",
    "from src.models.evaluate_model import test\n",
    "from tqdm import tqdm\n"
   ]
  },
  {
   "cell_type": "code",
   "execution_count": 3,
   "metadata": {},
   "outputs": [
    {
     "data": {
      "text/plain": [
       "'data = dataset[0].to(device)\\ndata = random_splits(data, 20, 30)\\ndata.reg_mask = torch.ones_like(data.train_mask, dtype=torch.bool)\\nA_hat = compute_a_hat(data)'"
      ]
     },
     "execution_count": 3,
     "metadata": {},
     "output_type": "execute_result"
    }
   ],
   "source": [
    "device = torch.device('cuda' if torch.cuda.is_available() else 'cpu')\n",
    "\n",
    "dataset_cora = Planetoid(root='data/Planetoid', name='Cora', transform=T.NormalizeFeatures())\n",
    "dataset_citeseer = Planetoid(root='data/Planetoid', name='CiteSeer', transform=T.NormalizeFeatures())\n",
    "dataset_pubmed = Planetoid(root='data/Planetoid', name='PubMed', transform=T.NormalizeFeatures())\n",
    "\n",
    "\"\"\"data = dataset[0].to(device)\n",
    "data = random_splits(data, 20, 30)\n",
    "data.reg_mask = torch.ones_like(data.train_mask, dtype=torch.bool)\n",
    "A_hat = compute_a_hat(data)\"\"\"\n",
    "\n"
   ]
  },
  {
   "cell_type": "code",
   "execution_count": 4,
   "metadata": {},
   "outputs": [
    {
     "name": "stdout",
     "output_type": "stream",
     "text": [
      "{'model_name': 'gcn_vanilla', 'seed': 0, 'train_acc': 1.0, 'val_acc': 0.8333, 'test_acc': 0.8083}\n",
      "{'model_name': 'gcn_preg', 'seed': 0, 'train_acc': 1.0, 'val_acc': 0.8476, 'test_acc': 0.8469}\n",
      "{'model_name': 'gcn_vanilla', 'seed': 1, 'train_acc': 1.0, 'val_acc': 0.8286, 'test_acc': 0.7578}\n",
      "{'model_name': 'gcn_preg', 'seed': 1, 'train_acc': 1.0, 'val_acc': 0.8381, 'test_acc': 0.8092}\n",
      "{'model_name': 'gcn_vanilla', 'seed': 2, 'train_acc': 1.0, 'val_acc': 0.8286, 'test_acc': 0.7973}\n",
      "{'model_name': 'gcn_preg', 'seed': 2, 'train_acc': 1.0, 'val_acc': 0.8238, 'test_acc': 0.8414}\n",
      "{'model_name': 'gcn_vanilla', 'seed': 3, 'train_acc': 1.0, 'val_acc': 0.8, 'test_acc': 0.8079}\n",
      "{'model_name': 'gcn_preg', 'seed': 3, 'train_acc': 1.0, 'val_acc': 0.781, 'test_acc': 0.8223}\n",
      "{'model_name': 'gcn_vanilla', 'seed': 4, 'train_acc': 1.0, 'val_acc': 0.8619, 'test_acc': 0.7956}\n",
      "{'model_name': 'gcn_preg', 'seed': 4, 'train_acc': 0.9929, 'val_acc': 0.8095, 'test_acc': 0.796}\n"
     ]
    }
   ],
   "source": [
    "metrics_1 = []\n",
    "for dataset in [dataset_cora]:\n",
    "    for seed in [0,1,2,3,4]:\n",
    "        for model_name in ['gcn_vanilla', 'gcn_preg']:\n",
    "            torch.manual_seed(seed)\n",
    "            random.seed(seed)\n",
    "\n",
    "            data = dataset[0].to(device)\n",
    "            data = random_splits(data, 20, 30)\n",
    "            data.reg_mask = torch.ones_like(data.train_mask, dtype=torch.bool)\n",
    "            A_hat = compute_a_hat(data)\n",
    "\n",
    "            if model_name == 'gcn_vanilla':\n",
    "                loss_fn = make_preg_ce_ce_alt(0, A_hat)    \n",
    "                model = GCN_var_2layer(hidden_channels=64)\n",
    "\n",
    "            elif model_name == 'gcn_preg':\n",
    "                loss_fn = make_preg_ce_ce_alt(0.7, A_hat)    \n",
    "                model = GCN_var_2layer(hidden_channels=64)\n",
    "\n",
    "            elif model_name == 'gat_vanilla':\n",
    "                loss_fn = make_preg_ce_ce_alt(0, A_hat)    \n",
    "                model = GAT(dataset)\n",
    "\n",
    "            elif model_name == 'gat_preg':\n",
    "                loss_fn = make_preg_ce_ce_alt(0.6, A_hat)    \n",
    "                model = GAT(dataset)\n",
    "\n",
    "            else:\n",
    "                raise Exception\n",
    "            model = train_with_loss(model, data, loss_fn, num_epochs=200)\n",
    "\n",
    "            acc = evaluate0(model, data)\n",
    "\n",
    "            train_acc, val_acc, test_acc = evaluate1(model, data)\n",
    "            metrics_1.append({'model_name': model_name, 'seed': seed,  'train_acc': np.round(train_acc,4), 'val_acc': np.round(val_acc,4), 'test_acc': np.round(test_acc,4)})\n",
    "            print(metrics_1[-1])\n",
    "            # print(f'mu: {mu}, train_acc: {train_acc:.4f}, val_acc: {val_acc:.4f}, test_acc: {test_acc:.4f}')\n",
    "            # print('-------------------------------------------------------------')\n"
   ]
  },
  {
   "cell_type": "code",
   "execution_count": 14,
   "metadata": {},
   "outputs": [
    {
     "name": "stdout",
     "output_type": "stream",
     "text": [
      "gcn_vanilla_mean: 0.79338\n",
      "gcn_vanilla_std: 0.020734439949031642\n",
      "gcn_preg_mean: 0.82316\n",
      "gcn_preg_std: 0.021386748233427153\n"
     ]
    }
   ],
   "source": [
    "df = pd.DataFrame(metrics_1)\n",
    "print(f\"gcn_vanilla_mean: {df[df['model_name']=='gcn_vanilla']['test_acc'].mean()}\")\n",
    "print(f\"gcn_vanilla_std: {df[df['model_name']=='gcn_vanilla']['test_acc'].std()}\")\n",
    "\n",
    "print(f\"gcn_preg_mean: {df[df['model_name']=='gcn_preg']['test_acc'].mean()}\")\n",
    "print(f\"gcn_preg_std: {df[df['model_name']=='gcn_preg']['test_acc'].std()}\")"
   ]
  },
  {
   "cell_type": "code",
   "execution_count": null,
   "metadata": {},
   "outputs": [
    {
     "name": "stdout",
     "output_type": "stream",
     "text": [
      "gcn_vanilla_mean: 0.79338\n",
      "gcn_vanilla_std: 0.020734439949031642\n",
      "gcn_preg_mean: 0.82316\n",
      "gcn_preg_std: 0.021386748233427153\n"
     ]
    }
   ],
   "source": [
    "df = pd.DataFrame(metrics_1)\n",
    "print(f\"gcn_vanilla_mean: {df[df['model_name']=='gcn_vanilla']['test_acc'].mean()}\")\n",
    "print(f\"gcn_vanilla_std: {df[df['model_name']=='gcn_vanilla']['test_acc'].std()}\")\n",
    "\n",
    "print(f\"gcn_preg_mean: {df[df['model_name']=='gcn_preg']['test_acc'].mean()}\")\n",
    "print(f\"gcn_preg_std: {df[df['model_name']=='gcn_preg']['test_acc'].std()}\")"
   ]
  },
  {
   "cell_type": "code",
   "execution_count": 13,
   "metadata": {},
   "outputs": [
    {
     "name": "stdout",
     "output_type": "stream",
     "text": [
      "gcn_vanilla_std: 0.020734439949031642\n",
      "gcn_preg_mean: 0.82316\n",
      "gcn_preg_std: 0.021386748233427153\n"
     ]
    }
   ],
   "source": []
  }
 ],
 "metadata": {
  "interpreter": {
   "hash": "19b21e06a3ecf92dacb2d0dce038f81bb705746e8008c815c25552dc2d0953db"
  },
  "kernelspec": {
   "display_name": "Python 3.8.10 ('p-reg-env')",
   "language": "python",
   "name": "python3"
  },
  "language_info": {
   "codemirror_mode": {
    "name": "ipython",
    "version": 3
   },
   "file_extension": ".py",
   "mimetype": "text/x-python",
   "name": "python",
   "nbconvert_exporter": "python",
   "pygments_lexer": "ipython3",
   "version": "3.8.10"
  },
  "orig_nbformat": 4
 },
 "nbformat": 4,
 "nbformat_minor": 2
}
